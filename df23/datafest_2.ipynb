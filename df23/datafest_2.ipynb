{
 "cells": [
  {
   "cell_type": "code",
   "execution_count": 52,
   "id": "daa58e23-f30f-4b5e-9cff-b8b19110010b",
   "metadata": {},
   "outputs": [
    {
     "name": "stderr",
     "output_type": "stream",
     "text": [
      "/var/folders/yf/fd80q5yj55n0chpzj3btwkt40000gn/T/ipykernel_19104/3200265314.py:8: DtypeWarning: Columns (0) have mixed types. Specify dtype option on import or set low_memory=False.\n",
      "  posts = pd.read_csv('questionposts.csv', usecols=range(5), lineterminator='\\n')\n"
     ]
    }
   ],
   "source": [
    "import pandas as pd\n",
    "import regex as re\n",
    "\n",
    "attorney = pd.read_csv(\"attorneys.csv\")\n",
    "att_time = pd.read_csv(\"AttorneyTimeEntries.csv\")\n",
    "categories = pd.read_csv(\"categories.csv\")\n",
    "clients = pd.read_csv(\"clients.csv\")\n",
    "posts = pd.read_csv('questionposts.csv', usecols=range(5), lineterminator='\\n')\n",
    "questions = pd.read_csv(\"questions.csv\")\n",
    "sites = pd.read_csv(\"statesites.csv\")\n",
    "subcat = pd.read_csv(\"subcategories.csv\")"
   ]
  },
  {
   "cell_type": "code",
   "execution_count": 53,
   "id": "01ec6736-739f-431a-a89d-c3fa51ce982b",
   "metadata": {},
   "outputs": [],
   "source": [
    "merged = pd.merge(posts, questions, on=\"QuestionUno\")"
   ]
  },
  {
   "cell_type": "code",
   "execution_count": 112,
   "id": "926ac3a1-c2c2-4e48-9815-b7b3265854dc",
   "metadata": {},
   "outputs": [
    {
     "data": {
      "text/html": [
       "<div>\n",
       "<style scoped>\n",
       "    .dataframe tbody tr th:only-of-type {\n",
       "        vertical-align: middle;\n",
       "    }\n",
       "\n",
       "    .dataframe tbody tr th {\n",
       "        vertical-align: top;\n",
       "    }\n",
       "\n",
       "    .dataframe thead th {\n",
       "        text-align: right;\n",
       "    }\n",
       "</style>\n",
       "<table border=\"1\" class=\"dataframe\">\n",
       "  <thead>\n",
       "    <tr style=\"text-align: right;\">\n",
       "      <th></th>\n",
       "      <th>Id_x</th>\n",
       "      <th>StateAbbr_x</th>\n",
       "      <th>QuestionUno</th>\n",
       "      <th>PostText</th>\n",
       "      <th>CreatedUtc</th>\n",
       "      <th>Id_y</th>\n",
       "      <th>StateAbbr_y</th>\n",
       "      <th>CategoryUno</th>\n",
       "      <th>Category</th>\n",
       "      <th>SubcategoryUno</th>\n",
       "      <th>Subcategory</th>\n",
       "      <th>AskedByClientUno</th>\n",
       "      <th>AskedOnUtc</th>\n",
       "      <th>TakenByAttorneyUno</th>\n",
       "      <th>TakenOnUtc</th>\n",
       "      <th>ClosedByAttorneyUno</th>\n",
       "      <th>ClosedOnUtc</th>\n",
       "      <th>LegalDeadline</th>\n",
       "      <th>response</th>\n",
       "      <th>pickup</th>\n",
       "    </tr>\n",
       "  </thead>\n",
       "  <tbody>\n",
       "    <tr>\n",
       "      <th>0</th>\n",
       "      <td>1</td>\n",
       "      <td>AK</td>\n",
       "      <td>B7C95D50-6C81-4E61-BC16-81077B7D3F7E</td>\n",
       "      <td>Do you still need help with this issue?  It ha...</td>\n",
       "      <td>2018-04-25 18:09:30</td>\n",
       "      <td>118516</td>\n",
       "      <td>AK</td>\n",
       "      <td>2D43B4FD-FAC8-47C3-A891-085F5D74D64B</td>\n",
       "      <td>Housing and Homelessness</td>\n",
       "      <td>6F28DF84-2BDA-48AE-97F8-A083D20E3EC8</td>\n",
       "      <td>Housing or Property Owned</td>\n",
       "      <td>56A7173F-C8B2-4E17-8189-DBDB8EDDAA1C</td>\n",
       "      <td>2018-04-04 23:15:49</td>\n",
       "      <td>0293D737-A73B-47D8-8D26-FE5AB33F67E1</td>\n",
       "      <td>2018-04-25 18:08:21</td>\n",
       "      <td>0293D737-A73B-47D8-8D26-FE5AB33F67E1</td>\n",
       "      <td>2018-05-05 18:09:47</td>\n",
       "      <td>NaN</td>\n",
       "      <td>10 days 00:01:26</td>\n",
       "      <td>20 days 18:52:32</td>\n",
       "    </tr>\n",
       "    <tr>\n",
       "      <th>2</th>\n",
       "      <td>3</td>\n",
       "      <td>AK</td>\n",
       "      <td>F3A78AD3-D3D4-447F-BEAF-F62F1D1D4CCE</td>\n",
       "      <td>Yes, those are the right forms.  I'm sorry, I ...</td>\n",
       "      <td>2018-04-18 17:51:41</td>\n",
       "      <td>118518</td>\n",
       "      <td>AK</td>\n",
       "      <td>A96DEADE-C287-4B31-BFF5-6C02E0640001</td>\n",
       "      <td>Family and Children</td>\n",
       "      <td>372E3CF8-3543-4C71-BA48-DA3F52FC5792</td>\n",
       "      <td>Family/Divorce/Custody</td>\n",
       "      <td>00BB08E8-38C6-42CE-8A01-6C8A1F7F88E7</td>\n",
       "      <td>2018-04-05 23:02:22</td>\n",
       "      <td>C4EA5672-72E4-47CD-A4C2-E4A7C874E40A</td>\n",
       "      <td>2018-04-05 23:11:26</td>\n",
       "      <td>C4EA5672-72E4-47CD-A4C2-E4A7C874E40A</td>\n",
       "      <td>2018-04-18 17:53:16</td>\n",
       "      <td>2018-04-18 00:00:00</td>\n",
       "      <td>12 days 18:41:50</td>\n",
       "      <td>0 days 00:09:04</td>\n",
       "    </tr>\n",
       "    <tr>\n",
       "      <th>3</th>\n",
       "      <td>4</td>\n",
       "      <td>AK</td>\n",
       "      <td>5F8506D3-D9F1-48EE-8081-D30259DBF4E8</td>\n",
       "      <td>Hi ###,You do make some good points.  The diff...</td>\n",
       "      <td>2018-04-18 22:15:44</td>\n",
       "      <td>118519</td>\n",
       "      <td>AK</td>\n",
       "      <td>E31B199A-B01E-47E6-86DB-8D99B2BB7420</td>\n",
       "      <td>Other</td>\n",
       "      <td>3DBF3B9F-9ED0-4028-A4FE-0823B0012634</td>\n",
       "      <td>Other</td>\n",
       "      <td>6CB2B648-61A3-425F-9B84-A7C637B83126</td>\n",
       "      <td>2018-04-07 22:49:08</td>\n",
       "      <td>C4EA5672-72E4-47CD-A4C2-E4A7C874E40A</td>\n",
       "      <td>2018-04-09 18:34:20</td>\n",
       "      <td>C4EA5672-72E4-47CD-A4C2-E4A7C874E40A</td>\n",
       "      <td>2018-04-28 22:15:35</td>\n",
       "      <td>NaN</td>\n",
       "      <td>19 days 03:41:15</td>\n",
       "      <td>1 days 19:45:12</td>\n",
       "    </tr>\n",
       "    <tr>\n",
       "      <th>5</th>\n",
       "      <td>6</td>\n",
       "      <td>AK</td>\n",
       "      <td>350684F5-99F0-4CC1-81D3-AAE531DDB1DB</td>\n",
       "      <td>I called T-Mobile and asked to get a copy of t...</td>\n",
       "      <td>2018-04-12 20:07:24</td>\n",
       "      <td>118521</td>\n",
       "      <td>AK</td>\n",
       "      <td>E31B199A-B01E-47E6-86DB-8D99B2BB7420</td>\n",
       "      <td>Other</td>\n",
       "      <td>3DBF3B9F-9ED0-4028-A4FE-0823B0012634</td>\n",
       "      <td>Other</td>\n",
       "      <td>2F780A1B-BE83-4A9A-B63F-DC46EA4C8749</td>\n",
       "      <td>2018-04-12 20:07:00</td>\n",
       "      <td>C4EA5672-72E4-47CD-A4C2-E4A7C874E40A</td>\n",
       "      <td>2018-04-18 19:10:51</td>\n",
       "      <td>NaN</td>\n",
       "      <td>2018-04-27 21:36:42</td>\n",
       "      <td>2018-10-25 00:00:00</td>\n",
       "      <td>9 days 02:25:51</td>\n",
       "      <td>5 days 23:03:51</td>\n",
       "    </tr>\n",
       "    <tr>\n",
       "      <th>6</th>\n",
       "      <td>7</td>\n",
       "      <td>AK</td>\n",
       "      <td>350684F5-99F0-4CC1-81D3-AAE531DDB1DB</td>\n",
       "      <td>They are correct.  Most providers do not save ...</td>\n",
       "      <td>2018-04-18 19:16:42</td>\n",
       "      <td>118521</td>\n",
       "      <td>AK</td>\n",
       "      <td>E31B199A-B01E-47E6-86DB-8D99B2BB7420</td>\n",
       "      <td>Other</td>\n",
       "      <td>3DBF3B9F-9ED0-4028-A4FE-0823B0012634</td>\n",
       "      <td>Other</td>\n",
       "      <td>2F780A1B-BE83-4A9A-B63F-DC46EA4C8749</td>\n",
       "      <td>2018-04-12 20:07:00</td>\n",
       "      <td>C4EA5672-72E4-47CD-A4C2-E4A7C874E40A</td>\n",
       "      <td>2018-04-18 19:10:51</td>\n",
       "      <td>NaN</td>\n",
       "      <td>2018-04-27 21:36:42</td>\n",
       "      <td>2018-10-25 00:00:00</td>\n",
       "      <td>9 days 02:25:51</td>\n",
       "      <td>5 days 23:03:51</td>\n",
       "    </tr>\n",
       "    <tr>\n",
       "      <th>...</th>\n",
       "      <td>...</td>\n",
       "      <td>...</td>\n",
       "      <td>...</td>\n",
       "      <td>...</td>\n",
       "      <td>...</td>\n",
       "      <td>...</td>\n",
       "      <td>...</td>\n",
       "      <td>...</td>\n",
       "      <td>...</td>\n",
       "      <td>...</td>\n",
       "      <td>...</td>\n",
       "      <td>...</td>\n",
       "      <td>...</td>\n",
       "      <td>...</td>\n",
       "      <td>...</td>\n",
       "      <td>...</td>\n",
       "      <td>...</td>\n",
       "      <td>...</td>\n",
       "      <td>...</td>\n",
       "      <td>...</td>\n",
       "    </tr>\n",
       "    <tr>\n",
       "      <th>405529</th>\n",
       "      <td>405560</td>\n",
       "      <td>WY</td>\n",
       "      <td>72E29316-3E1B-4925-B66C-FF68AD92A9CA</td>\n",
       "      <td>Thank you so much!! I appreciate your reply.</td>\n",
       "      <td>2022-01-04 17:37:11</td>\n",
       "      <td>196893</td>\n",
       "      <td>WY</td>\n",
       "      <td>5908F1CF-E396-4A36-B187-1353E2183017</td>\n",
       "      <td>Consumer Financial Questions</td>\n",
       "      <td>998D30DD-A8BE-4B13-B94F-51F3596983C6</td>\n",
       "      <td>Debts &amp; Purchases</td>\n",
       "      <td>C3FCC9BF-E91D-40C0-923C-D0C844DBA722</td>\n",
       "      <td>2022-01-03 23:09:25</td>\n",
       "      <td>36FDE854-14C6-402A-AE2C-16768EC0E07E</td>\n",
       "      <td>2022-01-04 15:14:09</td>\n",
       "      <td>36FDE854-14C6-402A-AE2C-16768EC0E07E</td>\n",
       "      <td>2022-01-14 17:37:48</td>\n",
       "      <td>2022-01-31 00:00:00</td>\n",
       "      <td>10 days 02:23:39</td>\n",
       "      <td>0 days 16:04:44</td>\n",
       "    </tr>\n",
       "    <tr>\n",
       "      <th>405530</th>\n",
       "      <td>405561</td>\n",
       "      <td>WY</td>\n",
       "      <td>6F1389B8-6BEC-448D-AA2F-81210CAF15AE</td>\n",
       "      <td>Hi,My ex-wife, ###, divorced me in ###21.  We ...</td>\n",
       "      <td>###</td>\n",
       "      <td>196894</td>\n",
       "      <td>WY</td>\n",
       "      <td>B493CC26-B797-4A33-BEED-7C7146A3300A</td>\n",
       "      <td>Family and Children</td>\n",
       "      <td>7820FAD7-6BDF-47AD-88A2-2DB5C6C6FA70</td>\n",
       "      <td>Family/Divorce/Custody</td>\n",
       "      <td>25A9C766-9531-4E95-8565-1518814D967C</td>\n",
       "      <td>2022-01-04 23:07:34</td>\n",
       "      <td>36FDE854-14C6-402A-AE2C-16768EC0E07E</td>\n",
       "      <td>2022-01-05 17:20:07</td>\n",
       "      <td>36FDE854-14C6-402A-AE2C-16768EC0E07E</td>\n",
       "      <td>2022-01-24 20:17:25</td>\n",
       "      <td>NaN</td>\n",
       "      <td>19 days 02:57:18</td>\n",
       "      <td>0 days 18:12:33</td>\n",
       "    </tr>\n",
       "    <tr>\n",
       "      <th>405531</th>\n",
       "      <td>405562</td>\n",
       "      <td>WY</td>\n",
       "      <td>6F1389B8-6BEC-448D-AA2F-81210CAF15AE</td>\n",
       "      <td>Hi ###,It seems like you basically have two qu...</td>\n",
       "      <td>2022-01-05 17:27:27</td>\n",
       "      <td>196894</td>\n",
       "      <td>WY</td>\n",
       "      <td>B493CC26-B797-4A33-BEED-7C7146A3300A</td>\n",
       "      <td>Family and Children</td>\n",
       "      <td>7820FAD7-6BDF-47AD-88A2-2DB5C6C6FA70</td>\n",
       "      <td>Family/Divorce/Custody</td>\n",
       "      <td>25A9C766-9531-4E95-8565-1518814D967C</td>\n",
       "      <td>2022-01-04 23:07:34</td>\n",
       "      <td>36FDE854-14C6-402A-AE2C-16768EC0E07E</td>\n",
       "      <td>2022-01-05 17:20:07</td>\n",
       "      <td>36FDE854-14C6-402A-AE2C-16768EC0E07E</td>\n",
       "      <td>2022-01-24 20:17:25</td>\n",
       "      <td>NaN</td>\n",
       "      <td>19 days 02:57:18</td>\n",
       "      <td>0 days 18:12:33</td>\n",
       "    </tr>\n",
       "    <tr>\n",
       "      <th>405532</th>\n",
       "      <td>405563</td>\n",
       "      <td>WY</td>\n",
       "      <td>C6C77CE7-5603-48B6-B41C-9F2DD0291563</td>\n",
       "      <td>Iâ€™m in the beginning stages of getting a div...</td>\n",
       "      <td>2022-01-07 01:02:48</td>\n",
       "      <td>196895</td>\n",
       "      <td>WY</td>\n",
       "      <td>B493CC26-B797-4A33-BEED-7C7146A3300A</td>\n",
       "      <td>Family and Children</td>\n",
       "      <td>7820FAD7-6BDF-47AD-88A2-2DB5C6C6FA70</td>\n",
       "      <td>Family/Divorce/Custody</td>\n",
       "      <td>E80E9FB5-9081-4DF4-A048-1AD976B59A5D</td>\n",
       "      <td>2022-01-07 01:01:52</td>\n",
       "      <td>9D96AB0E-C8CF-4421-A777-69F48334272A</td>\n",
       "      <td>2022-01-07 16:35:29</td>\n",
       "      <td>NaN</td>\n",
       "      <td>2022-01-16 21:14:23</td>\n",
       "      <td>2022-05-31 00:00:00</td>\n",
       "      <td>9 days 04:38:54</td>\n",
       "      <td>0 days 15:33:37</td>\n",
       "    </tr>\n",
       "    <tr>\n",
       "      <th>405533</th>\n",
       "      <td>405564</td>\n",
       "      <td>WY</td>\n",
       "      <td>C6C77CE7-5603-48B6-B41C-9F2DD0291563</td>\n",
       "      <td>RkkiI would recommend you visit: https://www.w...</td>\n",
       "      <td>2022-01-07 16:52:00</td>\n",
       "      <td>196895</td>\n",
       "      <td>WY</td>\n",
       "      <td>B493CC26-B797-4A33-BEED-7C7146A3300A</td>\n",
       "      <td>Family and Children</td>\n",
       "      <td>7820FAD7-6BDF-47AD-88A2-2DB5C6C6FA70</td>\n",
       "      <td>Family/Divorce/Custody</td>\n",
       "      <td>E80E9FB5-9081-4DF4-A048-1AD976B59A5D</td>\n",
       "      <td>2022-01-07 01:01:52</td>\n",
       "      <td>9D96AB0E-C8CF-4421-A777-69F48334272A</td>\n",
       "      <td>2022-01-07 16:35:29</td>\n",
       "      <td>NaN</td>\n",
       "      <td>2022-01-16 21:14:23</td>\n",
       "      <td>2022-05-31 00:00:00</td>\n",
       "      <td>9 days 04:38:54</td>\n",
       "      <td>0 days 15:33:37</td>\n",
       "    </tr>\n",
       "  </tbody>\n",
       "</table>\n",
       "<p>358829 rows × 20 columns</p>\n",
       "</div>"
      ],
      "text/plain": [
       "          Id_x StateAbbr_x                           QuestionUno  \\\n",
       "0            1          AK  B7C95D50-6C81-4E61-BC16-81077B7D3F7E   \n",
       "2            3          AK  F3A78AD3-D3D4-447F-BEAF-F62F1D1D4CCE   \n",
       "3            4          AK  5F8506D3-D9F1-48EE-8081-D30259DBF4E8   \n",
       "5            6          AK  350684F5-99F0-4CC1-81D3-AAE531DDB1DB   \n",
       "6            7          AK  350684F5-99F0-4CC1-81D3-AAE531DDB1DB   \n",
       "...        ...         ...                                   ...   \n",
       "405529  405560          WY  72E29316-3E1B-4925-B66C-FF68AD92A9CA   \n",
       "405530  405561          WY  6F1389B8-6BEC-448D-AA2F-81210CAF15AE   \n",
       "405531  405562          WY  6F1389B8-6BEC-448D-AA2F-81210CAF15AE   \n",
       "405532  405563          WY  C6C77CE7-5603-48B6-B41C-9F2DD0291563   \n",
       "405533  405564          WY  C6C77CE7-5603-48B6-B41C-9F2DD0291563   \n",
       "\n",
       "                                                 PostText  \\\n",
       "0       Do you still need help with this issue?  It ha...   \n",
       "2       Yes, those are the right forms.  I'm sorry, I ...   \n",
       "3       Hi ###,You do make some good points.  The diff...   \n",
       "5       I called T-Mobile and asked to get a copy of t...   \n",
       "6       They are correct.  Most providers do not save ...   \n",
       "...                                                   ...   \n",
       "405529      Thank you so much!! I appreciate your reply.    \n",
       "405530  Hi,My ex-wife, ###, divorced me in ###21.  We ...   \n",
       "405531  Hi ###,It seems like you basically have two qu...   \n",
       "405532  Iâ€™m in the beginning stages of getting a div...   \n",
       "405533  RkkiI would recommend you visit: https://www.w...   \n",
       "\n",
       "                 CreatedUtc    Id_y StateAbbr_y  \\\n",
       "0       2018-04-25 18:09:30  118516          AK   \n",
       "2       2018-04-18 17:51:41  118518          AK   \n",
       "3       2018-04-18 22:15:44  118519          AK   \n",
       "5       2018-04-12 20:07:24  118521          AK   \n",
       "6       2018-04-18 19:16:42  118521          AK   \n",
       "...                     ...     ...         ...   \n",
       "405529  2022-01-04 17:37:11  196893          WY   \n",
       "405530                  ###  196894          WY   \n",
       "405531  2022-01-05 17:27:27  196894          WY   \n",
       "405532  2022-01-07 01:02:48  196895          WY   \n",
       "405533  2022-01-07 16:52:00  196895          WY   \n",
       "\n",
       "                                 CategoryUno                      Category  \\\n",
       "0       2D43B4FD-FAC8-47C3-A891-085F5D74D64B      Housing and Homelessness   \n",
       "2       A96DEADE-C287-4B31-BFF5-6C02E0640001           Family and Children   \n",
       "3       E31B199A-B01E-47E6-86DB-8D99B2BB7420                         Other   \n",
       "5       E31B199A-B01E-47E6-86DB-8D99B2BB7420                         Other   \n",
       "6       E31B199A-B01E-47E6-86DB-8D99B2BB7420                         Other   \n",
       "...                                      ...                           ...   \n",
       "405529  5908F1CF-E396-4A36-B187-1353E2183017  Consumer Financial Questions   \n",
       "405530  B493CC26-B797-4A33-BEED-7C7146A3300A           Family and Children   \n",
       "405531  B493CC26-B797-4A33-BEED-7C7146A3300A           Family and Children   \n",
       "405532  B493CC26-B797-4A33-BEED-7C7146A3300A           Family and Children   \n",
       "405533  B493CC26-B797-4A33-BEED-7C7146A3300A           Family and Children   \n",
       "\n",
       "                              SubcategoryUno                Subcategory  \\\n",
       "0       6F28DF84-2BDA-48AE-97F8-A083D20E3EC8  Housing or Property Owned   \n",
       "2       372E3CF8-3543-4C71-BA48-DA3F52FC5792     Family/Divorce/Custody   \n",
       "3       3DBF3B9F-9ED0-4028-A4FE-0823B0012634                      Other   \n",
       "5       3DBF3B9F-9ED0-4028-A4FE-0823B0012634                      Other   \n",
       "6       3DBF3B9F-9ED0-4028-A4FE-0823B0012634                      Other   \n",
       "...                                      ...                        ...   \n",
       "405529  998D30DD-A8BE-4B13-B94F-51F3596983C6          Debts & Purchases   \n",
       "405530  7820FAD7-6BDF-47AD-88A2-2DB5C6C6FA70     Family/Divorce/Custody   \n",
       "405531  7820FAD7-6BDF-47AD-88A2-2DB5C6C6FA70     Family/Divorce/Custody   \n",
       "405532  7820FAD7-6BDF-47AD-88A2-2DB5C6C6FA70     Family/Divorce/Custody   \n",
       "405533  7820FAD7-6BDF-47AD-88A2-2DB5C6C6FA70     Family/Divorce/Custody   \n",
       "\n",
       "                            AskedByClientUno          AskedOnUtc  \\\n",
       "0       56A7173F-C8B2-4E17-8189-DBDB8EDDAA1C 2018-04-04 23:15:49   \n",
       "2       00BB08E8-38C6-42CE-8A01-6C8A1F7F88E7 2018-04-05 23:02:22   \n",
       "3       6CB2B648-61A3-425F-9B84-A7C637B83126 2018-04-07 22:49:08   \n",
       "5       2F780A1B-BE83-4A9A-B63F-DC46EA4C8749 2018-04-12 20:07:00   \n",
       "6       2F780A1B-BE83-4A9A-B63F-DC46EA4C8749 2018-04-12 20:07:00   \n",
       "...                                      ...                 ...   \n",
       "405529  C3FCC9BF-E91D-40C0-923C-D0C844DBA722 2022-01-03 23:09:25   \n",
       "405530  25A9C766-9531-4E95-8565-1518814D967C 2022-01-04 23:07:34   \n",
       "405531  25A9C766-9531-4E95-8565-1518814D967C 2022-01-04 23:07:34   \n",
       "405532  E80E9FB5-9081-4DF4-A048-1AD976B59A5D 2022-01-07 01:01:52   \n",
       "405533  E80E9FB5-9081-4DF4-A048-1AD976B59A5D 2022-01-07 01:01:52   \n",
       "\n",
       "                          TakenByAttorneyUno          TakenOnUtc  \\\n",
       "0       0293D737-A73B-47D8-8D26-FE5AB33F67E1 2018-04-25 18:08:21   \n",
       "2       C4EA5672-72E4-47CD-A4C2-E4A7C874E40A 2018-04-05 23:11:26   \n",
       "3       C4EA5672-72E4-47CD-A4C2-E4A7C874E40A 2018-04-09 18:34:20   \n",
       "5       C4EA5672-72E4-47CD-A4C2-E4A7C874E40A 2018-04-18 19:10:51   \n",
       "6       C4EA5672-72E4-47CD-A4C2-E4A7C874E40A 2018-04-18 19:10:51   \n",
       "...                                      ...                 ...   \n",
       "405529  36FDE854-14C6-402A-AE2C-16768EC0E07E 2022-01-04 15:14:09   \n",
       "405530  36FDE854-14C6-402A-AE2C-16768EC0E07E 2022-01-05 17:20:07   \n",
       "405531  36FDE854-14C6-402A-AE2C-16768EC0E07E 2022-01-05 17:20:07   \n",
       "405532  9D96AB0E-C8CF-4421-A777-69F48334272A 2022-01-07 16:35:29   \n",
       "405533  9D96AB0E-C8CF-4421-A777-69F48334272A 2022-01-07 16:35:29   \n",
       "\n",
       "                         ClosedByAttorneyUno         ClosedOnUtc  \\\n",
       "0       0293D737-A73B-47D8-8D26-FE5AB33F67E1 2018-05-05 18:09:47   \n",
       "2       C4EA5672-72E4-47CD-A4C2-E4A7C874E40A 2018-04-18 17:53:16   \n",
       "3       C4EA5672-72E4-47CD-A4C2-E4A7C874E40A 2018-04-28 22:15:35   \n",
       "5                                        NaN 2018-04-27 21:36:42   \n",
       "6                                        NaN 2018-04-27 21:36:42   \n",
       "...                                      ...                 ...   \n",
       "405529  36FDE854-14C6-402A-AE2C-16768EC0E07E 2022-01-14 17:37:48   \n",
       "405530  36FDE854-14C6-402A-AE2C-16768EC0E07E 2022-01-24 20:17:25   \n",
       "405531  36FDE854-14C6-402A-AE2C-16768EC0E07E 2022-01-24 20:17:25   \n",
       "405532                                   NaN 2022-01-16 21:14:23   \n",
       "405533                                   NaN 2022-01-16 21:14:23   \n",
       "\n",
       "              LegalDeadline         response           pickup  \n",
       "0                       NaN 10 days 00:01:26 20 days 18:52:32  \n",
       "2       2018-04-18 00:00:00 12 days 18:41:50  0 days 00:09:04  \n",
       "3                       NaN 19 days 03:41:15  1 days 19:45:12  \n",
       "5       2018-10-25 00:00:00  9 days 02:25:51  5 days 23:03:51  \n",
       "6       2018-10-25 00:00:00  9 days 02:25:51  5 days 23:03:51  \n",
       "...                     ...              ...              ...  \n",
       "405529  2022-01-31 00:00:00 10 days 02:23:39  0 days 16:04:44  \n",
       "405530                  NaN 19 days 02:57:18  0 days 18:12:33  \n",
       "405531                  NaN 19 days 02:57:18  0 days 18:12:33  \n",
       "405532  2022-05-31 00:00:00  9 days 04:38:54  0 days 15:33:37  \n",
       "405533  2022-05-31 00:00:00  9 days 04:38:54  0 days 15:33:37  \n",
       "\n",
       "[358829 rows x 20 columns]"
      ]
     },
     "execution_count": 112,
     "metadata": {},
     "output_type": "execute_result"
    }
   ],
   "source": [
    "merged"
   ]
  },
  {
   "cell_type": "code",
   "execution_count": 102,
   "id": "dfc2889b-022b-41f0-b1d0-d57bfbb979f6",
   "metadata": {},
   "outputs": [
    {
     "name": "stdout",
     "output_type": "stream",
     "text": [
      "Category\n",
      "Consumer Financial Questions        11 days 00:39:33.189730046\n",
      "Education                           10 days 13:07:25.058972198\n",
      "Family and Children                 10 days 21:10:37.379794352\n",
      "Health and Disability               17 days 00:01:17.957291175\n",
      "Housing and Homelessness            10 days 01:20:18.960342465\n",
      "Income Maintenance                   8 days 22:08:54.923542770\n",
      "Individual Rights                   11 days 18:35:15.668193766\n",
      "Juvenile                             7 days 08:17:42.089912280\n",
      "Other                                9 days 05:10:59.330814575\n",
      "Work, Employment and Unemployment    9 days 20:28:32.040907891\n",
      "Name: response, dtype: timedelta64[ns]\n"
     ]
    }
   ],
   "source": [
    "from datetime import datetime\n",
    "\n",
    "merged['TakenOnUtc'] = pd.to_datetime(merged['TakenOnUtc'])\n",
    "merged['ClosedOnUtc'] = pd.to_datetime(merged['ClosedOnUtc'])\n",
    "\n",
    "merged['response'] = merged['ClosedOnUtc'] - merged['TakenOnUtc']\n",
    "merged = merged.dropna(subset=['response'])\n",
    "\n",
    "grouped = merged.groupby('Category')['response'].mean()\n",
    "\n",
    "print(grouped)"
   ]
  },
  {
   "cell_type": "code",
   "execution_count": 224,
   "id": "491d0e1d-7751-484d-b988-223d46170a86",
   "metadata": {},
   "outputs": [],
   "source": [
    "import plotly.graph_objs as go\n",
    "import plotly.express as px\n",
    "\n",
    "fig1 = go.Bar(x=grouped.index, y=grouped.values / pd.Timedelta(days=1), name = \"Response\")"
   ]
  },
  {
   "cell_type": "code",
   "execution_count": 104,
   "id": "8d444d49-7d3c-4366-b710-ce87f9027002",
   "metadata": {},
   "outputs": [
    {
     "name": "stdout",
     "output_type": "stream",
     "text": [
      "Category\n",
      "Consumer Financial Questions         6 days 04:03:11.494043427\n",
      "Education                            9 days 02:52:55.952822241\n",
      "Family and Children                  7 days 14:56:15.557566236\n",
      "Health and Disability               10 days 14:43:18.826097215\n",
      "Housing and Homelessness             6 days 00:41:16.676013698\n",
      "Income Maintenance                   9 days 13:00:24.577340398\n",
      "Individual Rights                    7 days 11:52:45.789185129\n",
      "Juvenile                             8 days 15:56:47.401315789\n",
      "Other                                6 days 17:16:06.663785804\n",
      "Work, Employment and Unemployment    7 days 19:27:40.569754552\n",
      "Name: pickup, dtype: timedelta64[ns]\n"
     ]
    }
   ],
   "source": [
    "merged['AskedOnUtc'] = pd.to_datetime(merged['AskedOnUtc'])\n",
    "\n",
    "merged['pickup'] = merged['TakenOnUtc'] - merged['AskedOnUtc']\n",
    "merged = merged.dropna(subset=['pickup'])\n",
    "\n",
    "grouped2 = merged.groupby('Category')['pickup'].mean()\n",
    "\n",
    "print(grouped2)"
   ]
  },
  {
   "cell_type": "code",
   "execution_count": 223,
   "id": "ee017d6f-ab11-4de6-baa6-3442922885b6",
   "metadata": {},
   "outputs": [],
   "source": [
    "fig2 = go.Bar(x=grouped2.index, y=grouped2.values / pd.Timedelta(days=1), name = \"Pickup\")"
   ]
  },
  {
   "cell_type": "code",
   "execution_count": 402,
   "id": "8f855db7-6a7d-4b2d-8f5c-1285bceb72dd",
   "metadata": {},
   "outputs": [
    {
     "data": {
      "application/vnd.plotly.v1+json": {
       "config": {
        "plotlyServerURL": "https://plot.ly"
       },
       "data": [
        {
         "marker": {
          "color": "lightblue"
         },
         "name": "Response",
         "type": "bar",
         "x": [
          "Consumer Financial Questions",
          "Education",
          "Family and Children",
          "Health and Disability",
          "Housing and Homelessness",
          "Income Maintenance",
          "Individual Rights",
          "Juvenile",
          "Other",
          "Work, Employment and Unemployment"
         ],
         "xaxis": "x",
         "y": [
          11.027467473727384,
          10.546817812178217,
          10.882377080953148,
          17.000902283462672,
          10.055775003963715,
          8.922857911374653,
          11.77448690039081,
          7.345626040651389,
          9.215964477020544,
          9.853148621619109
         ],
         "yaxis": "y"
        },
        {
         "marker": {
          "color": "darkblue"
         },
         "name": "Pickup",
         "type": "bar",
         "x": [
          "Consumer Financial Questions",
          "Education",
          "Family and Children",
          "Health and Disability",
          "Housing and Homelessness",
          "Income Maintenance",
          "Individual Rights",
          "Juvenile",
          "Other",
          "Work, Employment and Unemployment"
         ],
         "xaxis": "x",
         "y": [
          6.168883032910035,
          9.120092046553715,
          7.62240228664625,
          10.613412339088137,
          6.028665231640023,
          9.541951126624976,
          7.494974411864919,
          8.66443751522904,
          6.719521571594954,
          7.810886224011019
         ],
         "yaxis": "y"
        }
       ],
       "layout": {
        "annotations": [
         {
          "align": "center",
          "ax": 0,
          "ay": -30,
          "font": {
           "color": "violet",
           "size": 12
          },
          "showarrow": false,
          "text": "Average Response Time: 10.66",
          "x": 8.4,
          "xref": "x",
          "y": 11.162542360534164,
          "yref": "y"
         },
         {
          "align": "center",
          "ax": 0,
          "ay": -30,
          "font": {
           "color": "darkviolet",
           "size": 12
          },
          "showarrow": false,
          "text": "Average Pickup Time: 7.98",
          "x": 8.4,
          "xref": "x",
          "y": 8.478522578616307,
          "yref": "y"
         }
        ],
        "height": 600,
        "shapes": [
         {
          "line": {
           "color": "violet",
           "width": 2.5
          },
          "type": "line",
          "x0": -0.5,
          "x1": 9.5,
          "y0": 10.662542360534164,
          "y1": 10.662542360534164
         },
         {
          "line": {
           "color": "darkviolet",
           "width": 2.5
          },
          "type": "line",
          "x0": -0.5,
          "x1": 9.5,
          "y0": 7.978522578616307,
          "y1": 7.978522578616307
         }
        ],
        "showlegend": true,
        "template": {
         "data": {
          "bar": [
           {
            "error_x": {
             "color": "#2a3f5f"
            },
            "error_y": {
             "color": "#2a3f5f"
            },
            "marker": {
             "line": {
              "color": "#E5ECF6",
              "width": 0.5
             },
             "pattern": {
              "fillmode": "overlay",
              "size": 10,
              "solidity": 0.2
             }
            },
            "type": "bar"
           }
          ],
          "barpolar": [
           {
            "marker": {
             "line": {
              "color": "#E5ECF6",
              "width": 0.5
             },
             "pattern": {
              "fillmode": "overlay",
              "size": 10,
              "solidity": 0.2
             }
            },
            "type": "barpolar"
           }
          ],
          "carpet": [
           {
            "aaxis": {
             "endlinecolor": "#2a3f5f",
             "gridcolor": "white",
             "linecolor": "white",
             "minorgridcolor": "white",
             "startlinecolor": "#2a3f5f"
            },
            "baxis": {
             "endlinecolor": "#2a3f5f",
             "gridcolor": "white",
             "linecolor": "white",
             "minorgridcolor": "white",
             "startlinecolor": "#2a3f5f"
            },
            "type": "carpet"
           }
          ],
          "choropleth": [
           {
            "colorbar": {
             "outlinewidth": 0,
             "ticks": ""
            },
            "type": "choropleth"
           }
          ],
          "contour": [
           {
            "colorbar": {
             "outlinewidth": 0,
             "ticks": ""
            },
            "colorscale": [
             [
              0,
              "#0d0887"
             ],
             [
              0.1111111111111111,
              "#46039f"
             ],
             [
              0.2222222222222222,
              "#7201a8"
             ],
             [
              0.3333333333333333,
              "#9c179e"
             ],
             [
              0.4444444444444444,
              "#bd3786"
             ],
             [
              0.5555555555555556,
              "#d8576b"
             ],
             [
              0.6666666666666666,
              "#ed7953"
             ],
             [
              0.7777777777777778,
              "#fb9f3a"
             ],
             [
              0.8888888888888888,
              "#fdca26"
             ],
             [
              1,
              "#f0f921"
             ]
            ],
            "type": "contour"
           }
          ],
          "contourcarpet": [
           {
            "colorbar": {
             "outlinewidth": 0,
             "ticks": ""
            },
            "type": "contourcarpet"
           }
          ],
          "heatmap": [
           {
            "colorbar": {
             "outlinewidth": 0,
             "ticks": ""
            },
            "colorscale": [
             [
              0,
              "#0d0887"
             ],
             [
              0.1111111111111111,
              "#46039f"
             ],
             [
              0.2222222222222222,
              "#7201a8"
             ],
             [
              0.3333333333333333,
              "#9c179e"
             ],
             [
              0.4444444444444444,
              "#bd3786"
             ],
             [
              0.5555555555555556,
              "#d8576b"
             ],
             [
              0.6666666666666666,
              "#ed7953"
             ],
             [
              0.7777777777777778,
              "#fb9f3a"
             ],
             [
              0.8888888888888888,
              "#fdca26"
             ],
             [
              1,
              "#f0f921"
             ]
            ],
            "type": "heatmap"
           }
          ],
          "heatmapgl": [
           {
            "colorbar": {
             "outlinewidth": 0,
             "ticks": ""
            },
            "colorscale": [
             [
              0,
              "#0d0887"
             ],
             [
              0.1111111111111111,
              "#46039f"
             ],
             [
              0.2222222222222222,
              "#7201a8"
             ],
             [
              0.3333333333333333,
              "#9c179e"
             ],
             [
              0.4444444444444444,
              "#bd3786"
             ],
             [
              0.5555555555555556,
              "#d8576b"
             ],
             [
              0.6666666666666666,
              "#ed7953"
             ],
             [
              0.7777777777777778,
              "#fb9f3a"
             ],
             [
              0.8888888888888888,
              "#fdca26"
             ],
             [
              1,
              "#f0f921"
             ]
            ],
            "type": "heatmapgl"
           }
          ],
          "histogram": [
           {
            "marker": {
             "pattern": {
              "fillmode": "overlay",
              "size": 10,
              "solidity": 0.2
             }
            },
            "type": "histogram"
           }
          ],
          "histogram2d": [
           {
            "colorbar": {
             "outlinewidth": 0,
             "ticks": ""
            },
            "colorscale": [
             [
              0,
              "#0d0887"
             ],
             [
              0.1111111111111111,
              "#46039f"
             ],
             [
              0.2222222222222222,
              "#7201a8"
             ],
             [
              0.3333333333333333,
              "#9c179e"
             ],
             [
              0.4444444444444444,
              "#bd3786"
             ],
             [
              0.5555555555555556,
              "#d8576b"
             ],
             [
              0.6666666666666666,
              "#ed7953"
             ],
             [
              0.7777777777777778,
              "#fb9f3a"
             ],
             [
              0.8888888888888888,
              "#fdca26"
             ],
             [
              1,
              "#f0f921"
             ]
            ],
            "type": "histogram2d"
           }
          ],
          "histogram2dcontour": [
           {
            "colorbar": {
             "outlinewidth": 0,
             "ticks": ""
            },
            "colorscale": [
             [
              0,
              "#0d0887"
             ],
             [
              0.1111111111111111,
              "#46039f"
             ],
             [
              0.2222222222222222,
              "#7201a8"
             ],
             [
              0.3333333333333333,
              "#9c179e"
             ],
             [
              0.4444444444444444,
              "#bd3786"
             ],
             [
              0.5555555555555556,
              "#d8576b"
             ],
             [
              0.6666666666666666,
              "#ed7953"
             ],
             [
              0.7777777777777778,
              "#fb9f3a"
             ],
             [
              0.8888888888888888,
              "#fdca26"
             ],
             [
              1,
              "#f0f921"
             ]
            ],
            "type": "histogram2dcontour"
           }
          ],
          "mesh3d": [
           {
            "colorbar": {
             "outlinewidth": 0,
             "ticks": ""
            },
            "type": "mesh3d"
           }
          ],
          "parcoords": [
           {
            "line": {
             "colorbar": {
              "outlinewidth": 0,
              "ticks": ""
             }
            },
            "type": "parcoords"
           }
          ],
          "pie": [
           {
            "automargin": true,
            "type": "pie"
           }
          ],
          "scatter": [
           {
            "fillpattern": {
             "fillmode": "overlay",
             "size": 10,
             "solidity": 0.2
            },
            "type": "scatter"
           }
          ],
          "scatter3d": [
           {
            "line": {
             "colorbar": {
              "outlinewidth": 0,
              "ticks": ""
             }
            },
            "marker": {
             "colorbar": {
              "outlinewidth": 0,
              "ticks": ""
             }
            },
            "type": "scatter3d"
           }
          ],
          "scattercarpet": [
           {
            "marker": {
             "colorbar": {
              "outlinewidth": 0,
              "ticks": ""
             }
            },
            "type": "scattercarpet"
           }
          ],
          "scattergeo": [
           {
            "marker": {
             "colorbar": {
              "outlinewidth": 0,
              "ticks": ""
             }
            },
            "type": "scattergeo"
           }
          ],
          "scattergl": [
           {
            "marker": {
             "colorbar": {
              "outlinewidth": 0,
              "ticks": ""
             }
            },
            "type": "scattergl"
           }
          ],
          "scattermapbox": [
           {
            "marker": {
             "colorbar": {
              "outlinewidth": 0,
              "ticks": ""
             }
            },
            "type": "scattermapbox"
           }
          ],
          "scatterpolar": [
           {
            "marker": {
             "colorbar": {
              "outlinewidth": 0,
              "ticks": ""
             }
            },
            "type": "scatterpolar"
           }
          ],
          "scatterpolargl": [
           {
            "marker": {
             "colorbar": {
              "outlinewidth": 0,
              "ticks": ""
             }
            },
            "type": "scatterpolargl"
           }
          ],
          "scatterternary": [
           {
            "marker": {
             "colorbar": {
              "outlinewidth": 0,
              "ticks": ""
             }
            },
            "type": "scatterternary"
           }
          ],
          "surface": [
           {
            "colorbar": {
             "outlinewidth": 0,
             "ticks": ""
            },
            "colorscale": [
             [
              0,
              "#0d0887"
             ],
             [
              0.1111111111111111,
              "#46039f"
             ],
             [
              0.2222222222222222,
              "#7201a8"
             ],
             [
              0.3333333333333333,
              "#9c179e"
             ],
             [
              0.4444444444444444,
              "#bd3786"
             ],
             [
              0.5555555555555556,
              "#d8576b"
             ],
             [
              0.6666666666666666,
              "#ed7953"
             ],
             [
              0.7777777777777778,
              "#fb9f3a"
             ],
             [
              0.8888888888888888,
              "#fdca26"
             ],
             [
              1,
              "#f0f921"
             ]
            ],
            "type": "surface"
           }
          ],
          "table": [
           {
            "cells": {
             "fill": {
              "color": "#EBF0F8"
             },
             "line": {
              "color": "white"
             }
            },
            "header": {
             "fill": {
              "color": "#C8D4E3"
             },
             "line": {
              "color": "white"
             }
            },
            "type": "table"
           }
          ]
         },
         "layout": {
          "annotationdefaults": {
           "arrowcolor": "#2a3f5f",
           "arrowhead": 0,
           "arrowwidth": 1
          },
          "autotypenumbers": "strict",
          "coloraxis": {
           "colorbar": {
            "outlinewidth": 0,
            "ticks": ""
           }
          },
          "colorscale": {
           "diverging": [
            [
             0,
             "#8e0152"
            ],
            [
             0.1,
             "#c51b7d"
            ],
            [
             0.2,
             "#de77ae"
            ],
            [
             0.3,
             "#f1b6da"
            ],
            [
             0.4,
             "#fde0ef"
            ],
            [
             0.5,
             "#f7f7f7"
            ],
            [
             0.6,
             "#e6f5d0"
            ],
            [
             0.7,
             "#b8e186"
            ],
            [
             0.8,
             "#7fbc41"
            ],
            [
             0.9,
             "#4d9221"
            ],
            [
             1,
             "#276419"
            ]
           ],
           "sequential": [
            [
             0,
             "#0d0887"
            ],
            [
             0.1111111111111111,
             "#46039f"
            ],
            [
             0.2222222222222222,
             "#7201a8"
            ],
            [
             0.3333333333333333,
             "#9c179e"
            ],
            [
             0.4444444444444444,
             "#bd3786"
            ],
            [
             0.5555555555555556,
             "#d8576b"
            ],
            [
             0.6666666666666666,
             "#ed7953"
            ],
            [
             0.7777777777777778,
             "#fb9f3a"
            ],
            [
             0.8888888888888888,
             "#fdca26"
            ],
            [
             1,
             "#f0f921"
            ]
           ],
           "sequentialminus": [
            [
             0,
             "#0d0887"
            ],
            [
             0.1111111111111111,
             "#46039f"
            ],
            [
             0.2222222222222222,
             "#7201a8"
            ],
            [
             0.3333333333333333,
             "#9c179e"
            ],
            [
             0.4444444444444444,
             "#bd3786"
            ],
            [
             0.5555555555555556,
             "#d8576b"
            ],
            [
             0.6666666666666666,
             "#ed7953"
            ],
            [
             0.7777777777777778,
             "#fb9f3a"
            ],
            [
             0.8888888888888888,
             "#fdca26"
            ],
            [
             1,
             "#f0f921"
            ]
           ]
          },
          "colorway": [
           "#636efa",
           "#EF553B",
           "#00cc96",
           "#ab63fa",
           "#FFA15A",
           "#19d3f3",
           "#FF6692",
           "#B6E880",
           "#FF97FF",
           "#FECB52"
          ],
          "font": {
           "color": "#2a3f5f"
          },
          "geo": {
           "bgcolor": "white",
           "lakecolor": "white",
           "landcolor": "#E5ECF6",
           "showlakes": true,
           "showland": true,
           "subunitcolor": "white"
          },
          "hoverlabel": {
           "align": "left"
          },
          "hovermode": "closest",
          "mapbox": {
           "style": "light"
          },
          "paper_bgcolor": "white",
          "plot_bgcolor": "#E5ECF6",
          "polar": {
           "angularaxis": {
            "gridcolor": "white",
            "linecolor": "white",
            "ticks": ""
           },
           "bgcolor": "#E5ECF6",
           "radialaxis": {
            "gridcolor": "white",
            "linecolor": "white",
            "ticks": ""
           }
          },
          "scene": {
           "xaxis": {
            "backgroundcolor": "#E5ECF6",
            "gridcolor": "white",
            "gridwidth": 2,
            "linecolor": "white",
            "showbackground": true,
            "ticks": "",
            "zerolinecolor": "white"
           },
           "yaxis": {
            "backgroundcolor": "#E5ECF6",
            "gridcolor": "white",
            "gridwidth": 2,
            "linecolor": "white",
            "showbackground": true,
            "ticks": "",
            "zerolinecolor": "white"
           },
           "zaxis": {
            "backgroundcolor": "#E5ECF6",
            "gridcolor": "white",
            "gridwidth": 2,
            "linecolor": "white",
            "showbackground": true,
            "ticks": "",
            "zerolinecolor": "white"
           }
          },
          "shapedefaults": {
           "line": {
            "color": "#2a3f5f"
           }
          },
          "ternary": {
           "aaxis": {
            "gridcolor": "white",
            "linecolor": "white",
            "ticks": ""
           },
           "baxis": {
            "gridcolor": "white",
            "linecolor": "white",
            "ticks": ""
           },
           "bgcolor": "#E5ECF6",
           "caxis": {
            "gridcolor": "white",
            "linecolor": "white",
            "ticks": ""
           }
          },
          "title": {
           "x": 0.05
          },
          "xaxis": {
           "automargin": true,
           "gridcolor": "white",
           "linecolor": "white",
           "ticks": "",
           "title": {
            "standoff": 15
           },
           "zerolinecolor": "white",
           "zerolinewidth": 2
          },
          "yaxis": {
           "automargin": true,
           "gridcolor": "white",
           "linecolor": "white",
           "ticks": "",
           "title": {
            "standoff": 15
           },
           "zerolinecolor": "white",
           "zerolinewidth": 2
          }
         }
        },
        "title": {
         "text": "Response and Pickup vs. Categories"
        },
        "width": 700,
        "xaxis": {
         "anchor": "y",
         "autorange": true,
         "domain": [
          0,
          1
         ],
         "range": [
          -0.5298057602143336,
          10.70100468854655
         ],
         "title": {
          "text": "Categories"
         },
         "type": "category"
        },
        "yaxis": {
         "anchor": "x",
         "autorange": true,
         "domain": [
          0,
          1
         ],
         "range": [
          0,
          17.895686614171233
         ],
         "title": {
          "text": "Time (in days)"
         },
         "type": "linear"
        }
       }
      },
      "image/png": "[encoded data removed]",
      "text/html": [
       "<div>                            <div id=\"0eb910c5-dd95-4fc5-9cdf-336dd3f18512\" class=\"plotly-graph-div\" style=\"height:600px; width:700px;\"></div>            <script type=\"text/javascript\">                require([\"plotly\"], function(Plotly) {                    window.PLOTLYENV=window.PLOTLYENV || {};                                    if (document.getElementById(\"0eb910c5-dd95-4fc5-9cdf-336dd3f18512\")) {                    Plotly.newPlot(                        \"0eb910c5-dd95-4fc5-9cdf-336dd3f18512\",                        [{\"marker\":{\"color\":\"lightblue\"},\"name\":\"Response\",\"x\":[\"Consumer Financial Questions\",\"Education\",\"Family and Children\",\"Health and Disability\",\"Housing and Homelessness\",\"Income Maintenance\",\"Individual Rights\",\"Juvenile\",\"Other\",\"Work, Employment and Unemployment\"],\"y\":[11.027467473727384,10.546817812178217,10.882377080953148,17.000902283462672,10.055775003963715,8.922857911374653,11.77448690039081,7.345626040651389,9.215964477020544,9.853148621619109],\"type\":\"bar\",\"xaxis\":\"x\",\"yaxis\":\"y\"},{\"marker\":{\"color\":\"darkblue\"},\"name\":\"Pickup\",\"x\":[\"Consumer Financial Questions\",\"Education\",\"Family and Children\",\"Health and Disability\",\"Housing and Homelessness\",\"Income Maintenance\",\"Individual Rights\",\"Juvenile\",\"Other\",\"Work, Employment and Unemployment\"],\"y\":[6.168883032910035,9.120092046553715,7.62240228664625,10.613412339088137,6.028665231640023,9.541951126624976,7.494974411864919,8.66443751522904,6.719521571594954,7.810886224011019],\"type\":\"bar\",\"xaxis\":\"x\",\"yaxis\":\"y\"}],                        {\"template\":{\"data\":{\"histogram2dcontour\":[{\"type\":\"histogram2dcontour\",\"colorbar\":{\"outlinewidth\":0,\"ticks\":\"\"},\"colorscale\":[[0.0,\"#0d0887\"],[0.1111111111111111,\"#46039f\"],[0.2222222222222222,\"#7201a8\"],[0.3333333333333333,\"#9c179e\"],[0.4444444444444444,\"#bd3786\"],[0.5555555555555556,\"#d8576b\"],[0.6666666666666666,\"#ed7953\"],[0.7777777777777778,\"#fb9f3a\"],[0.8888888888888888,\"#fdca26\"],[1.0,\"#f0f921\"]]}],\"choropleth\":[{\"type\":\"choropleth\",\"colorbar\":{\"outlinewidth\":0,\"ticks\":\"\"}}],\"histogram2d\":[{\"type\":\"histogram2d\",\"colorbar\":{\"outlinewidth\":0,\"ticks\":\"\"},\"colorscale\":[[0.0,\"#0d0887\"],[0.1111111111111111,\"#46039f\"],[0.2222222222222222,\"#7201a8\"],[0.3333333333333333,\"#9c179e\"],[0.4444444444444444,\"#bd3786\"],[0.5555555555555556,\"#d8576b\"],[0.6666666666666666,\"#ed7953\"],[0.7777777777777778,\"#fb9f3a\"],[0.8888888888888888,\"#fdca26\"],[1.0,\"#f0f921\"]]}],\"heatmap\":[{\"type\":\"heatmap\",\"colorbar\":{\"outlinewidth\":0,\"ticks\":\"\"},\"colorscale\":[[0.0,\"#0d0887\"],[0.1111111111111111,\"#46039f\"],[0.2222222222222222,\"#7201a8\"],[0.3333333333333333,\"#9c179e\"],[0.4444444444444444,\"#bd3786\"],[0.5555555555555556,\"#d8576b\"],[0.6666666666666666,\"#ed7953\"],[0.7777777777777778,\"#fb9f3a\"],[0.8888888888888888,\"#fdca26\"],[1.0,\"#f0f921\"]]}],\"heatmapgl\":[{\"type\":\"heatmapgl\",\"colorbar\":{\"outlinewidth\":0,\"ticks\":\"\"},\"colorscale\":[[0.0,\"#0d0887\"],[0.1111111111111111,\"#46039f\"],[0.2222222222222222,\"#7201a8\"],[0.3333333333333333,\"#9c179e\"],[0.4444444444444444,\"#bd3786\"],[0.5555555555555556,\"#d8576b\"],[0.6666666666666666,\"#ed7953\"],[0.7777777777777778,\"#fb9f3a\"],[0.8888888888888888,\"#fdca26\"],[1.0,\"#f0f921\"]]}],\"contourcarpet\":[{\"type\":\"contourcarpet\",\"colorbar\":{\"outlinewidth\":0,\"ticks\":\"\"}}],\"contour\":[{\"type\":\"contour\",\"colorbar\":{\"outlinewidth\":0,\"ticks\":\"\"},\"colorscale\":[[0.0,\"#0d0887\"],[0.1111111111111111,\"#46039f\"],[0.2222222222222222,\"#7201a8\"],[0.3333333333333333,\"#9c179e\"],[0.4444444444444444,\"#bd3786\"],[0.5555555555555556,\"#d8576b\"],[0.6666666666666666,\"#ed7953\"],[0.7777777777777778,\"#fb9f3a\"],[0.8888888888888888,\"#fdca26\"],[1.0,\"#f0f921\"]]}],\"surface\":[{\"type\":\"surface\",\"colorbar\":{\"outlinewidth\":0,\"ticks\":\"\"},\"colorscale\":[[0.0,\"#0d0887\"],[0.1111111111111111,\"#46039f\"],[0.2222222222222222,\"#7201a8\"],[0.3333333333333333,\"#9c179e\"],[0.4444444444444444,\"#bd3786\"],[0.5555555555555556,\"#d8576b\"],[0.6666666666666666,\"#ed7953\"],[0.7777777777777778,\"#fb9f3a\"],[0.8888888888888888,\"#fdca26\"],[1.0,\"#f0f921\"]]}],\"mesh3d\":[{\"type\":\"mesh3d\",\"colorbar\":{\"outlinewidth\":0,\"ticks\":\"\"}}],\"scatter\":[{\"fillpattern\":{\"fillmode\":\"overlay\",\"size\":10,\"solidity\":0.2},\"type\":\"scatter\"}],\"parcoords\":[{\"type\":\"parcoords\",\"line\":{\"colorbar\":{\"outlinewidth\":0,\"ticks\":\"\"}}}],\"scatterpolargl\":[{\"type\":\"scatterpolargl\",\"marker\":{\"colorbar\":{\"outlinewidth\":0,\"ticks\":\"\"}}}],\"bar\":[{\"error_x\":{\"color\":\"#2a3f5f\"},\"error_y\":{\"color\":\"#2a3f5f\"},\"marker\":{\"line\":{\"color\":\"#E5ECF6\",\"width\":0.5},\"pattern\":{\"fillmode\":\"overlay\",\"size\":10,\"solidity\":0.2}},\"type\":\"bar\"}],\"scattergeo\":[{\"type\":\"scattergeo\",\"marker\":{\"colorbar\":{\"outlinewidth\":0,\"ticks\":\"\"}}}],\"scatterpolar\":[{\"type\":\"scatterpolar\",\"marker\":{\"colorbar\":{\"outlinewidth\":0,\"ticks\":\"\"}}}],\"histogram\":[{\"marker\":{\"pattern\":{\"fillmode\":\"overlay\",\"size\":10,\"solidity\":0.2}},\"type\":\"histogram\"}],\"scattergl\":[{\"type\":\"scattergl\",\"marker\":{\"colorbar\":{\"outlinewidth\":0,\"ticks\":\"\"}}}],\"scatter3d\":[{\"type\":\"scatter3d\",\"line\":{\"colorbar\":{\"outlinewidth\":0,\"ticks\":\"\"}},\"marker\":{\"colorbar\":{\"outlinewidth\":0,\"ticks\":\"\"}}}],\"scattermapbox\":[{\"type\":\"scattermapbox\",\"marker\":{\"colorbar\":{\"outlinewidth\":0,\"ticks\":\"\"}}}],\"scatterternary\":[{\"type\":\"scatterternary\",\"marker\":{\"colorbar\":{\"outlinewidth\":0,\"ticks\":\"\"}}}],\"scattercarpet\":[{\"type\":\"scattercarpet\",\"marker\":{\"colorbar\":{\"outlinewidth\":0,\"ticks\":\"\"}}}],\"carpet\":[{\"aaxis\":{\"endlinecolor\":\"#2a3f5f\",\"gridcolor\":\"white\",\"linecolor\":\"white\",\"minorgridcolor\":\"white\",\"startlinecolor\":\"#2a3f5f\"},\"baxis\":{\"endlinecolor\":\"#2a3f5f\",\"gridcolor\":\"white\",\"linecolor\":\"white\",\"minorgridcolor\":\"white\",\"startlinecolor\":\"#2a3f5f\"},\"type\":\"carpet\"}],\"table\":[{\"cells\":{\"fill\":{\"color\":\"#EBF0F8\"},\"line\":{\"color\":\"white\"}},\"header\":{\"fill\":{\"color\":\"#C8D4E3\"},\"line\":{\"color\":\"white\"}},\"type\":\"table\"}],\"barpolar\":[{\"marker\":{\"line\":{\"color\":\"#E5ECF6\",\"width\":0.5},\"pattern\":{\"fillmode\":\"overlay\",\"size\":10,\"solidity\":0.2}},\"type\":\"barpolar\"}],\"pie\":[{\"automargin\":true,\"type\":\"pie\"}]},\"layout\":{\"autotypenumbers\":\"strict\",\"colorway\":[\"#636efa\",\"#EF553B\",\"#00cc96\",\"#ab63fa\",\"#FFA15A\",\"#19d3f3\",\"#FF6692\",\"#B6E880\",\"#FF97FF\",\"#FECB52\"],\"font\":{\"color\":\"#2a3f5f\"},\"hovermode\":\"closest\",\"hoverlabel\":{\"align\":\"left\"},\"paper_bgcolor\":\"white\",\"plot_bgcolor\":\"#E5ECF6\",\"polar\":{\"bgcolor\":\"#E5ECF6\",\"angularaxis\":{\"gridcolor\":\"white\",\"linecolor\":\"white\",\"ticks\":\"\"},\"radialaxis\":{\"gridcolor\":\"white\",\"linecolor\":\"white\",\"ticks\":\"\"}},\"ternary\":{\"bgcolor\":\"#E5ECF6\",\"aaxis\":{\"gridcolor\":\"white\",\"linecolor\":\"white\",\"ticks\":\"\"},\"baxis\":{\"gridcolor\":\"white\",\"linecolor\":\"white\",\"ticks\":\"\"},\"caxis\":{\"gridcolor\":\"white\",\"linecolor\":\"white\",\"ticks\":\"\"}},\"coloraxis\":{\"colorbar\":{\"outlinewidth\":0,\"ticks\":\"\"}},\"colorscale\":{\"sequential\":[[0.0,\"#0d0887\"],[0.1111111111111111,\"#46039f\"],[0.2222222222222222,\"#7201a8\"],[0.3333333333333333,\"#9c179e\"],[0.4444444444444444,\"#bd3786\"],[0.5555555555555556,\"#d8576b\"],[0.6666666666666666,\"#ed7953\"],[0.7777777777777778,\"#fb9f3a\"],[0.8888888888888888,\"#fdca26\"],[1.0,\"#f0f921\"]],\"sequentialminus\":[[0.0,\"#0d0887\"],[0.1111111111111111,\"#46039f\"],[0.2222222222222222,\"#7201a8\"],[0.3333333333333333,\"#9c179e\"],[0.4444444444444444,\"#bd3786\"],[0.5555555555555556,\"#d8576b\"],[0.6666666666666666,\"#ed7953\"],[0.7777777777777778,\"#fb9f3a\"],[0.8888888888888888,\"#fdca26\"],[1.0,\"#f0f921\"]],\"diverging\":[[0,\"#8e0152\"],[0.1,\"#c51b7d\"],[0.2,\"#de77ae\"],[0.3,\"#f1b6da\"],[0.4,\"#fde0ef\"],[0.5,\"#f7f7f7\"],[0.6,\"#e6f5d0\"],[0.7,\"#b8e186\"],[0.8,\"#7fbc41\"],[0.9,\"#4d9221\"],[1,\"#276419\"]]},\"xaxis\":{\"gridcolor\":\"white\",\"linecolor\":\"white\",\"ticks\":\"\",\"title\":{\"standoff\":15},\"zerolinecolor\":\"white\",\"automargin\":true,\"zerolinewidth\":2},\"yaxis\":{\"gridcolor\":\"white\",\"linecolor\":\"white\",\"ticks\":\"\",\"title\":{\"standoff\":15},\"zerolinecolor\":\"white\",\"automargin\":true,\"zerolinewidth\":2},\"scene\":{\"xaxis\":{\"backgroundcolor\":\"#E5ECF6\",\"gridcolor\":\"white\",\"linecolor\":\"white\",\"showbackground\":true,\"ticks\":\"\",\"zerolinecolor\":\"white\",\"gridwidth\":2},\"yaxis\":{\"backgroundcolor\":\"#E5ECF6\",\"gridcolor\":\"white\",\"linecolor\":\"white\",\"showbackground\":true,\"ticks\":\"\",\"zerolinecolor\":\"white\",\"gridwidth\":2},\"zaxis\":{\"backgroundcolor\":\"#E5ECF6\",\"gridcolor\":\"white\",\"linecolor\":\"white\",\"showbackground\":true,\"ticks\":\"\",\"zerolinecolor\":\"white\",\"gridwidth\":2}},\"shapedefaults\":{\"line\":{\"color\":\"#2a3f5f\"}},\"annotationdefaults\":{\"arrowcolor\":\"#2a3f5f\",\"arrowhead\":0,\"arrowwidth\":1},\"geo\":{\"bgcolor\":\"white\",\"landcolor\":\"#E5ECF6\",\"subunitcolor\":\"white\",\"showland\":true,\"showlakes\":true,\"lakecolor\":\"white\"},\"title\":{\"x\":0.05},\"mapbox\":{\"style\":\"light\"}}},\"xaxis\":{\"anchor\":\"y\",\"domain\":[0.0,1.0],\"title\":{\"text\":\"Categories\"}},\"yaxis\":{\"anchor\":\"x\",\"domain\":[0.0,1.0],\"title\":{\"text\":\"Time (in days)\"}},\"shapes\":[{\"line\":{\"color\":\"violet\",\"width\":2.5},\"type\":\"line\",\"x0\":-0.5,\"x1\":9.5,\"y0\":10.662542360534164,\"y1\":10.662542360534164},{\"line\":{\"color\":\"darkviolet\",\"width\":2.5},\"type\":\"line\",\"x0\":-0.5,\"x1\":9.5,\"y0\":7.978522578616307,\"y1\":7.978522578616307}],\"annotations\":[{\"align\":\"center\",\"ax\":0,\"ay\":-30,\"font\":{\"color\":\"violet\",\"size\":12},\"showarrow\":false,\"text\":\"Average Response Time: 10.66\",\"x\":8.4,\"xref\":\"x\",\"y\":11.162542360534164,\"yref\":\"y\"},{\"align\":\"center\",\"ax\":0,\"ay\":-30,\"font\":{\"color\":\"darkviolet\",\"size\":12},\"showarrow\":false,\"text\":\"Average Pickup Time: 7.98\",\"x\":8.4,\"xref\":\"x\",\"y\":8.478522578616307,\"yref\":\"y\"}],\"title\":{\"text\":\"Response and Pickup vs. Categories\"},\"showlegend\":true,\"height\":600,\"width\":700},                        {\"responsive\": true}                    ).then(function(){\n",
       "                            \n",
       "var gd = document.getElementById('0eb910c5-dd95-4fc5-9cdf-336dd3f18512');\n",
       "var x = new MutationObserver(function (mutations, observer) {{\n",
       "        var display = window.getComputedStyle(gd).display;\n",
       "        if (!display || display === 'none') {{\n",
       "            console.log([gd, 'removed!']);\n",
       "            Plotly.purge(gd);\n",
       "            observer.disconnect();\n",
       "        }}\n",
       "}});\n",
       "\n",
       "// Listen for the removal of the full notebook cells\n",
       "var notebookContainer = gd.closest('#notebook-container');\n",
       "if (notebookContainer) {{\n",
       "    x.observe(notebookContainer, {childList: true});\n",
       "}}\n",
       "\n",
       "// Listen for the clearing of the current output cell\n",
       "var outputEl = gd.closest('.output');\n",
       "if (outputEl) {{\n",
       "    x.observe(outputEl, {childList: true});\n",
       "}}\n",
       "\n",
       "                        })                };                });            </script>        </div>"
      ]
     },
     "metadata": {},
     "output_type": "display_data"
    }
   ],
   "source": [
    "from plotly.subplots import make_subplots\n",
    "fig = make_subplots(rows=1, cols=1)\n",
    "\n",
    "# Add figure 1 to subplot 1\n",
    "fig.add_trace(fig1.update(marker_color='lightblue'), row=1, col=1)\n",
    "\n",
    "# Add figure 2 to subplot 1\n",
    "fig.add_trace(fig2.update(marker_color='darkblue'), row=1, col=1)\n",
    "\n",
    "\n",
    "avg = np.mean(grouped.values / pd.Timedelta(days=1))\n",
    "fig.add_shape(\n",
    "    type='line',\n",
    "    x0=-0.5,\n",
    "    y0=avg,\n",
    "    x1=len(grouped.index)-0.5,\n",
    "    y1=avg,\n",
    "    line=dict(color='violet', width=2.5)\n",
    ")\n",
    "\n",
    "avg_2 = np.mean(grouped2.values / pd.Timedelta(days=1))\n",
    "fig.add_shape(\n",
    "    type='line',\n",
    "    x0=-0.5,\n",
    "    y0=avg_2,\n",
    "    x1=len(grouped2.index)-0.5,\n",
    "    y1=avg_2,\n",
    "    line=dict(color='darkviolet', width=2.5)\n",
    ")\n",
    "\n",
    "fig.add_annotation(\n",
    "    x=8.4,\n",
    "    y=avg+0.5,\n",
    "    xref=\"x\",\n",
    "    yref=\"y\",\n",
    "    text=f\"Average Response Time: {avg:.2f}\",\n",
    "    font=dict(color=\"violet\", size=12),\n",
    "    showarrow=False,\n",
    "    align=\"center\",\n",
    "    ax=0,\n",
    "    ay=-30\n",
    ")\n",
    "\n",
    "fig.add_annotation(\n",
    "    x=8.4,\n",
    "    y=avg_2+0.5,\n",
    "    xref=\"x\",\n",
    "    yref=\"y\",\n",
    "    text=f\"Average Pickup Time: {avg_2:.2f}\",\n",
    "    font=dict(color=\"darkviolet\", size=12),\n",
    "    showarrow=False,\n",
    "    align=\"center\",\n",
    "    ax=0,\n",
    "    ay=-30\n",
    ")\n",
    "\n",
    "\n",
    "\n",
    "fig.update_layout(xaxis_title='Categories', \n",
    "                  yaxis_title='Time (in days)',\n",
    "                  title = \"Response and Pickup vs. Categories\",\n",
    "                 showlegend=True,\n",
    "                 height = 600,\n",
    "                 width = 700)\n",
    "\n",
    "# Show the combined figure\n",
    "fig.show()"
   ]
  },
  {
   "cell_type": "code",
   "execution_count": 238,
   "id": "7a4b54ac-2024-4b76-9684-f16807365641",
   "metadata": {},
   "outputs": [
    {
     "data": {
      "text/html": [
       "<div>\n",
       "<style scoped>\n",
       "    .dataframe tbody tr th:only-of-type {\n",
       "        vertical-align: middle;\n",
       "    }\n",
       "\n",
       "    .dataframe tbody tr th {\n",
       "        vertical-align: top;\n",
       "    }\n",
       "\n",
       "    .dataframe thead th {\n",
       "        text-align: right;\n",
       "    }\n",
       "</style>\n",
       "<table border=\"1\" class=\"dataframe\">\n",
       "  <thead>\n",
       "    <tr style=\"text-align: right;\">\n",
       "      <th></th>\n",
       "      <th>Id_x</th>\n",
       "      <th>StateAbbr_x</th>\n",
       "      <th>QuestionUno</th>\n",
       "      <th>PostText</th>\n",
       "      <th>CreatedUtc</th>\n",
       "      <th>Id_y</th>\n",
       "      <th>StateAbbr_y</th>\n",
       "      <th>CategoryUno</th>\n",
       "      <th>Category</th>\n",
       "      <th>SubcategoryUno</th>\n",
       "      <th>Subcategory</th>\n",
       "      <th>AskedByClientUno</th>\n",
       "      <th>AskedOnUtc</th>\n",
       "      <th>TakenByAttorneyUno</th>\n",
       "      <th>TakenOnUtc</th>\n",
       "      <th>ClosedByAttorneyUno</th>\n",
       "      <th>ClosedOnUtc</th>\n",
       "      <th>LegalDeadline</th>\n",
       "      <th>response</th>\n",
       "      <th>pickup</th>\n",
       "    </tr>\n",
       "  </thead>\n",
       "  <tbody>\n",
       "  </tbody>\n",
       "</table>\n",
       "</div>"
      ],
      "text/plain": [
       "Empty DataFrame\n",
       "Columns: [Id_x, StateAbbr_x, QuestionUno, PostText, CreatedUtc, Id_y, StateAbbr_y, CategoryUno, Category, SubcategoryUno, Subcategory, AskedByClientUno, AskedOnUtc, TakenByAttorneyUno, TakenOnUtc, ClosedByAttorneyUno, ClosedOnUtc, LegalDeadline, response, pickup]\n",
       "Index: []"
      ]
     },
     "execution_count": 238,
     "metadata": {},
     "output_type": "execute_result"
    }
   ],
   "source": [
    "merged.loc[(merged.StateAbbr_x == \"NV\")]"
   ]
  },
  {
   "cell_type": "code",
   "execution_count": 239,
   "id": "49f44da9-2ac6-40aa-bbbb-8b560cdd5d62",
   "metadata": {},
   "outputs": [
    {
     "name": "stdout",
     "output_type": "stream",
     "text": [
      "StateAbbr_x\n",
      "AK   30 days 18:34:20.560540873\n",
      "AL   32 days 13:24:17.882827030\n",
      "AR   12 days 15:19:22.849677756\n",
      "AZ    9 days 18:10:52.262473398\n",
      "CA    9 days 16:26:50.221283783\n",
      "CT   19 days 06:05:30.557080924\n",
      "FL    5 days 05:21:44.308125356\n",
      "GA   11 days 06:35:43.628394333\n",
      "HI    8 days 15:51:47.637331726\n",
      "IA   10 days 06:25:19.176573426\n",
      "IL   18 days 00:40:57.378566406\n",
      "IN    5 days 02:43:35.195729961\n",
      "KS   11 days 14:25:38.831683168\n",
      "LA   15 days 07:16:40.921108982\n",
      "MA   13 days 00:58:07.263709863\n",
      "MD    9 days 20:00:29.892489270\n",
      "ME   11 days 23:25:21.524755597\n",
      "MI   11 days 08:16:30.088379705\n",
      "MO    6 days 01:39:13.046940176\n",
      "MS   17 days 17:28:49.761569789\n",
      "NC   11 days 01:45:01.841831979\n",
      "NE   10 days 11:55:00.451184188\n",
      "NH    9 days 13:43:05.404336734\n",
      "NJ    7 days 22:27:54.657633243\n",
      "NM   64 days 21:55:08.711533587\n",
      "NY   10 days 19:26:58.055109684\n",
      "OK    7 days 13:59:08.426464391\n",
      "PA    9 days 18:54:48.864864864\n",
      "SC    2 days 20:01:24.635885447\n",
      "SD   13 days 06:13:37.188789652\n",
      "TN    8 days 19:37:44.846562843\n",
      "TX    7 days 12:07:39.984129961\n",
      "US   10 days 20:54:54.146666666\n",
      "UT   13 days 10:35:02.550751879\n",
      "VA    7 days 19:30:21.483294633\n",
      "VT   18 days 18:36:22.557782516\n",
      "WI   11 days 00:51:40.495750545\n",
      "WV   10 days 09:43:10.436567164\n",
      "WY   12 days 21:54:28.726133076\n",
      "Name: response, dtype: timedelta64[ns]\n"
     ]
    }
   ],
   "source": [
    "grouped3 = merged.groupby('StateAbbr_x')['response'].mean()\n",
    "\n",
    "print(grouped3)"
   ]
  },
  {
   "cell_type": "code",
   "execution_count": 277,
   "id": "3514f893-1068-42d8-8a7a-67cc7f3e31ac",
   "metadata": {},
   "outputs": [],
   "source": [
    "fig3 = go.Bar(x=grouped3.index, y=grouped3.values / pd.Timedelta(days=1), name = \"Response\")"
   ]
  },
  {
   "cell_type": "code",
   "execution_count": 317,
   "id": "c639f9df-688e-48f5-b32b-914cb70efd09",
   "metadata": {},
   "outputs": [
    {
     "name": "stdout",
     "output_type": "stream",
     "text": [
      "StateAbbr_x\n",
      "AK    4 days 09:50:21.839582052\n",
      "AL   26 days 14:56:33.142591444\n",
      "AR    6 days 15:06:55.936596411\n",
      "AZ    2 days 19:52:30.788838969\n",
      "CA   12 days 08:16:06.890878378\n",
      "CT    6 days 17:36:40.494580924\n",
      "FL    2 days 10:58:27.425504273\n",
      "GA   28 days 11:14:28.646694215\n",
      "HI    4 days 10:04:49.108499095\n",
      "IA   14 days 01:55:38.913752913\n",
      "IL    7 days 09:16:38.507382600\n",
      "IN   10 days 14:50:31.605558206\n",
      "KS   12 days 03:06:39.039603960\n",
      "LA    5 days 13:29:04.944663586\n",
      "MA    6 days 19:35:21.605266805\n",
      "MD      12 days 02:54:49.100000\n",
      "ME    4 days 02:01:25.065384211\n",
      "MI    4 days 22:00:57.039279869\n",
      "MO    1 days 19:22:24.353397750\n",
      "MS   13 days 00:55:09.378008145\n",
      "NC    7 days 02:51:43.403474903\n",
      "NE    7 days 22:17:55.916851252\n",
      "NH    5 days 15:07:04.674426020\n",
      "NJ    2 days 04:31:20.940379403\n",
      "NM    3 days 11:21:16.839543726\n",
      "NY    4 days 02:26:53.223849652\n",
      "OK    8 days 09:48:16.252142154\n",
      "PA   14 days 22:03:05.213513513\n",
      "SC   22 days 17:56:56.634781479\n",
      "SD    1 days 08:28:56.403141361\n",
      "TN    5 days 03:40:46.713570252\n",
      "TX    9 days 22:18:51.998424251\n",
      "US   10 days 00:05:04.806666666\n",
      "UT   28 days 20:38:35.618656015\n",
      "VA    3 days 17:43:24.262512899\n",
      "VT    5 days 21:26:50.657995735\n",
      "WI    2 days 09:27:54.659813942\n",
      "WV    6 days 10:19:29.778279654\n",
      "WY    9 days 14:03:01.920925747\n",
      "Name: pickup, dtype: timedelta64[ns]\n"
     ]
    }
   ],
   "source": [
    "grouped4 = merged.groupby('StateAbbr_x')['pickup'].mean()\n",
    "\n",
    "print(grouped4)"
   ]
  },
  {
   "cell_type": "code",
   "execution_count": 278,
   "id": "5cf0d5e5-8634-4546-8632-8f1e0ba5e526",
   "metadata": {},
   "outputs": [],
   "source": [
    "fig4 = go.Bar(x=grouped4.index, y=grouped4.values / pd.Timedelta(days=1), name = \"Pickup\")"
   ]
  },
  {
   "cell_type": "code",
   "execution_count": 279,
   "id": "0452d986-fd6f-4b41-98e6-cd4f36213951",
   "metadata": {},
   "outputs": [
    {
     "data": {
      "application/vnd.plotly.v1+json": {
       "config": {
        "plotlyServerURL": "https://plot.ly"
       },
       "data": [
        {
         "marker": {
          "color": "lightblue"
         },
         "name": "Response",
         "type": "bar",
         "x": [
          "AK",
          "AL",
          "AR",
          "AZ",
          "CA",
          "CT",
          "FL",
          "GA",
          "HI",
          "IA",
          "IL",
          "IN",
          "KS",
          "LA",
          "MA",
          "MD",
          "ME",
          "MI",
          "MO",
          "MS",
          "NC",
          "NE",
          "NH",
          "NJ",
          "NM",
          "NY",
          "OK",
          "PA",
          "SC",
          "SD",
          "TN",
          "TX",
          "US",
          "UT",
          "VA",
          "VT",
          "WI",
          "WV",
          "WY"
         ],
         "xaxis": "x",
         "y": [
          30.773849080334177,
          32.55854031049803,
          12.638458908307362,
          9.757549334182848,
          9.685303487080821,
          19.253825892140323,
          5.22342949219162,
          11.274810513823299,
          8.660968024672755,
          10.26758306219243,
          18.028441881555626,
          5.113601802430104,
          11.601143885221852,
          15.303251401724328,
          13.040361848493784,
          9.833679311218402,
          11.97594357356015,
          11.344792689579918,
          6.068901006252037,
          17.72835372187256,
          11.072937984166424,
          10.49653299981699,
          9.571590327971458,
          7.9360492781625345,
          64.91329527237949,
          10.810394156362083,
          7.582736417411933,
          9.788065565565555,
          2.834312915340822,
          13.259458203583936,
          8.817880168551424,
          7.5053238903930675,
          10.87146003086419,
          13.441001744813414,
          7.812748649243438,
          18.775261085445788,
          11.035885367483159,
          10.404981904712546,
          12.912832478392083
         ],
         "yaxis": "y"
        },
        {
         "marker": {
          "color": "darkblue"
         },
         "name": "Pickup",
         "type": "bar",
         "x": [
          "AK",
          "AL",
          "AR",
          "AZ",
          "CA",
          "CT",
          "FL",
          "GA",
          "HI",
          "IA",
          "IL",
          "IN",
          "KS",
          "LA",
          "MA",
          "MD",
          "ME",
          "MI",
          "MO",
          "MS",
          "NC",
          "NE",
          "NH",
          "NJ",
          "NM",
          "NY",
          "OK",
          "PA",
          "SC",
          "SD",
          "TN",
          "TX",
          "US",
          "UT",
          "VA",
          "VT",
          "WI",
          "WV",
          "WY"
         ],
         "xaxis": "x",
         "y": [
          4.409974995162639,
          26.622605817030603,
          6.629814080976979,
          2.8281341300806595,
          12.344524199981226,
          6.733802020612546,
          2.457261869262419,
          28.46838711451638,
          4.420012829850637,
          14.080311501769826,
          7.386556798409722,
          10.618421360627384,
          12.129618513934723,
          5.561862785458171,
          6.816222283180614,
          12.12140162037037,
          4.084317886391331,
          4.917326843517002,
          1.8072263124739583,
          13.038302986205382,
          7.119252355033599,
          7.929119408000602,
          5.629915213264121,
          2.188436809946794,
          3.473111568793125,
          4.102004905667268,
          8.408521436830487,
          14.918810341591586,
          22.74787771737823,
          1.3534305919139005,
          5.1533184441001385,
          9.929768500280684,
          10.003527854938264,
          28.860134475185358,
          3.7384752605659606,
          5.893641874950637,
          2.3943826367354397,
          6.430205767125625,
          9.585438899603552
         ],
         "yaxis": "y"
        }
       ],
       "layout": {
        "autosize": true,
        "shapes": [
         {
          "line": {
           "color": "violet",
           "width": 1
          },
          "type": "line",
          "x0": -0.5,
          "x1": 38.5,
          "y0": 13.332706094051096,
          "y1": 13.332706094051096
         },
         {
          "line": {
           "color": "darkviolet",
           "width": 1
          },
          "type": "line",
          "x0": -0.5,
          "x1": 38.5,
          "y0": 8.906037436197895,
          "y1": 8.906037436197895
         }
        ],
        "showlegend": true,
        "template": {
         "data": {
          "bar": [
           {
            "error_x": {
             "color": "#2a3f5f"
            },
            "error_y": {
             "color": "#2a3f5f"
            },
            "marker": {
             "line": {
              "color": "#E5ECF6",
              "width": 0.5
             },
             "pattern": {
              "fillmode": "overlay",
              "size": 10,
              "solidity": 0.2
             }
            },
            "type": "bar"
           }
          ],
          "barpolar": [
           {
            "marker": {
             "line": {
              "color": "#E5ECF6",
              "width": 0.5
             },
             "pattern": {
              "fillmode": "overlay",
              "size": 10,
              "solidity": 0.2
             }
            },
            "type": "barpolar"
           }
          ],
          "carpet": [
           {
            "aaxis": {
             "endlinecolor": "#2a3f5f",
             "gridcolor": "white",
             "linecolor": "white",
             "minorgridcolor": "white",
             "startlinecolor": "#2a3f5f"
            },
            "baxis": {
             "endlinecolor": "#2a3f5f",
             "gridcolor": "white",
             "linecolor": "white",
             "minorgridcolor": "white",
             "startlinecolor": "#2a3f5f"
            },
            "type": "carpet"
           }
          ],
          "choropleth": [
           {
            "colorbar": {
             "outlinewidth": 0,
             "ticks": ""
            },
            "type": "choropleth"
           }
          ],
          "contour": [
           {
            "colorbar": {
             "outlinewidth": 0,
             "ticks": ""
            },
            "colorscale": [
             [
              0,
              "#0d0887"
             ],
             [
              0.1111111111111111,
              "#46039f"
             ],
             [
              0.2222222222222222,
              "#7201a8"
             ],
             [
              0.3333333333333333,
              "#9c179e"
             ],
             [
              0.4444444444444444,
              "#bd3786"
             ],
             [
              0.5555555555555556,
              "#d8576b"
             ],
             [
              0.6666666666666666,
              "#ed7953"
             ],
             [
              0.7777777777777778,
              "#fb9f3a"
             ],
             [
              0.8888888888888888,
              "#fdca26"
             ],
             [
              1,
              "#f0f921"
             ]
            ],
            "type": "contour"
           }
          ],
          "contourcarpet": [
           {
            "colorbar": {
             "outlinewidth": 0,
             "ticks": ""
            },
            "type": "contourcarpet"
           }
          ],
          "heatmap": [
           {
            "colorbar": {
             "outlinewidth": 0,
             "ticks": ""
            },
            "colorscale": [
             [
              0,
              "#0d0887"
             ],
             [
              0.1111111111111111,
              "#46039f"
             ],
             [
              0.2222222222222222,
              "#7201a8"
             ],
             [
              0.3333333333333333,
              "#9c179e"
             ],
             [
              0.4444444444444444,
              "#bd3786"
             ],
             [
              0.5555555555555556,
              "#d8576b"
             ],
             [
              0.6666666666666666,
              "#ed7953"
             ],
             [
              0.7777777777777778,
              "#fb9f3a"
             ],
             [
              0.8888888888888888,
              "#fdca26"
             ],
             [
              1,
              "#f0f921"
             ]
            ],
            "type": "heatmap"
           }
          ],
          "heatmapgl": [
           {
            "colorbar": {
             "outlinewidth": 0,
             "ticks": ""
            },
            "colorscale": [
             [
              0,
              "#0d0887"
             ],
             [
              0.1111111111111111,
              "#46039f"
             ],
             [
              0.2222222222222222,
              "#7201a8"
             ],
             [
              0.3333333333333333,
              "#9c179e"
             ],
             [
              0.4444444444444444,
              "#bd3786"
             ],
             [
              0.5555555555555556,
              "#d8576b"
             ],
             [
              0.6666666666666666,
              "#ed7953"
             ],
             [
              0.7777777777777778,
              "#fb9f3a"
             ],
             [
              0.8888888888888888,
              "#fdca26"
             ],
             [
              1,
              "#f0f921"
             ]
            ],
            "type": "heatmapgl"
           }
          ],
          "histogram": [
           {
            "marker": {
             "pattern": {
              "fillmode": "overlay",
              "size": 10,
              "solidity": 0.2
             }
            },
            "type": "histogram"
           }
          ],
          "histogram2d": [
           {
            "colorbar": {
             "outlinewidth": 0,
             "ticks": ""
            },
            "colorscale": [
             [
              0,
              "#0d0887"
             ],
             [
              0.1111111111111111,
              "#46039f"
             ],
             [
              0.2222222222222222,
              "#7201a8"
             ],
             [
              0.3333333333333333,
              "#9c179e"
             ],
             [
              0.4444444444444444,
              "#bd3786"
             ],
             [
              0.5555555555555556,
              "#d8576b"
             ],
             [
              0.6666666666666666,
              "#ed7953"
             ],
             [
              0.7777777777777778,
              "#fb9f3a"
             ],
             [
              0.8888888888888888,
              "#fdca26"
             ],
             [
              1,
              "#f0f921"
             ]
            ],
            "type": "histogram2d"
           }
          ],
          "histogram2dcontour": [
           {
            "colorbar": {
             "outlinewidth": 0,
             "ticks": ""
            },
            "colorscale": [
             [
              0,
              "#0d0887"
             ],
             [
              0.1111111111111111,
              "#46039f"
             ],
             [
              0.2222222222222222,
              "#7201a8"
             ],
             [
              0.3333333333333333,
              "#9c179e"
             ],
             [
              0.4444444444444444,
              "#bd3786"
             ],
             [
              0.5555555555555556,
              "#d8576b"
             ],
             [
              0.6666666666666666,
              "#ed7953"
             ],
             [
              0.7777777777777778,
              "#fb9f3a"
             ],
             [
              0.8888888888888888,
              "#fdca26"
             ],
             [
              1,
              "#f0f921"
             ]
            ],
            "type": "histogram2dcontour"
           }
          ],
          "mesh3d": [
           {
            "colorbar": {
             "outlinewidth": 0,
             "ticks": ""
            },
            "type": "mesh3d"
           }
          ],
          "parcoords": [
           {
            "line": {
             "colorbar": {
              "outlinewidth": 0,
              "ticks": ""
             }
            },
            "type": "parcoords"
           }
          ],
          "pie": [
           {
            "automargin": true,
            "type": "pie"
           }
          ],
          "scatter": [
           {
            "fillpattern": {
             "fillmode": "overlay",
             "size": 10,
             "solidity": 0.2
            },
            "type": "scatter"
           }
          ],
          "scatter3d": [
           {
            "line": {
             "colorbar": {
              "outlinewidth": 0,
              "ticks": ""
             }
            },
            "marker": {
             "colorbar": {
              "outlinewidth": 0,
              "ticks": ""
             }
            },
            "type": "scatter3d"
           }
          ],
          "scattercarpet": [
           {
            "marker": {
             "colorbar": {
              "outlinewidth": 0,
              "ticks": ""
             }
            },
            "type": "scattercarpet"
           }
          ],
          "scattergeo": [
           {
            "marker": {
             "colorbar": {
              "outlinewidth": 0,
              "ticks": ""
             }
            },
            "type": "scattergeo"
           }
          ],
          "scattergl": [
           {
            "marker": {
             "colorbar": {
              "outlinewidth": 0,
              "ticks": ""
             }
            },
            "type": "scattergl"
           }
          ],
          "scattermapbox": [
           {
            "marker": {
             "colorbar": {
              "outlinewidth": 0,
              "ticks": ""
             }
            },
            "type": "scattermapbox"
           }
          ],
          "scatterpolar": [
           {
            "marker": {
             "colorbar": {
              "outlinewidth": 0,
              "ticks": ""
             }
            },
            "type": "scatterpolar"
           }
          ],
          "scatterpolargl": [
           {
            "marker": {
             "colorbar": {
              "outlinewidth": 0,
              "ticks": ""
             }
            },
            "type": "scatterpolargl"
           }
          ],
          "scatterternary": [
           {
            "marker": {
             "colorbar": {
              "outlinewidth": 0,
              "ticks": ""
             }
            },
            "type": "scatterternary"
           }
          ],
          "surface": [
           {
            "colorbar": {
             "outlinewidth": 0,
             "ticks": ""
            },
            "colorscale": [
             [
              0,
              "#0d0887"
             ],
             [
              0.1111111111111111,
              "#46039f"
             ],
             [
              0.2222222222222222,
              "#7201a8"
             ],
             [
              0.3333333333333333,
              "#9c179e"
             ],
             [
              0.4444444444444444,
              "#bd3786"
             ],
             [
              0.5555555555555556,
              "#d8576b"
             ],
             [
              0.6666666666666666,
              "#ed7953"
             ],
             [
              0.7777777777777778,
              "#fb9f3a"
             ],
             [
              0.8888888888888888,
              "#fdca26"
             ],
             [
              1,
              "#f0f921"
             ]
            ],
            "type": "surface"
           }
          ],
          "table": [
           {
            "cells": {
             "fill": {
              "color": "#EBF0F8"
             },
             "line": {
              "color": "white"
             }
            },
            "header": {
             "fill": {
              "color": "#C8D4E3"
             },
             "line": {
              "color": "white"
             }
            },
            "type": "table"
           }
          ]
         },
         "layout": {
          "annotationdefaults": {
           "arrowcolor": "#2a3f5f",
           "arrowhead": 0,
           "arrowwidth": 1
          },
          "autotypenumbers": "strict",
          "coloraxis": {
           "colorbar": {
            "outlinewidth": 0,
            "ticks": ""
           }
          },
          "colorscale": {
           "diverging": [
            [
             0,
             "#8e0152"
            ],
            [
             0.1,
             "#c51b7d"
            ],
            [
             0.2,
             "#de77ae"
            ],
            [
             0.3,
             "#f1b6da"
            ],
            [
             0.4,
             "#fde0ef"
            ],
            [
             0.5,
             "#f7f7f7"
            ],
            [
             0.6,
             "#e6f5d0"
            ],
            [
             0.7,
             "#b8e186"
            ],
            [
             0.8,
             "#7fbc41"
            ],
            [
             0.9,
             "#4d9221"
            ],
            [
             1,
             "#276419"
            ]
           ],
           "sequential": [
            [
             0,
             "#0d0887"
            ],
            [
             0.1111111111111111,
             "#46039f"
            ],
            [
             0.2222222222222222,
             "#7201a8"
            ],
            [
             0.3333333333333333,
             "#9c179e"
            ],
            [
             0.4444444444444444,
             "#bd3786"
            ],
            [
             0.5555555555555556,
             "#d8576b"
            ],
            [
             0.6666666666666666,
             "#ed7953"
            ],
            [
             0.7777777777777778,
             "#fb9f3a"
            ],
            [
             0.8888888888888888,
             "#fdca26"
            ],
            [
             1,
             "#f0f921"
            ]
           ],
           "sequentialminus": [
            [
             0,
             "#0d0887"
            ],
            [
             0.1111111111111111,
             "#46039f"
            ],
            [
             0.2222222222222222,
             "#7201a8"
            ],
            [
             0.3333333333333333,
             "#9c179e"
            ],
            [
             0.4444444444444444,
             "#bd3786"
            ],
            [
             0.5555555555555556,
             "#d8576b"
            ],
            [
             0.6666666666666666,
             "#ed7953"
            ],
            [
             0.7777777777777778,
             "#fb9f3a"
            ],
            [
             0.8888888888888888,
             "#fdca26"
            ],
            [
             1,
             "#f0f921"
            ]
           ]
          },
          "colorway": [
           "#636efa",
           "#EF553B",
           "#00cc96",
           "#ab63fa",
           "#FFA15A",
           "#19d3f3",
           "#FF6692",
           "#B6E880",
           "#FF97FF",
           "#FECB52"
          ],
          "font": {
           "color": "#2a3f5f"
          },
          "geo": {
           "bgcolor": "white",
           "lakecolor": "white",
           "landcolor": "#E5ECF6",
           "showlakes": true,
           "showland": true,
           "subunitcolor": "white"
          },
          "hoverlabel": {
           "align": "left"
          },
          "hovermode": "closest",
          "mapbox": {
           "style": "light"
          },
          "paper_bgcolor": "white",
          "plot_bgcolor": "#E5ECF6",
          "polar": {
           "angularaxis": {
            "gridcolor": "white",
            "linecolor": "white",
            "ticks": ""
           },
           "bgcolor": "#E5ECF6",
           "radialaxis": {
            "gridcolor": "white",
            "linecolor": "white",
            "ticks": ""
           }
          },
          "scene": {
           "xaxis": {
            "backgroundcolor": "#E5ECF6",
            "gridcolor": "white",
            "gridwidth": 2,
            "linecolor": "white",
            "showbackground": true,
            "ticks": "",
            "zerolinecolor": "white"
           },
           "yaxis": {
            "backgroundcolor": "#E5ECF6",
            "gridcolor": "white",
            "gridwidth": 2,
            "linecolor": "white",
            "showbackground": true,
            "ticks": "",
            "zerolinecolor": "white"
           },
           "zaxis": {
            "backgroundcolor": "#E5ECF6",
            "gridcolor": "white",
            "gridwidth": 2,
            "linecolor": "white",
            "showbackground": true,
            "ticks": "",
            "zerolinecolor": "white"
           }
          },
          "shapedefaults": {
           "line": {
            "color": "#2a3f5f"
           }
          },
          "ternary": {
           "aaxis": {
            "gridcolor": "white",
            "linecolor": "white",
            "ticks": ""
           },
           "baxis": {
            "gridcolor": "white",
            "linecolor": "white",
            "ticks": ""
           },
           "bgcolor": "#E5ECF6",
           "caxis": {
            "gridcolor": "white",
            "linecolor": "white",
            "ticks": ""
           }
          },
          "title": {
           "x": 0.05
          },
          "xaxis": {
           "automargin": true,
           "gridcolor": "white",
           "linecolor": "white",
           "ticks": "",
           "title": {
            "standoff": 15
           },
           "zerolinecolor": "white",
           "zerolinewidth": 2
          },
          "yaxis": {
           "automargin": true,
           "gridcolor": "white",
           "linecolor": "white",
           "ticks": "",
           "title": {
            "standoff": 15
           },
           "zerolinecolor": "white",
           "zerolinewidth": 2
          }
         }
        },
        "title": {
         "text": "Response and Pickup vs. States"
        },
        "xaxis": {
         "anchor": "y",
         "autorange": true,
         "domain": [
          0,
          1
         ],
         "range": [
          -0.5244974874371859,
          38.52449748743719
         ],
         "title": {
          "text": "States"
         },
         "type": "category"
        },
        "yaxis": {
         "anchor": "x",
         "autorange": true,
         "domain": [
          0,
          1
         ],
         "range": [
          0,
          68.32978449724156
         ],
         "title": {
          "text": "Time (in days)"
         },
         "type": "linear"
        }
       }
      },
      "image/png": "[encoded data removed]",
      "text/html": [
       "<div>                            <div id=\"c1bf9f6e-b006-4ccf-ae54-5824fb13978d\" class=\"plotly-graph-div\" style=\"height:525px; width:100%;\"></div>            <script type=\"text/javascript\">                require([\"plotly\"], function(Plotly) {                    window.PLOTLYENV=window.PLOTLYENV || {};                                    if (document.getElementById(\"c1bf9f6e-b006-4ccf-ae54-5824fb13978d\")) {                    Plotly.newPlot(                        \"c1bf9f6e-b006-4ccf-ae54-5824fb13978d\",                        [{\"marker\":{\"color\":\"lightblue\"},\"name\":\"Response\",\"x\":[\"AK\",\"AL\",\"AR\",\"AZ\",\"CA\",\"CT\",\"FL\",\"GA\",\"HI\",\"IA\",\"IL\",\"IN\",\"KS\",\"LA\",\"MA\",\"MD\",\"ME\",\"MI\",\"MO\",\"MS\",\"NC\",\"NE\",\"NH\",\"NJ\",\"NM\",\"NY\",\"OK\",\"PA\",\"SC\",\"SD\",\"TN\",\"TX\",\"US\",\"UT\",\"VA\",\"VT\",\"WI\",\"WV\",\"WY\"],\"y\":[30.773849080334177,32.55854031049803,12.638458908307362,9.757549334182848,9.685303487080821,19.253825892140323,5.22342949219162,11.274810513823299,8.660968024672755,10.26758306219243,18.028441881555626,5.113601802430104,11.601143885221852,15.303251401724328,13.040361848493784,9.833679311218402,11.97594357356015,11.344792689579918,6.068901006252037,17.72835372187256,11.072937984166424,10.49653299981699,9.571590327971458,7.9360492781625345,64.91329527237949,10.810394156362083,7.582736417411933,9.788065565565555,2.834312915340822,13.259458203583936,8.817880168551424,7.5053238903930675,10.87146003086419,13.441001744813414,7.812748649243438,18.775261085445788,11.035885367483159,10.404981904712546,12.912832478392083],\"type\":\"bar\",\"xaxis\":\"x\",\"yaxis\":\"y\"},{\"marker\":{\"color\":\"darkblue\"},\"name\":\"Pickup\",\"x\":[\"AK\",\"AL\",\"AR\",\"AZ\",\"CA\",\"CT\",\"FL\",\"GA\",\"HI\",\"IA\",\"IL\",\"IN\",\"KS\",\"LA\",\"MA\",\"MD\",\"ME\",\"MI\",\"MO\",\"MS\",\"NC\",\"NE\",\"NH\",\"NJ\",\"NM\",\"NY\",\"OK\",\"PA\",\"SC\",\"SD\",\"TN\",\"TX\",\"US\",\"UT\",\"VA\",\"VT\",\"WI\",\"WV\",\"WY\"],\"y\":[4.409974995162639,26.622605817030603,6.629814080976979,2.8281341300806595,12.344524199981226,6.733802020612546,2.457261869262419,28.46838711451638,4.420012829850637,14.080311501769826,7.386556798409722,10.618421360627384,12.129618513934723,5.561862785458171,6.816222283180614,12.12140162037037,4.084317886391331,4.917326843517002,1.8072263124739583,13.038302986205382,7.119252355033599,7.929119408000602,5.629915213264121,2.188436809946794,3.473111568793125,4.102004905667268,8.408521436830487,14.918810341591586,22.74787771737823,1.3534305919139005,5.1533184441001385,9.929768500280684,10.003527854938264,28.860134475185358,3.7384752605659606,5.893641874950637,2.3943826367354397,6.430205767125625,9.585438899603552],\"type\":\"bar\",\"xaxis\":\"x\",\"yaxis\":\"y\"}],                        {\"template\":{\"data\":{\"histogram2dcontour\":[{\"type\":\"histogram2dcontour\",\"colorbar\":{\"outlinewidth\":0,\"ticks\":\"\"},\"colorscale\":[[0.0,\"#0d0887\"],[0.1111111111111111,\"#46039f\"],[0.2222222222222222,\"#7201a8\"],[0.3333333333333333,\"#9c179e\"],[0.4444444444444444,\"#bd3786\"],[0.5555555555555556,\"#d8576b\"],[0.6666666666666666,\"#ed7953\"],[0.7777777777777778,\"#fb9f3a\"],[0.8888888888888888,\"#fdca26\"],[1.0,\"#f0f921\"]]}],\"choropleth\":[{\"type\":\"choropleth\",\"colorbar\":{\"outlinewidth\":0,\"ticks\":\"\"}}],\"histogram2d\":[{\"type\":\"histogram2d\",\"colorbar\":{\"outlinewidth\":0,\"ticks\":\"\"},\"colorscale\":[[0.0,\"#0d0887\"],[0.1111111111111111,\"#46039f\"],[0.2222222222222222,\"#7201a8\"],[0.3333333333333333,\"#9c179e\"],[0.4444444444444444,\"#bd3786\"],[0.5555555555555556,\"#d8576b\"],[0.6666666666666666,\"#ed7953\"],[0.7777777777777778,\"#fb9f3a\"],[0.8888888888888888,\"#fdca26\"],[1.0,\"#f0f921\"]]}],\"heatmap\":[{\"type\":\"heatmap\",\"colorbar\":{\"outlinewidth\":0,\"ticks\":\"\"},\"colorscale\":[[0.0,\"#0d0887\"],[0.1111111111111111,\"#46039f\"],[0.2222222222222222,\"#7201a8\"],[0.3333333333333333,\"#9c179e\"],[0.4444444444444444,\"#bd3786\"],[0.5555555555555556,\"#d8576b\"],[0.6666666666666666,\"#ed7953\"],[0.7777777777777778,\"#fb9f3a\"],[0.8888888888888888,\"#fdca26\"],[1.0,\"#f0f921\"]]}],\"heatmapgl\":[{\"type\":\"heatmapgl\",\"colorbar\":{\"outlinewidth\":0,\"ticks\":\"\"},\"colorscale\":[[0.0,\"#0d0887\"],[0.1111111111111111,\"#46039f\"],[0.2222222222222222,\"#7201a8\"],[0.3333333333333333,\"#9c179e\"],[0.4444444444444444,\"#bd3786\"],[0.5555555555555556,\"#d8576b\"],[0.6666666666666666,\"#ed7953\"],[0.7777777777777778,\"#fb9f3a\"],[0.8888888888888888,\"#fdca26\"],[1.0,\"#f0f921\"]]}],\"contourcarpet\":[{\"type\":\"contourcarpet\",\"colorbar\":{\"outlinewidth\":0,\"ticks\":\"\"}}],\"contour\":[{\"type\":\"contour\",\"colorbar\":{\"outlinewidth\":0,\"ticks\":\"\"},\"colorscale\":[[0.0,\"#0d0887\"],[0.1111111111111111,\"#46039f\"],[0.2222222222222222,\"#7201a8\"],[0.3333333333333333,\"#9c179e\"],[0.4444444444444444,\"#bd3786\"],[0.5555555555555556,\"#d8576b\"],[0.6666666666666666,\"#ed7953\"],[0.7777777777777778,\"#fb9f3a\"],[0.8888888888888888,\"#fdca26\"],[1.0,\"#f0f921\"]]}],\"surface\":[{\"type\":\"surface\",\"colorbar\":{\"outlinewidth\":0,\"ticks\":\"\"},\"colorscale\":[[0.0,\"#0d0887\"],[0.1111111111111111,\"#46039f\"],[0.2222222222222222,\"#7201a8\"],[0.3333333333333333,\"#9c179e\"],[0.4444444444444444,\"#bd3786\"],[0.5555555555555556,\"#d8576b\"],[0.6666666666666666,\"#ed7953\"],[0.7777777777777778,\"#fb9f3a\"],[0.8888888888888888,\"#fdca26\"],[1.0,\"#f0f921\"]]}],\"mesh3d\":[{\"type\":\"mesh3d\",\"colorbar\":{\"outlinewidth\":0,\"ticks\":\"\"}}],\"scatter\":[{\"fillpattern\":{\"fillmode\":\"overlay\",\"size\":10,\"solidity\":0.2},\"type\":\"scatter\"}],\"parcoords\":[{\"type\":\"parcoords\",\"line\":{\"colorbar\":{\"outlinewidth\":0,\"ticks\":\"\"}}}],\"scatterpolargl\":[{\"type\":\"scatterpolargl\",\"marker\":{\"colorbar\":{\"outlinewidth\":0,\"ticks\":\"\"}}}],\"bar\":[{\"error_x\":{\"color\":\"#2a3f5f\"},\"error_y\":{\"color\":\"#2a3f5f\"},\"marker\":{\"line\":{\"color\":\"#E5ECF6\",\"width\":0.5},\"pattern\":{\"fillmode\":\"overlay\",\"size\":10,\"solidity\":0.2}},\"type\":\"bar\"}],\"scattergeo\":[{\"type\":\"scattergeo\",\"marker\":{\"colorbar\":{\"outlinewidth\":0,\"ticks\":\"\"}}}],\"scatterpolar\":[{\"type\":\"scatterpolar\",\"marker\":{\"colorbar\":{\"outlinewidth\":0,\"ticks\":\"\"}}}],\"histogram\":[{\"marker\":{\"pattern\":{\"fillmode\":\"overlay\",\"size\":10,\"solidity\":0.2}},\"type\":\"histogram\"}],\"scattergl\":[{\"type\":\"scattergl\",\"marker\":{\"colorbar\":{\"outlinewidth\":0,\"ticks\":\"\"}}}],\"scatter3d\":[{\"type\":\"scatter3d\",\"line\":{\"colorbar\":{\"outlinewidth\":0,\"ticks\":\"\"}},\"marker\":{\"colorbar\":{\"outlinewidth\":0,\"ticks\":\"\"}}}],\"scattermapbox\":[{\"type\":\"scattermapbox\",\"marker\":{\"colorbar\":{\"outlinewidth\":0,\"ticks\":\"\"}}}],\"scatterternary\":[{\"type\":\"scatterternary\",\"marker\":{\"colorbar\":{\"outlinewidth\":0,\"ticks\":\"\"}}}],\"scattercarpet\":[{\"type\":\"scattercarpet\",\"marker\":{\"colorbar\":{\"outlinewidth\":0,\"ticks\":\"\"}}}],\"carpet\":[{\"aaxis\":{\"endlinecolor\":\"#2a3f5f\",\"gridcolor\":\"white\",\"linecolor\":\"white\",\"minorgridcolor\":\"white\",\"startlinecolor\":\"#2a3f5f\"},\"baxis\":{\"endlinecolor\":\"#2a3f5f\",\"gridcolor\":\"white\",\"linecolor\":\"white\",\"minorgridcolor\":\"white\",\"startlinecolor\":\"#2a3f5f\"},\"type\":\"carpet\"}],\"table\":[{\"cells\":{\"fill\":{\"color\":\"#EBF0F8\"},\"line\":{\"color\":\"white\"}},\"header\":{\"fill\":{\"color\":\"#C8D4E3\"},\"line\":{\"color\":\"white\"}},\"type\":\"table\"}],\"barpolar\":[{\"marker\":{\"line\":{\"color\":\"#E5ECF6\",\"width\":0.5},\"pattern\":{\"fillmode\":\"overlay\",\"size\":10,\"solidity\":0.2}},\"type\":\"barpolar\"}],\"pie\":[{\"automargin\":true,\"type\":\"pie\"}]},\"layout\":{\"autotypenumbers\":\"strict\",\"colorway\":[\"#636efa\",\"#EF553B\",\"#00cc96\",\"#ab63fa\",\"#FFA15A\",\"#19d3f3\",\"#FF6692\",\"#B6E880\",\"#FF97FF\",\"#FECB52\"],\"font\":{\"color\":\"#2a3f5f\"},\"hovermode\":\"closest\",\"hoverlabel\":{\"align\":\"left\"},\"paper_bgcolor\":\"white\",\"plot_bgcolor\":\"#E5ECF6\",\"polar\":{\"bgcolor\":\"#E5ECF6\",\"angularaxis\":{\"gridcolor\":\"white\",\"linecolor\":\"white\",\"ticks\":\"\"},\"radialaxis\":{\"gridcolor\":\"white\",\"linecolor\":\"white\",\"ticks\":\"\"}},\"ternary\":{\"bgcolor\":\"#E5ECF6\",\"aaxis\":{\"gridcolor\":\"white\",\"linecolor\":\"white\",\"ticks\":\"\"},\"baxis\":{\"gridcolor\":\"white\",\"linecolor\":\"white\",\"ticks\":\"\"},\"caxis\":{\"gridcolor\":\"white\",\"linecolor\":\"white\",\"ticks\":\"\"}},\"coloraxis\":{\"colorbar\":{\"outlinewidth\":0,\"ticks\":\"\"}},\"colorscale\":{\"sequential\":[[0.0,\"#0d0887\"],[0.1111111111111111,\"#46039f\"],[0.2222222222222222,\"#7201a8\"],[0.3333333333333333,\"#9c179e\"],[0.4444444444444444,\"#bd3786\"],[0.5555555555555556,\"#d8576b\"],[0.6666666666666666,\"#ed7953\"],[0.7777777777777778,\"#fb9f3a\"],[0.8888888888888888,\"#fdca26\"],[1.0,\"#f0f921\"]],\"sequentialminus\":[[0.0,\"#0d0887\"],[0.1111111111111111,\"#46039f\"],[0.2222222222222222,\"#7201a8\"],[0.3333333333333333,\"#9c179e\"],[0.4444444444444444,\"#bd3786\"],[0.5555555555555556,\"#d8576b\"],[0.6666666666666666,\"#ed7953\"],[0.7777777777777778,\"#fb9f3a\"],[0.8888888888888888,\"#fdca26\"],[1.0,\"#f0f921\"]],\"diverging\":[[0,\"#8e0152\"],[0.1,\"#c51b7d\"],[0.2,\"#de77ae\"],[0.3,\"#f1b6da\"],[0.4,\"#fde0ef\"],[0.5,\"#f7f7f7\"],[0.6,\"#e6f5d0\"],[0.7,\"#b8e186\"],[0.8,\"#7fbc41\"],[0.9,\"#4d9221\"],[1,\"#276419\"]]},\"xaxis\":{\"gridcolor\":\"white\",\"linecolor\":\"white\",\"ticks\":\"\",\"title\":{\"standoff\":15},\"zerolinecolor\":\"white\",\"automargin\":true,\"zerolinewidth\":2},\"yaxis\":{\"gridcolor\":\"white\",\"linecolor\":\"white\",\"ticks\":\"\",\"title\":{\"standoff\":15},\"zerolinecolor\":\"white\",\"automargin\":true,\"zerolinewidth\":2},\"scene\":{\"xaxis\":{\"backgroundcolor\":\"#E5ECF6\",\"gridcolor\":\"white\",\"linecolor\":\"white\",\"showbackground\":true,\"ticks\":\"\",\"zerolinecolor\":\"white\",\"gridwidth\":2},\"yaxis\":{\"backgroundcolor\":\"#E5ECF6\",\"gridcolor\":\"white\",\"linecolor\":\"white\",\"showbackground\":true,\"ticks\":\"\",\"zerolinecolor\":\"white\",\"gridwidth\":2},\"zaxis\":{\"backgroundcolor\":\"#E5ECF6\",\"gridcolor\":\"white\",\"linecolor\":\"white\",\"showbackground\":true,\"ticks\":\"\",\"zerolinecolor\":\"white\",\"gridwidth\":2}},\"shapedefaults\":{\"line\":{\"color\":\"#2a3f5f\"}},\"annotationdefaults\":{\"arrowcolor\":\"#2a3f5f\",\"arrowhead\":0,\"arrowwidth\":1},\"geo\":{\"bgcolor\":\"white\",\"landcolor\":\"#E5ECF6\",\"subunitcolor\":\"white\",\"showland\":true,\"showlakes\":true,\"lakecolor\":\"white\"},\"title\":{\"x\":0.05},\"mapbox\":{\"style\":\"light\"}}},\"xaxis\":{\"anchor\":\"y\",\"domain\":[0.0,1.0],\"title\":{\"text\":\"States\"}},\"yaxis\":{\"anchor\":\"x\",\"domain\":[0.0,1.0],\"title\":{\"text\":\"Time (in days)\"}},\"title\":{\"text\":\"Response and Pickup vs. States\"},\"showlegend\":true,\"shapes\":[{\"line\":{\"color\":\"violet\",\"width\":1},\"type\":\"line\",\"x0\":-0.5,\"x1\":38.5,\"y0\":13.332706094051096,\"y1\":13.332706094051096},{\"line\":{\"color\":\"darkviolet\",\"width\":1},\"type\":\"line\",\"x0\":-0.5,\"x1\":38.5,\"y0\":8.906037436197895,\"y1\":8.906037436197895}]},                        {\"responsive\": true}                    ).then(function(){\n",
       "                            \n",
       "var gd = document.getElementById('c1bf9f6e-b006-4ccf-ae54-5824fb13978d');\n",
       "var x = new MutationObserver(function (mutations, observer) {{\n",
       "        var display = window.getComputedStyle(gd).display;\n",
       "        if (!display || display === 'none') {{\n",
       "            console.log([gd, 'removed!']);\n",
       "            Plotly.purge(gd);\n",
       "            observer.disconnect();\n",
       "        }}\n",
       "}});\n",
       "\n",
       "// Listen for the removal of the full notebook cells\n",
       "var notebookContainer = gd.closest('#notebook-container');\n",
       "if (notebookContainer) {{\n",
       "    x.observe(notebookContainer, {childList: true});\n",
       "}}\n",
       "\n",
       "// Listen for the clearing of the current output cell\n",
       "var outputEl = gd.closest('.output');\n",
       "if (outputEl) {{\n",
       "    x.observe(outputEl, {childList: true});\n",
       "}}\n",
       "\n",
       "                        })                };                });            </script>        </div>"
      ]
     },
     "metadata": {},
     "output_type": "display_data"
    }
   ],
   "source": [
    "from plotly.subplots import make_subplots\n",
    "fig_b = make_subplots(rows=1, cols=1)\n",
    "\n",
    "# Add figure 1 to subplot 1\n",
    "fig_b.add_trace(fig3.update(marker_color='lightblue'), row=1, col=1)\n",
    "\n",
    "# Add figure 2 to subplot 1\n",
    "fig_b.add_trace(fig4.update(marker_color='darkblue'), row=1, col=1)\n",
    "\n",
    "\n",
    "fig_b.update_layout(xaxis_title='States', \n",
    "                  yaxis_title='Time (in days)',\n",
    "                  title = \"Response and Pickup vs. States\",\n",
    "                 showlegend=True)\n",
    "\n",
    "avg_3 = np.mean(grouped3.values / pd.Timedelta(days=1))\n",
    "fig_b.add_shape(\n",
    "    type='line',\n",
    "    x0=-0.5,\n",
    "    y0=avg_3,\n",
    "    x1=len(grouped3.index)-0.5,\n",
    "    y1=avg_3,\n",
    "    line=dict(color='violet', width=1)\n",
    ")\n",
    "\n",
    "avg_4 = np.mean(grouped4.values / pd.Timedelta(days=1))\n",
    "fig_b.add_shape(\n",
    "    type='line',\n",
    "    x0=-0.5,\n",
    "    y0=avg_4,\n",
    "    x1=len(grouped4.index)-0.5,\n",
    "    y1=avg_4,\n",
    "    line=dict(color='darkviolet', width=1)\n",
    ")\n",
    "\n",
    "\n",
    "# Show the combined figure\n",
    "fig_b.show()"
   ]
  },
  {
   "cell_type": "code",
   "execution_count": 353,
   "id": "6e28216d-959a-4231-8ca5-0bc561d253cc",
   "metadata": {},
   "outputs": [
    {
     "data": {
      "application/vnd.plotly.v1+json": {
       "config": {
        "plotlyServerURL": "https://plot.ly"
       },
       "data": [
        {
         "coloraxis": "coloraxis",
         "geo": "geo",
         "hovertemplate": "state=%{location}<br>No.=%{z}<extra></extra>",
         "locationmode": "USA-states",
         "locations": [
          "AK",
          "AL",
          "AR",
          "AZ",
          "CA",
          "CT",
          "FL",
          "GA",
          "HI",
          "IA",
          "IL",
          "IN",
          "KS",
          "LA",
          "MA",
          "MD",
          "ME",
          "MI",
          "MO",
          "MS",
          "NC",
          "NE",
          "NH",
          "NJ",
          "NM",
          "NY",
          "OK",
          "PA",
          "SC",
          "SD",
          "TN",
          "TX",
          "US",
          "UT",
          "VA",
          "VT",
          "WI",
          "WV",
          "WY"
         ],
         "name": "",
         "type": "choropleth",
         "z": [
          4.409965277777777,
          26.622604166666665,
          6.629803240740741,
          2.828125,
          12.344513888888889,
          6.733796296296297,
          2.4572569444444445,
          28.46837962962963,
          4.420011574074074,
          14.080300925925926,
          7.386550925925926,
          10.618414351851852,
          12.129618055555556,
          5.561851851851852,
          6.816215277777777,
          12.121400462962963,
          4.084317129629629,
          4.917326388888889,
          1.8072222222222223,
          13.038298611111111,
          7.119247685185186,
          7.929108796296297,
          5.629907407407408,
          2.1884259259259258,
          3.473101851851852,
          4.102002314814815,
          8.408518518518518,
          14.91880787037037,
          22.74787037037037,
          1.353425925925926,
          5.153310185185185,
          9.929756944444444,
          10.003518518518518,
          28.860127314814815,
          3.738472222222222,
          5.893634259259259,
          2.394375,
          6.4301967592592595,
          9.585428240740741
         ]
        }
       ],
       "layout": {
        "autosize": true,
        "coloraxis": {
         "colorbar": {
          "title": {
           "text": "No."
          }
         },
         "colorscale": [
          [
           0,
           "#ADD8E6"
          ],
          [
           0.2,
           "#87BCE7"
          ],
          [
           0.4,
           "#649CDB"
          ],
          [
           0.6,
           "#4178B0"
          ],
          [
           0.8,
           "#1F527B"
          ],
          [
           1,
           "#192D52"
          ]
         ]
        },
        "geo": {
         "center": {
          "lat": 38.84826787097048,
          "lon": -95.36784780143775
         },
         "domain": {
          "x": [
           0,
           1
          ],
          "y": [
           0,
           1
          ]
         },
         "projection": {
          "scale": 1.0083524548946008
         },
         "scope": "usa"
        },
        "legend": {
         "tracegroupgap": 0
        },
        "margin": {
         "t": 60
        },
        "template": {
         "data": {
          "bar": [
           {
            "error_x": {
             "color": "#2a3f5f"
            },
            "error_y": {
             "color": "#2a3f5f"
            },
            "marker": {
             "line": {
              "color": "#E5ECF6",
              "width": 0.5
             },
             "pattern": {
              "fillmode": "overlay",
              "size": 10,
              "solidity": 0.2
             }
            },
            "type": "bar"
           }
          ],
          "barpolar": [
           {
            "marker": {
             "line": {
              "color": "#E5ECF6",
              "width": 0.5
             },
             "pattern": {
              "fillmode": "overlay",
              "size": 10,
              "solidity": 0.2
             }
            },
            "type": "barpolar"
           }
          ],
          "carpet": [
           {
            "aaxis": {
             "endlinecolor": "#2a3f5f",
             "gridcolor": "white",
             "linecolor": "white",
             "minorgridcolor": "white",
             "startlinecolor": "#2a3f5f"
            },
            "baxis": {
             "endlinecolor": "#2a3f5f",
             "gridcolor": "white",
             "linecolor": "white",
             "minorgridcolor": "white",
             "startlinecolor": "#2a3f5f"
            },
            "type": "carpet"
           }
          ],
          "choropleth": [
           {
            "colorbar": {
             "outlinewidth": 0,
             "ticks": ""
            },
            "type": "choropleth"
           }
          ],
          "contour": [
           {
            "colorbar": {
             "outlinewidth": 0,
             "ticks": ""
            },
            "colorscale": [
             [
              0,
              "#0d0887"
             ],
             [
              0.1111111111111111,
              "#46039f"
             ],
             [
              0.2222222222222222,
              "#7201a8"
             ],
             [
              0.3333333333333333,
              "#9c179e"
             ],
             [
              0.4444444444444444,
              "#bd3786"
             ],
             [
              0.5555555555555556,
              "#d8576b"
             ],
             [
              0.6666666666666666,
              "#ed7953"
             ],
             [
              0.7777777777777778,
              "#fb9f3a"
             ],
             [
              0.8888888888888888,
              "#fdca26"
             ],
             [
              1,
              "#f0f921"
             ]
            ],
            "type": "contour"
           }
          ],
          "contourcarpet": [
           {
            "colorbar": {
             "outlinewidth": 0,
             "ticks": ""
            },
            "type": "contourcarpet"
           }
          ],
          "heatmap": [
           {
            "colorbar": {
             "outlinewidth": 0,
             "ticks": ""
            },
            "colorscale": [
             [
              0,
              "#0d0887"
             ],
             [
              0.1111111111111111,
              "#46039f"
             ],
             [
              0.2222222222222222,
              "#7201a8"
             ],
             [
              0.3333333333333333,
              "#9c179e"
             ],
             [
              0.4444444444444444,
              "#bd3786"
             ],
             [
              0.5555555555555556,
              "#d8576b"
             ],
             [
              0.6666666666666666,
              "#ed7953"
             ],
             [
              0.7777777777777778,
              "#fb9f3a"
             ],
             [
              0.8888888888888888,
              "#fdca26"
             ],
             [
              1,
              "#f0f921"
             ]
            ],
            "type": "heatmap"
           }
          ],
          "heatmapgl": [
           {
            "colorbar": {
             "outlinewidth": 0,
             "ticks": ""
            },
            "colorscale": [
             [
              0,
              "#0d0887"
             ],
             [
              0.1111111111111111,
              "#46039f"
             ],
             [
              0.2222222222222222,
              "#7201a8"
             ],
             [
              0.3333333333333333,
              "#9c179e"
             ],
             [
              0.4444444444444444,
              "#bd3786"
             ],
             [
              0.5555555555555556,
              "#d8576b"
             ],
             [
              0.6666666666666666,
              "#ed7953"
             ],
             [
              0.7777777777777778,
              "#fb9f3a"
             ],
             [
              0.8888888888888888,
              "#fdca26"
             ],
             [
              1,
              "#f0f921"
             ]
            ],
            "type": "heatmapgl"
           }
          ],
          "histogram": [
           {
            "marker": {
             "pattern": {
              "fillmode": "overlay",
              "size": 10,
              "solidity": 0.2
             }
            },
            "type": "histogram"
           }
          ],
          "histogram2d": [
           {
            "colorbar": {
             "outlinewidth": 0,
             "ticks": ""
            },
            "colorscale": [
             [
              0,
              "#0d0887"
             ],
             [
              0.1111111111111111,
              "#46039f"
             ],
             [
              0.2222222222222222,
              "#7201a8"
             ],
             [
              0.3333333333333333,
              "#9c179e"
             ],
             [
              0.4444444444444444,
              "#bd3786"
             ],
             [
              0.5555555555555556,
              "#d8576b"
             ],
             [
              0.6666666666666666,
              "#ed7953"
             ],
             [
              0.7777777777777778,
              "#fb9f3a"
             ],
             [
              0.8888888888888888,
              "#fdca26"
             ],
             [
              1,
              "#f0f921"
             ]
            ],
            "type": "histogram2d"
           }
          ],
          "histogram2dcontour": [
           {
            "colorbar": {
             "outlinewidth": 0,
             "ticks": ""
            },
            "colorscale": [
             [
              0,
              "#0d0887"
             ],
             [
              0.1111111111111111,
              "#46039f"
             ],
             [
              0.2222222222222222,
              "#7201a8"
             ],
             [
              0.3333333333333333,
              "#9c179e"
             ],
             [
              0.4444444444444444,
              "#bd3786"
             ],
             [
              0.5555555555555556,
              "#d8576b"
             ],
             [
              0.6666666666666666,
              "#ed7953"
             ],
             [
              0.7777777777777778,
              "#fb9f3a"
             ],
             [
              0.8888888888888888,
              "#fdca26"
             ],
             [
              1,
              "#f0f921"
             ]
            ],
            "type": "histogram2dcontour"
           }
          ],
          "mesh3d": [
           {
            "colorbar": {
             "outlinewidth": 0,
             "ticks": ""
            },
            "type": "mesh3d"
           }
          ],
          "parcoords": [
           {
            "line": {
             "colorbar": {
              "outlinewidth": 0,
              "ticks": ""
             }
            },
            "type": "parcoords"
           }
          ],
          "pie": [
           {
            "automargin": true,
            "type": "pie"
           }
          ],
          "scatter": [
           {
            "fillpattern": {
             "fillmode": "overlay",
             "size": 10,
             "solidity": 0.2
            },
            "type": "scatter"
           }
          ],
          "scatter3d": [
           {
            "line": {
             "colorbar": {
              "outlinewidth": 0,
              "ticks": ""
             }
            },
            "marker": {
             "colorbar": {
              "outlinewidth": 0,
              "ticks": ""
             }
            },
            "type": "scatter3d"
           }
          ],
          "scattercarpet": [
           {
            "marker": {
             "colorbar": {
              "outlinewidth": 0,
              "ticks": ""
             }
            },
            "type": "scattercarpet"
           }
          ],
          "scattergeo": [
           {
            "marker": {
             "colorbar": {
              "outlinewidth": 0,
              "ticks": ""
             }
            },
            "type": "scattergeo"
           }
          ],
          "scattergl": [
           {
            "marker": {
             "colorbar": {
              "outlinewidth": 0,
              "ticks": ""
             }
            },
            "type": "scattergl"
           }
          ],
          "scattermapbox": [
           {
            "marker": {
             "colorbar": {
              "outlinewidth": 0,
              "ticks": ""
             }
            },
            "type": "scattermapbox"
           }
          ],
          "scatterpolar": [
           {
            "marker": {
             "colorbar": {
              "outlinewidth": 0,
              "ticks": ""
             }
            },
            "type": "scatterpolar"
           }
          ],
          "scatterpolargl": [
           {
            "marker": {
             "colorbar": {
              "outlinewidth": 0,
              "ticks": ""
             }
            },
            "type": "scatterpolargl"
           }
          ],
          "scatterternary": [
           {
            "marker": {
             "colorbar": {
              "outlinewidth": 0,
              "ticks": ""
             }
            },
            "type": "scatterternary"
           }
          ],
          "surface": [
           {
            "colorbar": {
             "outlinewidth": 0,
             "ticks": ""
            },
            "colorscale": [
             [
              0,
              "#0d0887"
             ],
             [
              0.1111111111111111,
              "#46039f"
             ],
             [
              0.2222222222222222,
              "#7201a8"
             ],
             [
              0.3333333333333333,
              "#9c179e"
             ],
             [
              0.4444444444444444,
              "#bd3786"
             ],
             [
              0.5555555555555556,
              "#d8576b"
             ],
             [
              0.6666666666666666,
              "#ed7953"
             ],
             [
              0.7777777777777778,
              "#fb9f3a"
             ],
             [
              0.8888888888888888,
              "#fdca26"
             ],
             [
              1,
              "#f0f921"
             ]
            ],
            "type": "surface"
           }
          ],
          "table": [
           {
            "cells": {
             "fill": {
              "color": "#EBF0F8"
             },
             "line": {
              "color": "white"
             }
            },
            "header": {
             "fill": {
              "color": "#C8D4E3"
             },
             "line": {
              "color": "white"
             }
            },
            "type": "table"
           }
          ]
         },
         "layout": {
          "annotationdefaults": {
           "arrowcolor": "#2a3f5f",
           "arrowhead": 0,
           "arrowwidth": 1
          },
          "autotypenumbers": "strict",
          "coloraxis": {
           "colorbar": {
            "outlinewidth": 0,
            "ticks": ""
           }
          },
          "colorscale": {
           "diverging": [
            [
             0,
             "#8e0152"
            ],
            [
             0.1,
             "#c51b7d"
            ],
            [
             0.2,
             "#de77ae"
            ],
            [
             0.3,
             "#f1b6da"
            ],
            [
             0.4,
             "#fde0ef"
            ],
            [
             0.5,
             "#f7f7f7"
            ],
            [
             0.6,
             "#e6f5d0"
            ],
            [
             0.7,
             "#b8e186"
            ],
            [
             0.8,
             "#7fbc41"
            ],
            [
             0.9,
             "#4d9221"
            ],
            [
             1,
             "#276419"
            ]
           ],
           "sequential": [
            [
             0,
             "#0d0887"
            ],
            [
             0.1111111111111111,
             "#46039f"
            ],
            [
             0.2222222222222222,
             "#7201a8"
            ],
            [
             0.3333333333333333,
             "#9c179e"
            ],
            [
             0.4444444444444444,
             "#bd3786"
            ],
            [
             0.5555555555555556,
             "#d8576b"
            ],
            [
             0.6666666666666666,
             "#ed7953"
            ],
            [
             0.7777777777777778,
             "#fb9f3a"
            ],
            [
             0.8888888888888888,
             "#fdca26"
            ],
            [
             1,
             "#f0f921"
            ]
           ],
           "sequentialminus": [
            [
             0,
             "#0d0887"
            ],
            [
             0.1111111111111111,
             "#46039f"
            ],
            [
             0.2222222222222222,
             "#7201a8"
            ],
            [
             0.3333333333333333,
             "#9c179e"
            ],
            [
             0.4444444444444444,
             "#bd3786"
            ],
            [
             0.5555555555555556,
             "#d8576b"
            ],
            [
             0.6666666666666666,
             "#ed7953"
            ],
            [
             0.7777777777777778,
             "#fb9f3a"
            ],
            [
             0.8888888888888888,
             "#fdca26"
            ],
            [
             1,
             "#f0f921"
            ]
           ]
          },
          "colorway": [
           "#636efa",
           "#EF553B",
           "#00cc96",
           "#ab63fa",
           "#FFA15A",
           "#19d3f3",
           "#FF6692",
           "#B6E880",
           "#FF97FF",
           "#FECB52"
          ],
          "font": {
           "color": "#2a3f5f"
          },
          "geo": {
           "bgcolor": "white",
           "lakecolor": "white",
           "landcolor": "#E5ECF6",
           "showlakes": true,
           "showland": true,
           "subunitcolor": "white"
          },
          "hoverlabel": {
           "align": "left"
          },
          "hovermode": "closest",
          "mapbox": {
           "style": "light"
          },
          "paper_bgcolor": "white",
          "plot_bgcolor": "#E5ECF6",
          "polar": {
           "angularaxis": {
            "gridcolor": "white",
            "linecolor": "white",
            "ticks": ""
           },
           "bgcolor": "#E5ECF6",
           "radialaxis": {
            "gridcolor": "white",
            "linecolor": "white",
            "ticks": ""
           }
          },
          "scene": {
           "xaxis": {
            "backgroundcolor": "#E5ECF6",
            "gridcolor": "white",
            "gridwidth": 2,
            "linecolor": "white",
            "showbackground": true,
            "ticks": "",
            "zerolinecolor": "white"
           },
           "yaxis": {
            "backgroundcolor": "#E5ECF6",
            "gridcolor": "white",
            "gridwidth": 2,
            "linecolor": "white",
            "showbackground": true,
            "ticks": "",
            "zerolinecolor": "white"
           },
           "zaxis": {
            "backgroundcolor": "#E5ECF6",
            "gridcolor": "white",
            "gridwidth": 2,
            "linecolor": "white",
            "showbackground": true,
            "ticks": "",
            "zerolinecolor": "white"
           }
          },
          "shapedefaults": {
           "line": {
            "color": "#2a3f5f"
           }
          },
          "ternary": {
           "aaxis": {
            "gridcolor": "white",
            "linecolor": "white",
            "ticks": ""
           },
           "baxis": {
            "gridcolor": "white",
            "linecolor": "white",
            "ticks": ""
           },
           "bgcolor": "#E5ECF6",
           "caxis": {
            "gridcolor": "white",
            "linecolor": "white",
            "ticks": ""
           }
          },
          "title": {
           "x": 0.05
          },
          "xaxis": {
           "automargin": true,
           "gridcolor": "white",
           "linecolor": "white",
           "ticks": "",
           "title": {
            "standoff": 15
           },
           "zerolinecolor": "white",
           "zerolinewidth": 2
          },
          "yaxis": {
           "automargin": true,
           "gridcolor": "white",
           "linecolor": "white",
           "ticks": "",
           "title": {
            "standoff": 15
           },
           "zerolinecolor": "white",
           "zerolinewidth": 2
          }
         }
        }
       }
      },
      "image/png": "[encoded data removed]",
      "text/html": [
       "<div>                            <div id=\"46cf4934-23b0-4f31-a955-460120bcfaca\" class=\"plotly-graph-div\" style=\"height:525px; width:100%;\"></div>            <script type=\"text/javascript\">                require([\"plotly\"], function(Plotly) {                    window.PLOTLYENV=window.PLOTLYENV || {};                                    if (document.getElementById(\"46cf4934-23b0-4f31-a955-460120bcfaca\")) {                    Plotly.newPlot(                        \"46cf4934-23b0-4f31-a955-460120bcfaca\",                        [{\"coloraxis\":\"coloraxis\",\"geo\":\"geo\",\"hovertemplate\":\"state=%{location}<br>No.=%{z}<extra></extra>\",\"locationmode\":\"USA-states\",\"locations\":[\"AK\",\"AL\",\"AR\",\"AZ\",\"CA\",\"CT\",\"FL\",\"GA\",\"HI\",\"IA\",\"IL\",\"IN\",\"KS\",\"LA\",\"MA\",\"MD\",\"ME\",\"MI\",\"MO\",\"MS\",\"NC\",\"NE\",\"NH\",\"NJ\",\"NM\",\"NY\",\"OK\",\"PA\",\"SC\",\"SD\",\"TN\",\"TX\",\"US\",\"UT\",\"VA\",\"VT\",\"WI\",\"WV\",\"WY\"],\"name\":\"\",\"z\":[4.409965277777777,26.622604166666665,6.629803240740741,2.828125,12.344513888888889,6.733796296296297,2.4572569444444445,28.46837962962963,4.420011574074074,14.080300925925926,7.386550925925926,10.618414351851852,12.129618055555556,5.561851851851852,6.816215277777777,12.121400462962963,4.084317129629629,4.917326388888889,1.8072222222222223,13.038298611111111,7.119247685185186,7.929108796296297,5.629907407407408,2.1884259259259258,3.473101851851852,4.102002314814815,8.408518518518518,14.91880787037037,22.74787037037037,1.353425925925926,5.153310185185185,9.929756944444444,10.003518518518518,28.860127314814815,3.738472222222222,5.893634259259259,2.394375,6.4301967592592595,9.585428240740741],\"type\":\"choropleth\"}],                        {\"template\":{\"data\":{\"histogram2dcontour\":[{\"type\":\"histogram2dcontour\",\"colorbar\":{\"outlinewidth\":0,\"ticks\":\"\"},\"colorscale\":[[0.0,\"#0d0887\"],[0.1111111111111111,\"#46039f\"],[0.2222222222222222,\"#7201a8\"],[0.3333333333333333,\"#9c179e\"],[0.4444444444444444,\"#bd3786\"],[0.5555555555555556,\"#d8576b\"],[0.6666666666666666,\"#ed7953\"],[0.7777777777777778,\"#fb9f3a\"],[0.8888888888888888,\"#fdca26\"],[1.0,\"#f0f921\"]]}],\"choropleth\":[{\"type\":\"choropleth\",\"colorbar\":{\"outlinewidth\":0,\"ticks\":\"\"}}],\"histogram2d\":[{\"type\":\"histogram2d\",\"colorbar\":{\"outlinewidth\":0,\"ticks\":\"\"},\"colorscale\":[[0.0,\"#0d0887\"],[0.1111111111111111,\"#46039f\"],[0.2222222222222222,\"#7201a8\"],[0.3333333333333333,\"#9c179e\"],[0.4444444444444444,\"#bd3786\"],[0.5555555555555556,\"#d8576b\"],[0.6666666666666666,\"#ed7953\"],[0.7777777777777778,\"#fb9f3a\"],[0.8888888888888888,\"#fdca26\"],[1.0,\"#f0f921\"]]}],\"heatmap\":[{\"type\":\"heatmap\",\"colorbar\":{\"outlinewidth\":0,\"ticks\":\"\"},\"colorscale\":[[0.0,\"#0d0887\"],[0.1111111111111111,\"#46039f\"],[0.2222222222222222,\"#7201a8\"],[0.3333333333333333,\"#9c179e\"],[0.4444444444444444,\"#bd3786\"],[0.5555555555555556,\"#d8576b\"],[0.6666666666666666,\"#ed7953\"],[0.7777777777777778,\"#fb9f3a\"],[0.8888888888888888,\"#fdca26\"],[1.0,\"#f0f921\"]]}],\"heatmapgl\":[{\"type\":\"heatmapgl\",\"colorbar\":{\"outlinewidth\":0,\"ticks\":\"\"},\"colorscale\":[[0.0,\"#0d0887\"],[0.1111111111111111,\"#46039f\"],[0.2222222222222222,\"#7201a8\"],[0.3333333333333333,\"#9c179e\"],[0.4444444444444444,\"#bd3786\"],[0.5555555555555556,\"#d8576b\"],[0.6666666666666666,\"#ed7953\"],[0.7777777777777778,\"#fb9f3a\"],[0.8888888888888888,\"#fdca26\"],[1.0,\"#f0f921\"]]}],\"contourcarpet\":[{\"type\":\"contourcarpet\",\"colorbar\":{\"outlinewidth\":0,\"ticks\":\"\"}}],\"contour\":[{\"type\":\"contour\",\"colorbar\":{\"outlinewidth\":0,\"ticks\":\"\"},\"colorscale\":[[0.0,\"#0d0887\"],[0.1111111111111111,\"#46039f\"],[0.2222222222222222,\"#7201a8\"],[0.3333333333333333,\"#9c179e\"],[0.4444444444444444,\"#bd3786\"],[0.5555555555555556,\"#d8576b\"],[0.6666666666666666,\"#ed7953\"],[0.7777777777777778,\"#fb9f3a\"],[0.8888888888888888,\"#fdca26\"],[1.0,\"#f0f921\"]]}],\"surface\":[{\"type\":\"surface\",\"colorbar\":{\"outlinewidth\":0,\"ticks\":\"\"},\"colorscale\":[[0.0,\"#0d0887\"],[0.1111111111111111,\"#46039f\"],[0.2222222222222222,\"#7201a8\"],[0.3333333333333333,\"#9c179e\"],[0.4444444444444444,\"#bd3786\"],[0.5555555555555556,\"#d8576b\"],[0.6666666666666666,\"#ed7953\"],[0.7777777777777778,\"#fb9f3a\"],[0.8888888888888888,\"#fdca26\"],[1.0,\"#f0f921\"]]}],\"mesh3d\":[{\"type\":\"mesh3d\",\"colorbar\":{\"outlinewidth\":0,\"ticks\":\"\"}}],\"scatter\":[{\"fillpattern\":{\"fillmode\":\"overlay\",\"size\":10,\"solidity\":0.2},\"type\":\"scatter\"}],\"parcoords\":[{\"type\":\"parcoords\",\"line\":{\"colorbar\":{\"outlinewidth\":0,\"ticks\":\"\"}}}],\"scatterpolargl\":[{\"type\":\"scatterpolargl\",\"marker\":{\"colorbar\":{\"outlinewidth\":0,\"ticks\":\"\"}}}],\"bar\":[{\"error_x\":{\"color\":\"#2a3f5f\"},\"error_y\":{\"color\":\"#2a3f5f\"},\"marker\":{\"line\":{\"color\":\"#E5ECF6\",\"width\":0.5},\"pattern\":{\"fillmode\":\"overlay\",\"size\":10,\"solidity\":0.2}},\"type\":\"bar\"}],\"scattergeo\":[{\"type\":\"scattergeo\",\"marker\":{\"colorbar\":{\"outlinewidth\":0,\"ticks\":\"\"}}}],\"scatterpolar\":[{\"type\":\"scatterpolar\",\"marker\":{\"colorbar\":{\"outlinewidth\":0,\"ticks\":\"\"}}}],\"histogram\":[{\"marker\":{\"pattern\":{\"fillmode\":\"overlay\",\"size\":10,\"solidity\":0.2}},\"type\":\"histogram\"}],\"scattergl\":[{\"type\":\"scattergl\",\"marker\":{\"colorbar\":{\"outlinewidth\":0,\"ticks\":\"\"}}}],\"scatter3d\":[{\"type\":\"scatter3d\",\"line\":{\"colorbar\":{\"outlinewidth\":0,\"ticks\":\"\"}},\"marker\":{\"colorbar\":{\"outlinewidth\":0,\"ticks\":\"\"}}}],\"scattermapbox\":[{\"type\":\"scattermapbox\",\"marker\":{\"colorbar\":{\"outlinewidth\":0,\"ticks\":\"\"}}}],\"scatterternary\":[{\"type\":\"scatterternary\",\"marker\":{\"colorbar\":{\"outlinewidth\":0,\"ticks\":\"\"}}}],\"scattercarpet\":[{\"type\":\"scattercarpet\",\"marker\":{\"colorbar\":{\"outlinewidth\":0,\"ticks\":\"\"}}}],\"carpet\":[{\"aaxis\":{\"endlinecolor\":\"#2a3f5f\",\"gridcolor\":\"white\",\"linecolor\":\"white\",\"minorgridcolor\":\"white\",\"startlinecolor\":\"#2a3f5f\"},\"baxis\":{\"endlinecolor\":\"#2a3f5f\",\"gridcolor\":\"white\",\"linecolor\":\"white\",\"minorgridcolor\":\"white\",\"startlinecolor\":\"#2a3f5f\"},\"type\":\"carpet\"}],\"table\":[{\"cells\":{\"fill\":{\"color\":\"#EBF0F8\"},\"line\":{\"color\":\"white\"}},\"header\":{\"fill\":{\"color\":\"#C8D4E3\"},\"line\":{\"color\":\"white\"}},\"type\":\"table\"}],\"barpolar\":[{\"marker\":{\"line\":{\"color\":\"#E5ECF6\",\"width\":0.5},\"pattern\":{\"fillmode\":\"overlay\",\"size\":10,\"solidity\":0.2}},\"type\":\"barpolar\"}],\"pie\":[{\"automargin\":true,\"type\":\"pie\"}]},\"layout\":{\"autotypenumbers\":\"strict\",\"colorway\":[\"#636efa\",\"#EF553B\",\"#00cc96\",\"#ab63fa\",\"#FFA15A\",\"#19d3f3\",\"#FF6692\",\"#B6E880\",\"#FF97FF\",\"#FECB52\"],\"font\":{\"color\":\"#2a3f5f\"},\"hovermode\":\"closest\",\"hoverlabel\":{\"align\":\"left\"},\"paper_bgcolor\":\"white\",\"plot_bgcolor\":\"#E5ECF6\",\"polar\":{\"bgcolor\":\"#E5ECF6\",\"angularaxis\":{\"gridcolor\":\"white\",\"linecolor\":\"white\",\"ticks\":\"\"},\"radialaxis\":{\"gridcolor\":\"white\",\"linecolor\":\"white\",\"ticks\":\"\"}},\"ternary\":{\"bgcolor\":\"#E5ECF6\",\"aaxis\":{\"gridcolor\":\"white\",\"linecolor\":\"white\",\"ticks\":\"\"},\"baxis\":{\"gridcolor\":\"white\",\"linecolor\":\"white\",\"ticks\":\"\"},\"caxis\":{\"gridcolor\":\"white\",\"linecolor\":\"white\",\"ticks\":\"\"}},\"coloraxis\":{\"colorbar\":{\"outlinewidth\":0,\"ticks\":\"\"}},\"colorscale\":{\"sequential\":[[0.0,\"#0d0887\"],[0.1111111111111111,\"#46039f\"],[0.2222222222222222,\"#7201a8\"],[0.3333333333333333,\"#9c179e\"],[0.4444444444444444,\"#bd3786\"],[0.5555555555555556,\"#d8576b\"],[0.6666666666666666,\"#ed7953\"],[0.7777777777777778,\"#fb9f3a\"],[0.8888888888888888,\"#fdca26\"],[1.0,\"#f0f921\"]],\"sequentialminus\":[[0.0,\"#0d0887\"],[0.1111111111111111,\"#46039f\"],[0.2222222222222222,\"#7201a8\"],[0.3333333333333333,\"#9c179e\"],[0.4444444444444444,\"#bd3786\"],[0.5555555555555556,\"#d8576b\"],[0.6666666666666666,\"#ed7953\"],[0.7777777777777778,\"#fb9f3a\"],[0.8888888888888888,\"#fdca26\"],[1.0,\"#f0f921\"]],\"diverging\":[[0,\"#8e0152\"],[0.1,\"#c51b7d\"],[0.2,\"#de77ae\"],[0.3,\"#f1b6da\"],[0.4,\"#fde0ef\"],[0.5,\"#f7f7f7\"],[0.6,\"#e6f5d0\"],[0.7,\"#b8e186\"],[0.8,\"#7fbc41\"],[0.9,\"#4d9221\"],[1,\"#276419\"]]},\"xaxis\":{\"gridcolor\":\"white\",\"linecolor\":\"white\",\"ticks\":\"\",\"title\":{\"standoff\":15},\"zerolinecolor\":\"white\",\"automargin\":true,\"zerolinewidth\":2},\"yaxis\":{\"gridcolor\":\"white\",\"linecolor\":\"white\",\"ticks\":\"\",\"title\":{\"standoff\":15},\"zerolinecolor\":\"white\",\"automargin\":true,\"zerolinewidth\":2},\"scene\":{\"xaxis\":{\"backgroundcolor\":\"#E5ECF6\",\"gridcolor\":\"white\",\"linecolor\":\"white\",\"showbackground\":true,\"ticks\":\"\",\"zerolinecolor\":\"white\",\"gridwidth\":2},\"yaxis\":{\"backgroundcolor\":\"#E5ECF6\",\"gridcolor\":\"white\",\"linecolor\":\"white\",\"showbackground\":true,\"ticks\":\"\",\"zerolinecolor\":\"white\",\"gridwidth\":2},\"zaxis\":{\"backgroundcolor\":\"#E5ECF6\",\"gridcolor\":\"white\",\"linecolor\":\"white\",\"showbackground\":true,\"ticks\":\"\",\"zerolinecolor\":\"white\",\"gridwidth\":2}},\"shapedefaults\":{\"line\":{\"color\":\"#2a3f5f\"}},\"annotationdefaults\":{\"arrowcolor\":\"#2a3f5f\",\"arrowhead\":0,\"arrowwidth\":1},\"geo\":{\"bgcolor\":\"white\",\"landcolor\":\"#E5ECF6\",\"subunitcolor\":\"white\",\"showland\":true,\"showlakes\":true,\"lakecolor\":\"white\"},\"title\":{\"x\":0.05},\"mapbox\":{\"style\":\"light\"}}},\"geo\":{\"domain\":{\"x\":[0.0,1.0],\"y\":[0.0,1.0]},\"center\":{},\"scope\":\"usa\"},\"coloraxis\":{\"colorbar\":{\"title\":{\"text\":\"No.\"}},\"colorscale\":[[0.0,\"#ADD8E6\"],[0.2,\"#87BCE7\"],[0.4,\"#649CDB\"],[0.6,\"#4178B0\"],[0.8,\"#1F527B\"],[1.0,\"#192D52\"]]},\"legend\":{\"tracegroupgap\":0},\"margin\":{\"t\":60}},                        {\"responsive\": true}                    ).then(function(){\n",
       "                            \n",
       "var gd = document.getElementById('46cf4934-23b0-4f31-a955-460120bcfaca');\n",
       "var x = new MutationObserver(function (mutations, observer) {{\n",
       "        var display = window.getComputedStyle(gd).display;\n",
       "        if (!display || display === 'none') {{\n",
       "            console.log([gd, 'removed!']);\n",
       "            Plotly.purge(gd);\n",
       "            observer.disconnect();\n",
       "        }}\n",
       "}});\n",
       "\n",
       "// Listen for the removal of the full notebook cells\n",
       "var notebookContainer = gd.closest('#notebook-container');\n",
       "if (notebookContainer) {{\n",
       "    x.observe(notebookContainer, {childList: true});\n",
       "}}\n",
       "\n",
       "// Listen for the clearing of the current output cell\n",
       "var outputEl = gd.closest('.output');\n",
       "if (outputEl) {{\n",
       "    x.observe(outputEl, {childList: true});\n",
       "}}\n",
       "\n",
       "                        })                };                });            </script>        </div>"
      ]
     },
     "metadata": {},
     "output_type": "display_data"
    }
   ],
   "source": [
    "import plotly.express as px\n",
    "import pandas as pd\n",
    "from datetime import timedelta\n",
    "\n",
    "# Example data: a DataFrame with state abbreviations and values\n",
    "# Replace this with your actual data\n",
    "\n",
    "\n",
    "\n",
    "response_time = pd.DataFrame({\n",
    "    'state': grouped4.index,\n",
    "    'No.': grouped4.values.astype('timedelta64[s]').astype(int)/86400\n",
    "\n",
    "\n",
    "})\n",
    "\n",
    "custom_color_scale = [[0.0, '#ADD8E6'],\n",
    "                      [0.2, '#87BCE7'],\n",
    "                      [0.4, '#649CDB'],\n",
    "                      [0.6, '#4178B0'],\n",
    "                      [0.8, '#1F527B'],\n",
    "                      [1.0, '#192D52']]\n",
    "\n",
    "\n",
    "# Create a choropleth map of the United States using Plotly Express\n",
    "fig5 = px.choropleth(\n",
    "    response_time,\n",
    "    locations='state',  # Column containing state abbreviations\n",
    "    color='No.',  # Column containing values\n",
    "    locationmode='USA-states',  # Specify the location mode as US states\n",
    "    scope='usa',  # Limit the map scope to the USA\n",
    "    color_continuous_scale=custom_color_scale  # Specify the title of the map\n",
    ")\n",
    "\n",
    "# Show the map\n",
    "fig5.show()\n",
    "\n"
   ]
  },
  {
   "cell_type": "code",
   "execution_count": 322,
   "id": "01694446-c154-4dc5-a453-a92fc1119c02",
   "metadata": {},
   "outputs": [
    {
     "data": {
      "text/plain": [
       "30009783745012430"
      ]
     },
     "execution_count": 322,
     "metadata": {},
     "output_type": "execute_result"
    }
   ],
   "source": [
    "td"
   ]
  },
  {
   "cell_type": "code",
   "execution_count": 290,
   "id": "83994d4e-a600-4b66-8e90-585029ae6ace",
   "metadata": {},
   "outputs": [
    {
     "data": {
      "text/plain": [
       "Category\n",
       "Consumer Financial Questions        4 days 01:18:12.975016880\n",
       "Education                           0 days 23:18:32.923076923\n",
       "Family and Children                 1 days 12:43:07.036814288\n",
       "Health and Disability               1 days 10:47:45.987878787\n",
       "Housing and Homelessness            4 days 01:14:22.882841823\n",
       "Income Maintenance                  3 days 03:19:39.211180124\n",
       "Individual Rights                   3 days 13:21:49.272727272\n",
       "Other                               2 days 20:46:09.766123982\n",
       "Work, Employment and Unemployment   3 days 23:23:36.927983539\n",
       "Name: response, dtype: timedelta64[ns]"
      ]
     },
     "execution_count": 290,
     "metadata": {},
     "output_type": "execute_result"
    }
   ],
   "source": [
    "merged.loc[(merged.StateAbbr_x == \"SC\")].groupby(\"Category\")['response'].mean()"
   ]
  },
  {
   "cell_type": "code",
   "execution_count": 274,
   "id": "71fd8594-2cdb-47a0-9bb8-33db12e4216b",
   "metadata": {},
   "outputs": [
    {
     "data": {
      "text/plain": [
       "Category\n",
       "Consumer Financial Questions        14 days 10:21:14.380823767\n",
       "Education                           18 days 15:54:24.083916084\n",
       "Family and Children                 26 days 18:46:47.614178968\n",
       "Health and Disability               31 days 12:24:58.533333333\n",
       "Housing and Homelessness            20 days 03:53:19.121447721\n",
       "Income Maintenance                  23 days 17:26:41.223602484\n",
       "Individual Rights                   21 days 15:02:29.984848484\n",
       "Other                               19 days 19:12:48.093299937\n",
       "Work, Employment and Unemployment   31 days 06:40:19.640946502\n",
       "Name: pickup, dtype: timedelta64[ns]"
      ]
     },
     "execution_count": 274,
     "metadata": {},
     "output_type": "execute_result"
    }
   ],
   "source": [
    "merged.loc[(merged.StateAbbr_x == \"SC\")].groupby(\"Category\")['pickup'].mean()"
   ]
  },
  {
   "cell_type": "code",
   "execution_count": 275,
   "id": "1f8969d9-bc18-48a8-ad38-d0e66c0bf751",
   "metadata": {},
   "outputs": [
    {
     "data": {
      "text/plain": [
       "Category\n",
       "Consumer Financial Questions         10 days 18:29:41.069444444\n",
       "Education                                5 days 12:12:01.500000\n",
       "Family and Children                  14 days 15:09:16.341692790\n",
       "Health and Disability               277 days 03:47:03.453781512\n",
       "Housing and Homelessness             14 days 02:02:40.156583630\n",
       "Income Maintenance                   11 days 05:02:36.538461538\n",
       "Individual Rights                       11 days 05:21:23.453125\n",
       "Juvenile                                       10 days 00:04:30\n",
       "Other                                 9 days 01:01:07.259109311\n",
       "Work, Employment and Unemployment    15 days 23:29:20.227272727\n",
       "Name: response, dtype: timedelta64[ns]"
      ]
     },
     "execution_count": 275,
     "metadata": {},
     "output_type": "execute_result"
    }
   ],
   "source": [
    "merged.loc[(merged.StateAbbr_x == \"AL\")].groupby(\"Category\")['response'].mean()"
   ]
  },
  {
   "cell_type": "code",
   "execution_count": 282,
   "id": "ff7b4106-7f5d-45ec-bd31-dab699b0bdb1",
   "metadata": {},
   "outputs": [
    {
     "data": {
      "text/plain": [
       "Category\n",
       "Consumer Financial Questions        26 days 01:20:32.159722222\n",
       "Education                                     15 days 02:13:35\n",
       "Family and Children                 26 days 13:56:55.092476489\n",
       "Health and Disability               20 days 08:47:46.705882353\n",
       "Housing and Homelessness            29 days 06:02:53.861209964\n",
       "Income Maintenance                  36 days 17:37:49.730769231\n",
       "Individual Rights                      32 days 17:39:05.500000\n",
       "Juvenile                                      44 days 09:22:13\n",
       "Other                               25 days 15:21:34.004048583\n",
       "Work, Employment and Unemployment             23 days 08:36:47\n",
       "Name: pickup, dtype: timedelta64[ns]"
      ]
     },
     "execution_count": 282,
     "metadata": {},
     "output_type": "execute_result"
    }
   ],
   "source": [
    "merged.loc[(merged.StateAbbr_x == \"AL\")].groupby(\"Category\")['pickup'].mean()"
   ]
  },
  {
   "cell_type": "code",
   "execution_count": 297,
   "id": "9b0af33a-23dd-48ff-8697-4d839910d37c",
   "metadata": {},
   "outputs": [
    {
     "name": "stdout",
     "output_type": "stream",
     "text": [
      "CreatedUtc\n",
      "\\t\\t'#             0 days 00:28:56\n",
      "\\t                10 days 02:13:07\n",
      "                   6 days 07:17:54\n",
      "         9 days 01:30:00.733333333\n",
      "   #        5 days 18:31:00.500000\n",
      "                    ...           \n",
      "yet                1 days 21:43:16\n",
      "you         4 days 00:22:11.800000\n",
      "â€      5 days 22:09:50.666666666\n",
      "â€¦â               0 days 01:19:18\n",
      "â€™               11 days 00:44:07\n",
      "Name: response, Length: 2101, dtype: timedelta64[ns]\n"
     ]
    }
   ],
   "source": [
    "grouped5 = merged.groupby(merged['CreatedUtc'].str[:4])['response'].mean()\n",
    "\n",
    "print(grouped5)"
   ]
  },
  {
   "cell_type": "code",
   "execution_count": 293,
   "id": "626ce3d8-5067-40eb-af99-86795741c1fe",
   "metadata": {},
   "outputs": [
    {
     "data": {
      "text/plain": [
       "0         2018\n",
       "2         2018\n",
       "3         2018\n",
       "5         2018\n",
       "6         2018\n",
       "          ... \n",
       "405529    2022\n",
       "405530     ###\n",
       "405531    2022\n",
       "405532    2022\n",
       "405533    2022\n",
       "Name: CreatedUtc, Length: 358829, dtype: object"
      ]
     },
     "execution_count": 293,
     "metadata": {},
     "output_type": "execute_result"
    }
   ],
   "source": [
    "merged['CreatedUtc'].str[:4]"
   ]
  },
  {
   "cell_type": "code",
   "execution_count": null,
   "id": "b23d0ce2-f139-4fc4-8a44-e039c83c9d34",
   "metadata": {},
   "outputs": [],
   "source": []
  },
  {
   "cell_type": "code",
   "execution_count": null,
   "id": "157e9c2a-80fb-4dd0-8c53-2276aaf47080",
   "metadata": {},
   "outputs": [],
   "source": []
  },
  {
   "cell_type": "code",
   "execution_count": null,
   "id": "70a661f3-faec-4c3a-8477-42c7ccbd5144",
   "metadata": {},
   "outputs": [],
   "source": []
  },
  {
   "cell_type": "code",
   "execution_count": null,
   "id": "48cf396e-42ac-484a-bfda-e49711338e9d",
   "metadata": {},
   "outputs": [],
   "source": []
  },
  {
   "cell_type": "code",
   "execution_count": null,
   "id": "0864f573-4053-4952-afc4-45f488bd5ebe",
   "metadata": {},
   "outputs": [],
   "source": []
  },
  {
   "cell_type": "code",
   "execution_count": null,
   "id": "8ad46ba1-ede4-40fa-aad1-423f05e83b61",
   "metadata": {},
   "outputs": [],
   "source": []
  }
 ],
 "metadata": {
  "kernelspec": {
   "display_name": "Python 3 (ipykernel)",
   "language": "python",
   "name": "python3"
  },
  "language_info": {
   "codemirror_mode": {
    "name": "ipython",
    "version": 3
   },
   "file_extension": ".py",
   "mimetype": "text/x-python",
   "name": "python",
   "nbconvert_exporter": "python",
   "pygments_lexer": "ipython3",
   "version": "3.8.16"
  }
 },
 "nbformat": 4,
 "nbformat_minor": 5
}
