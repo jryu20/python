{
 "cells": [
  {
   "cell_type": "markdown",
   "id": "e8fc89ad",
   "metadata": {},
   "source": [
    "# Homework 7\n",
    "\n",
    "In this assignment, you'll deploy your Python data science skills to perform a few analyses on the topics of equity and algorithmic bias. \n",
    "\n",
    "> I affirm that I personally wrote the text, code, and comments in this homework assignment.\n",
    "\n",
    "> I received help from \\[Dylan Kawashiri\\] who gave me suggestions on \\[problem 1\\].\n",
    "\n",
    "\\- \\[Jun Ryu\\]"
   ]
  },
  {
   "cell_type": "markdown",
   "id": "96911010",
   "metadata": {},
   "source": [
    "# Comments are not required for problem 1. They are required for problem 2.\n",
    "\n",
    "## Problem 1\n",
    "\n",
    "In this problem, you will create a visualization of gender representation in artwork in the [Tate Art Museum](https://github.com/tategallery/collection).\n",
    "Run the code block below to acquire and prepare the data. There's a lot of information that I've removed in the data preparation below, including the name of the artist, their birth and death dates, and various details about each piece. You may wish to explore the full data sets later, but for now, I thought you'd prefer to be able to focus on only the columns needed for today. "
   ]
  },
  {
   "cell_type": "code",
   "execution_count": 1,
   "id": "0d981647",
   "metadata": {},
   "outputs": [],
   "source": [
    "import pandas as pd\n",
    "artwork = pd.read_csv('https://raw.githubusercontent.com/rfordatascience/tidytuesday/master/data/2021/2021-01-12/artwork.csv')\n",
    "artists = pd.read_csv(\"https://github.com/tategallery/collection/raw/master/artist_data.csv\")\n",
    "\n",
    "artwork.to_csv(\"artwork.csv\", index = False)\n",
    "artists.to_csv(\"artists.csv\", index = False)"
   ]
  },
  {
   "cell_type": "code",
   "execution_count": 2,
   "id": "51ee6803",
   "metadata": {},
   "outputs": [],
   "source": [
    "import pandas as pd\n",
    "artwork = pd.read_csv('https://raw.githubusercontent.com/rfordatascience/tidytuesday/master/data/2021/2021-01-12/artwork.csv')\n",
    "artists = pd.read_csv(\"https://github.com/tategallery/collection/raw/master/artist_data.csv\")\n",
    "\n",
    "artwork[\"id\"] = artwork[\"artistId\"]\n",
    "artwork = artwork[[\"id\", \"year\", \"acquisitionYear\", \"title\", \"medium\"]]\n",
    "artists = artists[[\"id\", \"gender\"]]\n",
    "df = pd.merge(artwork, artists)\n",
    "\n",
    "def dimension(med_string):\n",
    "    \"\"\"\n",
    "    Assign a dimension to a given piece of artwork based on the description\n",
    "    of the medium, supplied as a string. \n",
    "    Media that include the words \"paper\", \"canvas\", \"oil\", or \"paint\" are assumed \n",
    "    2D. \n",
    "    Media that are not 2d and include the words \"bronze\", \"stone\", or \"ceramic\" are \n",
    "    assumed 3D. \n",
    "    Otherwise, the media is \"Other/Unknown\"\n",
    "    \n",
    "    @param med_string: str, the original medium\n",
    "    @return dim: one of \"2D\", \"3D\", or \"Other/Unknown\" according to the rules above. \n",
    "    \"\"\"\n",
    "    if type(med_string) != str:\n",
    "        med_string = str(med_string)\n",
    "    med_string = med_string.lower()\n",
    "    if any([w in med_string for w in [\"paper\", \"canvas\", \"oil\", \"paint\"]]):\n",
    "        return \"2D\"\n",
    "    elif any([w in med_string for w in [\"bronze\", \"stone\", \"ceramic\"]]):\n",
    "        return \"3D\"\n",
    "    else:\n",
    "        return \"Other/Unknown\"\n",
    "\n",
    "df[\"dimension\"] = [dimension(m) for m in df[\"medium\"]]\n",
    "df = df[[\"title\",\"acquisitionYear\", \"gender\", \"dimension\"]]"
   ]
  },
  {
   "cell_type": "markdown",
   "id": "c17c4f17",
   "metadata": {},
   "source": [
    "- The `title` column gives the title of each piece. \n",
    "- The `acquisitionYear` states the year in which the artwork was acquired by the Tate. \n",
    "- The `gender` column gives the gender of the artist. \n",
    "- The `dimension` column states whether the piece is two-dimensional (like a drawing or a painting) or three-dimensional (like a sculpture or ceramic). This is determined from a more thorough description of the medium using the simple `dimension()` function from above, although a more careful classification might be beneficial. A number of pieces have \"Other/Unknown\" in this column. "
   ]
  },
  {
   "cell_type": "code",
   "execution_count": 3,
   "id": "ee7ef47d",
   "metadata": {},
   "outputs": [
    {
     "data": {
      "text/html": [
       "<div>\n",
       "<style scoped>\n",
       "    .dataframe tbody tr th:only-of-type {\n",
       "        vertical-align: middle;\n",
       "    }\n",
       "\n",
       "    .dataframe tbody tr th {\n",
       "        vertical-align: top;\n",
       "    }\n",
       "\n",
       "    .dataframe thead th {\n",
       "        text-align: right;\n",
       "    }\n",
       "</style>\n",
       "<table border=\"1\" class=\"dataframe\">\n",
       "  <thead>\n",
       "    <tr style=\"text-align: right;\">\n",
       "      <th></th>\n",
       "      <th>title</th>\n",
       "      <th>acquisitionYear</th>\n",
       "      <th>gender</th>\n",
       "      <th>dimension</th>\n",
       "    </tr>\n",
       "  </thead>\n",
       "  <tbody>\n",
       "    <tr>\n",
       "      <th>0</th>\n",
       "      <td>A Figure Bowing before a Seated Old Man with h...</td>\n",
       "      <td>1922.0</td>\n",
       "      <td>Male</td>\n",
       "      <td>2D</td>\n",
       "    </tr>\n",
       "    <tr>\n",
       "      <th>1</th>\n",
       "      <td>Two Drawings of Frightened Figures, Probably f...</td>\n",
       "      <td>1922.0</td>\n",
       "      <td>Male</td>\n",
       "      <td>2D</td>\n",
       "    </tr>\n",
       "    <tr>\n",
       "      <th>2</th>\n",
       "      <td>The Preaching of Warning. Verso: An Old Man En...</td>\n",
       "      <td>1922.0</td>\n",
       "      <td>Male</td>\n",
       "      <td>2D</td>\n",
       "    </tr>\n",
       "    <tr>\n",
       "      <th>3</th>\n",
       "      <td>Six Drawings of Figures with Outstretched Arms</td>\n",
       "      <td>1922.0</td>\n",
       "      <td>Male</td>\n",
       "      <td>2D</td>\n",
       "    </tr>\n",
       "    <tr>\n",
       "      <th>4</th>\n",
       "      <td>The Circle of the Lustful: Francesca da Rimini...</td>\n",
       "      <td>1919.0</td>\n",
       "      <td>Male</td>\n",
       "      <td>2D</td>\n",
       "    </tr>\n",
       "    <tr>\n",
       "      <th>...</th>\n",
       "      <td>...</td>\n",
       "      <td>...</td>\n",
       "      <td>...</td>\n",
       "      <td>...</td>\n",
       "    </tr>\n",
       "    <tr>\n",
       "      <th>69190</th>\n",
       "      <td>Venus Mound (from Tampax Romana)</td>\n",
       "      <td>2013.0</td>\n",
       "      <td>Male</td>\n",
       "      <td>Other/Unknown</td>\n",
       "    </tr>\n",
       "    <tr>\n",
       "      <th>69191</th>\n",
       "      <td>It’s That Time Of The Month (from Tampax Romana)</td>\n",
       "      <td>2013.0</td>\n",
       "      <td>Male</td>\n",
       "      <td>Other/Unknown</td>\n",
       "    </tr>\n",
       "    <tr>\n",
       "      <th>69192</th>\n",
       "      <td>Larvae (from Tampax Romana)</td>\n",
       "      <td>2013.0</td>\n",
       "      <td>Male</td>\n",
       "      <td>Other/Unknown</td>\n",
       "    </tr>\n",
       "    <tr>\n",
       "      <th>69193</th>\n",
       "      <td>Living Womb (from Tampax Romana)</td>\n",
       "      <td>2013.0</td>\n",
       "      <td>Male</td>\n",
       "      <td>2D</td>\n",
       "    </tr>\n",
       "    <tr>\n",
       "      <th>69194</th>\n",
       "      <td>Dancing Scene in the West Indies</td>\n",
       "      <td>2013.0</td>\n",
       "      <td>Male</td>\n",
       "      <td>2D</td>\n",
       "    </tr>\n",
       "  </tbody>\n",
       "</table>\n",
       "<p>69195 rows × 4 columns</p>\n",
       "</div>"
      ],
      "text/plain": [
       "                                                   title  acquisitionYear  \\\n",
       "0      A Figure Bowing before a Seated Old Man with h...           1922.0   \n",
       "1      Two Drawings of Frightened Figures, Probably f...           1922.0   \n",
       "2      The Preaching of Warning. Verso: An Old Man En...           1922.0   \n",
       "3         Six Drawings of Figures with Outstretched Arms           1922.0   \n",
       "4      The Circle of the Lustful: Francesca da Rimini...           1919.0   \n",
       "...                                                  ...              ...   \n",
       "69190                   Venus Mound (from Tampax Romana)           2013.0   \n",
       "69191   It’s That Time Of The Month (from Tampax Romana)           2013.0   \n",
       "69192                        Larvae (from Tampax Romana)           2013.0   \n",
       "69193                   Living Womb (from Tampax Romana)           2013.0   \n",
       "69194                   Dancing Scene in the West Indies           2013.0   \n",
       "\n",
       "      gender      dimension  \n",
       "0       Male             2D  \n",
       "1       Male             2D  \n",
       "2       Male             2D  \n",
       "3       Male             2D  \n",
       "4       Male             2D  \n",
       "...      ...            ...  \n",
       "69190   Male  Other/Unknown  \n",
       "69191   Male  Other/Unknown  \n",
       "69192   Male  Other/Unknown  \n",
       "69193   Male             2D  \n",
       "69194   Male             2D  \n",
       "\n",
       "[69195 rows x 4 columns]"
      ]
     },
     "execution_count": 3,
     "metadata": {},
     "output_type": "execute_result"
    }
   ],
   "source": [
    "# use this block to inspect the data if you'd like\n",
    "df"
   ]
  },
  {
   "cell_type": "markdown",
   "id": "33212201",
   "metadata": {},
   "source": [
    "\n",
    "#### What You Should Do\n",
    "\n",
    "Create a plot to answer the following question: \n",
    "\n",
    "> How has the amount of artwork **by female artists** increased with time, as a fraction of all artwork owned by the Tate? Are women better represented in the Tate through certain forms of artistic expression than others? \n",
    "\n",
    "To answer this question, create the following plot: \n",
    "\n",
    "<figure class=\"image\" style=\"width:80%\">\n",
    "  <img src=\"https://raw.githubusercontent.com/PhilChodrow/PIC16A/master/_images/art-output.png\" alt=\"\">\n",
    "  <figcaption><i></i></figcaption>\n",
    "</figure>\n",
    "\n",
    "The vertical axis is the percentage of all artwork created by female artists which was acquired on or before the stated date. You may assume that artwork, once acquired, remains permanently with the Tate (i.e. it is not lost or sold).  \n",
    "\n",
    "### Specs\n",
    "\n",
    "- There are multiple good approaches. A solution using a `for`- or `while`-loop can receive partial credit. For full credit, no explicit loops! \n",
    "- It is not necessary for your output to exactly match mine -- feel free to change colors, modify the labels, etc. However, you should ensure that you include axis labels and the legend. \n",
    "- Comments and docstrings are not necessary in this problem. \n",
    "- You are free to use any Python tools you find helpful in order to create this plot. \n",
    "\n",
    "#### \"What if my plot looks different?\"\n",
    "\n",
    "Your final product should closely resemble the supplied example. You may make reasonable alternative choices that lead your plot to look slightly different in small details. You can receive full credit as long as your result looks quantitatively similar and has the same qualitative interpretation.\n",
    "\n",
    "\n",
    "### Hints\n",
    "\n",
    "- `np.cumsum()`. You'll need to appropriately sort `df` first in order to get a good result. "
   ]
  },
  {
   "cell_type": "code",
   "execution_count": 4,
   "id": "d5d44aac",
   "metadata": {},
   "outputs": [
    {
     "data": {
      "image/png": "[encoded data removed]",
      "text/plain": [
       "<Figure size 432x288 with 1 Axes>"
      ]
     },
     "metadata": {
      "needs_background": "light"
     },
     "output_type": "display_data"
    }
   ],
   "source": [
    "# your solution here\n",
    "import numpy as np\n",
    "from matplotlib import pyplot as plt\n",
    "\n",
    "df[\"gender\"] = df[\"gender\"]==\"Female\"\n",
    "df[\"gender\"] = df[\"gender\"].astype(int)\n",
    "df_copy = df.groupby([\"dimension\", \"gender\", \"acquisitionYear\"]).count().T\n",
    "df_copy2d = df_copy[\"2D\",1]\n",
    "df_copy3d = df_copy[\"3D\",1]\n",
    "df_copy_other = df_copy[\"Other/Unknown\", 1]\n",
    "df_copy_total = df.groupby([\"dimension\", \"acquisitionYear\"]).size().to_frame().T\n",
    "df_copy_total[\"2D\"]=0\n",
    "df_copy_total[\"3D\"]=0\n",
    "df_copy_total[\"Other/Unknown\"]=0\n",
    "\n",
    "merge2d = df_copy_total[\"2D\"].merge(df_copy2d, how = \"right\").fillna(0)\n",
    "merge3d = df_copy_total[\"3D\"].merge(df_copy3d, how = \"right\").fillna(0)\n",
    "merge_other = df_copy_total[\"Other/Unknown\"].merge(df_copy_other, how = \"right\").fillna(0)\n",
    "\n",
    "df_total = df.groupby([\"dimension\", \"acquisitionYear\"]).size().to_frame().T\n",
    "\n",
    "fig, ax = plt.subplots(1)\n",
    "ax.plot(df_total[\"2D\"].columns, (np.true_divide(np.cumsum(np.array(merge2d)), np.cumsum(np.array(df_total[\"2D\"])))), label = \"2D\")\n",
    "ax.plot(df_total[\"3D\"].columns, (np.true_divide(np.cumsum(np.array(merge3d)), np.cumsum(np.array(df_total[\"3D\"])))), label = \"3D\")\n",
    "ax.plot(df_total[\"Other/Unknown\"].columns, (np.true_divide(np.cumsum(np.array(merge_other)), np.cumsum(np.array(df_total[\"Other/Unknown\"])))), label = \"Other/Unknown\")\n",
    "\n",
    "ax.set(xlabel = \"Year of Acquisition\", ylabel = \"Proportion of Work by Female Artists\", title = \"Representation of Female Artists in the Tate Art Museum\")\n",
    "plt.legend()\n",
    "plt.tight_layout()"
   ]
  },
  {
   "cell_type": "markdown",
   "id": "8e25e112",
   "metadata": {},
   "source": [
    "## Problem 2\n",
    "\n",
    "This problem is based on the article \n",
    "\n",
    "> Obermeyer, Z., Powers, B., Vogeli, C., & Mullainathan, S. (2019). Dissecting racial bias in an algorithm used to manage the health of populations. *Science*, 366(6464), 447-453.\n",
    "\n",
    "In this article, the authors use patient medical records, demographics, and insurance claims to study bias in a machine learning model used to predict patient risk. This model has been used to make recommendations about which patients should be admitted to more intensive care programs on the basis of their health. \n",
    "\n",
    "In this problem, you will replicate several of the qualitative findings from this study. \n",
    "\n",
    "The results presented in this article were discussed by Dr. Ruha Benjamin in the video \"[Are We Automating Racism](https://www.youtube.com/watch?v=Ok5sKLXqynQ),\" which was one of the videos we watched as part of our discussion of algorithmic bias in Week 8. You are free to consult either the article or the video when completing this assignment. While doing so may be interesting, it is not likely to concretely help you in the problems below.\n",
    "\n",
    "\n",
    "\n",
    "\n",
    "## Data Access\n",
    "\n",
    "In order to protect patient privacy, the authors did not share the \"real\" data used in their study. Instead, they created a randomized version of the data that preserves many of the same patterns and trends. Run the cell below to access the data. I have also uploaded the CSV file directly to CCLE in case you have issues using this URL. "
   ]
  },
  {
   "cell_type": "code",
   "execution_count": 5,
   "id": "97d97913",
   "metadata": {},
   "outputs": [],
   "source": [
    "import pandas as pd\n",
    "url = \"https://gitlab.com/labsysmed/dissecting-bias/-/raw/master/data/data_new.csv?inline=false\"\n",
    "df = pd.read_csv(url)"
   ]
  },
  {
   "cell_type": "markdown",
   "id": "7816ff0b",
   "metadata": {},
   "source": [
    "There are 48,784 patients represented as rows in the data, and 160 pieces of information about each patient represented as columns. Run the code below to check this: "
   ]
  },
  {
   "cell_type": "code",
   "execution_count": 6,
   "id": "416fe921",
   "metadata": {},
   "outputs": [
    {
     "data": {
      "text/plain": [
       "(48784, 160)"
      ]
     },
     "execution_count": 6,
     "metadata": {},
     "output_type": "execute_result"
    }
   ],
   "source": [
    "df.shape"
   ]
  },
  {
   "cell_type": "markdown",
   "id": "20ac4f1d",
   "metadata": {},
   "source": [
    "A few of the columns are going to be especially important in our analysis: \n",
    "\n",
    "- `risk_score_t` is the algorithm's risk score assigned to a given patient. \n",
    "- `cost_t` is the patient's medical costs in the study period. \n",
    "- `race` is the patient's self-reported race. The authors filtered the data to include only `white` and `black` patients. \n",
    "- `gagne_sum_t` is the total number of chronic illnesses presented by the patient during the study period. \n",
    "- `dem_female` is a patient sex indicator, with `1` indicating female patients and `0` indicating male patients. \n",
    "\n",
    "Run the code below to take a look at these columns. "
   ]
  },
  {
   "cell_type": "code",
   "execution_count": 7,
   "id": "e5916cb5",
   "metadata": {},
   "outputs": [
    {
     "data": {
      "text/html": [
       "<div>\n",
       "<style scoped>\n",
       "    .dataframe tbody tr th:only-of-type {\n",
       "        vertical-align: middle;\n",
       "    }\n",
       "\n",
       "    .dataframe tbody tr th {\n",
       "        vertical-align: top;\n",
       "    }\n",
       "\n",
       "    .dataframe thead th {\n",
       "        text-align: right;\n",
       "    }\n",
       "</style>\n",
       "<table border=\"1\" class=\"dataframe\">\n",
       "  <thead>\n",
       "    <tr style=\"text-align: right;\">\n",
       "      <th></th>\n",
       "      <th>risk_score_t</th>\n",
       "      <th>cost_t</th>\n",
       "      <th>gagne_sum_t</th>\n",
       "      <th>race</th>\n",
       "      <th>dem_female</th>\n",
       "    </tr>\n",
       "  </thead>\n",
       "  <tbody>\n",
       "    <tr>\n",
       "      <th>0</th>\n",
       "      <td>1.987430</td>\n",
       "      <td>1200.0</td>\n",
       "      <td>0</td>\n",
       "      <td>white</td>\n",
       "      <td>0</td>\n",
       "    </tr>\n",
       "    <tr>\n",
       "      <th>1</th>\n",
       "      <td>7.677934</td>\n",
       "      <td>2600.0</td>\n",
       "      <td>3</td>\n",
       "      <td>white</td>\n",
       "      <td>1</td>\n",
       "    </tr>\n",
       "    <tr>\n",
       "      <th>2</th>\n",
       "      <td>0.407678</td>\n",
       "      <td>500.0</td>\n",
       "      <td>0</td>\n",
       "      <td>white</td>\n",
       "      <td>1</td>\n",
       "    </tr>\n",
       "    <tr>\n",
       "      <th>3</th>\n",
       "      <td>0.798369</td>\n",
       "      <td>1300.0</td>\n",
       "      <td>0</td>\n",
       "      <td>white</td>\n",
       "      <td>1</td>\n",
       "    </tr>\n",
       "    <tr>\n",
       "      <th>4</th>\n",
       "      <td>17.513165</td>\n",
       "      <td>1100.0</td>\n",
       "      <td>1</td>\n",
       "      <td>white</td>\n",
       "      <td>1</td>\n",
       "    </tr>\n",
       "  </tbody>\n",
       "</table>\n",
       "</div>"
      ],
      "text/plain": [
       "   risk_score_t  cost_t  gagne_sum_t   race  dem_female\n",
       "0      1.987430  1200.0            0  white           0\n",
       "1      7.677934  2600.0            3  white           1\n",
       "2      0.407678   500.0            0  white           1\n",
       "3      0.798369  1300.0            0  white           1\n",
       "4     17.513165  1100.0            1  white           1"
      ]
     },
     "execution_count": 7,
     "metadata": {},
     "output_type": "execute_result"
    }
   ],
   "source": [
    "cols = ['risk_score_t', 'cost_t', 'gagne_sum_t','race',  'dem_female']\n",
    "df[cols].head()"
   ]
  },
  {
   "cell_type": "markdown",
   "id": "b37a2633",
   "metadata": {},
   "source": [
    "## Part A\n",
    "\n",
    "Here's how the algorithm was used in the medical setting: \n",
    "\n",
    "> Patients with higher scores from the algorithm were more likely to be enrolled in “high-risk care management” programs. \n",
    "\n",
    "A high-risk care management program offers additional health resources to patients, including trained healthcare providers to help them manage complex health needs. In other words, \n",
    "\n",
    "> If you are very sick, getting a **high** score on the algorithm can help you receive **more** medical attention. \n",
    "\n",
    "One of the major findings of the study above was that the algorithm tended to give lower scores to Black patients, even when those Black patients were equally sick as White patients. In this part, you will replicate this finding. \n",
    "\n",
    "**To do so, create the following plot:** \n",
    "\n",
    "<figure class=\"image\" style=\"width:70%\">\n",
    "  <img src=\"https://raw.githubusercontent.com/PhilChodrow/PIC16A/master/_images/risk1.png\" alt=\"\">\n",
    "  <figcaption><i></i></figcaption>\n",
    "</figure>\n",
    "\n",
    "#### Key Points\n",
    "\n",
    "- **The vertical axis gives the *percentile risk* of patients assigned by the algorithm, rounded to the nearest percentage point**. A patient in the 85th percentile, for example, received a risk score from the algorithm higher than 84% of all patients and lower than 15% of all patients. The raw risk score (not the percentile) of each patient is contained in the `risk_score_t` column. \n",
    "- **The horizontal axis gives the average number of chronic illnesses presented by patients in the corresponding risk percentile**. For example, White men in the 80th risk score percentile presented, on average, approximately two chronic illnesses. The number of chronic illnesses presented by a patient is contained in the `\"gagne_sum_t\"` column of the data. \n",
    "- Different colors segment Black and White patients (`race`). Two panels distinguish between male and female patients. The `dem_female` column gives the sex of each patient, with `0` representing male and `1` representing female.  \n",
    "\n",
    "### Specs\n",
    "\n",
    "Please attend to the following details:\n",
    "\n",
    "- It is important that you **round the percentile risk scores to the nearest percentile**, and compute the average number of conditions within each rounded percentile. This means that, for example, there should be 101 data points  (percentiles 0%-100%) corresponding to Black women, 101 other data points corresponding to White women, etc. Failure to round and compute the mean will result in your plot containing an unreadable number of points. \n",
    "- The horizontal axis, vertical axis, and axis titles are all appropriately ***capitalized***: the first letter of the first word is capitalized. \n",
    "- The legend title, as well as the legend entries, are also appropriately capitalized. \n",
    "- Beyond these specs, you are free to modify the colors, transparency, etc, and get creative with the text. You are not required to replicate the exact size or aspect ratio of the figure. \n",
    "\n",
    "### Hints\n",
    "\n",
    "- The only columns you need to work with in this problem are: `risk_score_t`, `race`, `gagne_sum_t` (containing the number of chronic illnesses per patient), and `dem_female`\n",
    "- The plotting aspect problem can be solved using either standard `matplotlib` or `seaborn`. Correct approaches using either set of tools will receive full credit. \n",
    "- The percentiles of an data frame column `df[\"x\"]` can be computed by `df[\"x\"].rank()/len(df)`. The results will be values between 0 and 1. One should then multiply by 100 and `round()` the results to obtain the percentiles as integers between 0 and 100. \n",
    "- To compute the mean number of chronic illnesses per percentile, group by the integer percentiles (as well as race and sex) and then compute the `mean` of the `gagne_sum_t` column. \n",
    "- The plotted points should correspond to *average* number of chronic conditions, *grouped by* percentiles and demographic variables. "
   ]
  },
  {
   "cell_type": "code",
   "execution_count": 8,
   "id": "03abb5c4",
   "metadata": {},
   "outputs": [
    {
     "data": {
      "text/html": [
       "<div>\n",
       "<style scoped>\n",
       "    .dataframe tbody tr th:only-of-type {\n",
       "        vertical-align: middle;\n",
       "    }\n",
       "\n",
       "    .dataframe tbody tr th {\n",
       "        vertical-align: top;\n",
       "    }\n",
       "\n",
       "    .dataframe thead th {\n",
       "        text-align: right;\n",
       "    }\n",
       "</style>\n",
       "<table border=\"1\" class=\"dataframe\">\n",
       "  <thead>\n",
       "    <tr style=\"text-align: right;\">\n",
       "      <th></th>\n",
       "      <th>risk_score_t</th>\n",
       "      <th>cost_t</th>\n",
       "      <th>gagne_sum_t</th>\n",
       "      <th>race</th>\n",
       "      <th>dem_female</th>\n",
       "    </tr>\n",
       "  </thead>\n",
       "  <tbody>\n",
       "    <tr>\n",
       "      <th>0</th>\n",
       "      <td>1.987430</td>\n",
       "      <td>1200.0</td>\n",
       "      <td>0</td>\n",
       "      <td>white</td>\n",
       "      <td>0</td>\n",
       "    </tr>\n",
       "    <tr>\n",
       "      <th>1</th>\n",
       "      <td>7.677934</td>\n",
       "      <td>2600.0</td>\n",
       "      <td>3</td>\n",
       "      <td>white</td>\n",
       "      <td>1</td>\n",
       "    </tr>\n",
       "    <tr>\n",
       "      <th>2</th>\n",
       "      <td>0.407678</td>\n",
       "      <td>500.0</td>\n",
       "      <td>0</td>\n",
       "      <td>white</td>\n",
       "      <td>1</td>\n",
       "    </tr>\n",
       "    <tr>\n",
       "      <th>3</th>\n",
       "      <td>0.798369</td>\n",
       "      <td>1300.0</td>\n",
       "      <td>0</td>\n",
       "      <td>white</td>\n",
       "      <td>1</td>\n",
       "    </tr>\n",
       "    <tr>\n",
       "      <th>4</th>\n",
       "      <td>17.513165</td>\n",
       "      <td>1100.0</td>\n",
       "      <td>1</td>\n",
       "      <td>white</td>\n",
       "      <td>1</td>\n",
       "    </tr>\n",
       "    <tr>\n",
       "      <th>...</th>\n",
       "      <td>...</td>\n",
       "      <td>...</td>\n",
       "      <td>...</td>\n",
       "      <td>...</td>\n",
       "      <td>...</td>\n",
       "    </tr>\n",
       "    <tr>\n",
       "      <th>48779</th>\n",
       "      <td>0.611517</td>\n",
       "      <td>800.0</td>\n",
       "      <td>0</td>\n",
       "      <td>white</td>\n",
       "      <td>0</td>\n",
       "    </tr>\n",
       "    <tr>\n",
       "      <th>48780</th>\n",
       "      <td>2.615933</td>\n",
       "      <td>2200.0</td>\n",
       "      <td>1</td>\n",
       "      <td>white</td>\n",
       "      <td>1</td>\n",
       "    </tr>\n",
       "    <tr>\n",
       "      <th>48781</th>\n",
       "      <td>1.358926</td>\n",
       "      <td>800.0</td>\n",
       "      <td>0</td>\n",
       "      <td>white</td>\n",
       "      <td>1</td>\n",
       "    </tr>\n",
       "    <tr>\n",
       "      <th>48782</th>\n",
       "      <td>10.990318</td>\n",
       "      <td>1300.0</td>\n",
       "      <td>3</td>\n",
       "      <td>white</td>\n",
       "      <td>1</td>\n",
       "    </tr>\n",
       "    <tr>\n",
       "      <th>48783</th>\n",
       "      <td>1.681671</td>\n",
       "      <td>4400.0</td>\n",
       "      <td>0</td>\n",
       "      <td>white</td>\n",
       "      <td>1</td>\n",
       "    </tr>\n",
       "  </tbody>\n",
       "</table>\n",
       "<p>48784 rows × 5 columns</p>\n",
       "</div>"
      ],
      "text/plain": [
       "       risk_score_t  cost_t  gagne_sum_t   race  dem_female\n",
       "0          1.987430  1200.0            0  white           0\n",
       "1          7.677934  2600.0            3  white           1\n",
       "2          0.407678   500.0            0  white           1\n",
       "3          0.798369  1300.0            0  white           1\n",
       "4         17.513165  1100.0            1  white           1\n",
       "...             ...     ...          ...    ...         ...\n",
       "48779      0.611517   800.0            0  white           0\n",
       "48780      2.615933  2200.0            1  white           1\n",
       "48781      1.358926   800.0            0  white           1\n",
       "48782     10.990318  1300.0            3  white           1\n",
       "48783      1.681671  4400.0            0  white           1\n",
       "\n",
       "[48784 rows x 5 columns]"
      ]
     },
     "execution_count": 8,
     "metadata": {},
     "output_type": "execute_result"
    }
   ],
   "source": [
    "# feel free to use this cell for \"scratchwork\" (e.g. data exploration). \n",
    "# Place your actual solution in the cell below\n",
    "df[cols]"
   ]
  },
  {
   "cell_type": "code",
   "execution_count": 9,
   "id": "74817d04",
   "metadata": {},
   "outputs": [
    {
     "data": {
      "image/png": "[encoded data removed]",
      "text/plain": [
       "<Figure size 669.925x252 with 2 Axes>"
      ]
     },
     "metadata": {
      "needs_background": "light"
     },
     "output_type": "display_data"
    }
   ],
   "source": [
    "# your solution\n",
    "import seaborn as sns\n",
    "\n",
    "df['Race'] = df['race'].str.capitalize() #recode the data so \"race\", \"black\", and \"white\" are capitalized\n",
    "df[\"percentile\"] = ((df[\"risk_score_t\"].rank()/len(df))*100).round() #calculate the percentile and store in data frame\n",
    "\n",
    "#calculate the mean number of chronic illnesses per percentile and also store in data frame with indices reset (no groupings)\n",
    "df_copy = df.groupby([\"percentile\",\"Race\",\"dem_female\"])[\"gagne_sum_t\"].mean().to_frame(name = 'mean').reset_index()\n",
    "\n",
    "#use relplot to plot the two scatterplots\n",
    "figure = sns.relplot(data=df_copy, x=\"mean\", y=\"percentile\", hue = \"Race\",height = 3.5, aspect = 1.2,\\\n",
    "                      col = \"dem_female\", alpha = .5)\n",
    "figure.set_axis_labels(\"Mean number of chronic illnesses\", \"Percentile Risk Score (from algorithm)\") #set axis labels\n",
    "for axis, title in zip(figure.axes.flat, ['Male', 'Female']): #change the titles from dem_female to the proper ones\n",
    "    axis.set_title(title)"
   ]
  },
  {
   "cell_type": "markdown",
   "id": "b48024e9",
   "metadata": {},
   "source": [
    "## Part B\n",
    "\n",
    "In no more than four sentences, describe the meaning of the plot you produced in Part A. For example, suppose that Patient A is Black, that Patient B is White, and that both Patient A and Patient B have exactly the same chronic illnesses. Are Patient A and Patient B equally likely to be referred to the high-risk care management program? "
   ]
  },
  {
   "cell_type": "markdown",
   "id": "fb8e5c8c",
   "metadata": {},
   "source": [
    "No, Patient A and Patient B are not equally likely to be referred to the high-risk care management program. By observing the two plots, it is evident that the blue dots are generally located below the orange dots in both sexes, indicating that for the same number of chronic illnesses, Black patients will receive a lower risk score. By the nature of the algorithm used in this medical setting, a lower risk score meant less medical attention and ultimately, more exclusion from the care program. \n"
   ]
  },
  {
   "cell_type": "markdown",
   "id": "c1b9c682",
   "metadata": {},
   "source": [
    "## Part C\n",
    "\n",
    "Next, you'll perform an analysis to identify the source of this disparity in Black and White patients. You might imagine that the model was trained to base its risk scores on an \"overall level of health\" in the training data. However, it is very difficult to get data on such a concept. \n",
    "\n",
    "For this reason, the algorithm studied was trained instead using *total medical costs* as the target variable. That is: \n",
    "\n",
    "> The risk score an agent receives is a function of the model's prediction of the total medical costs which will be incurred by that individual. \n",
    "\n",
    "This is a superficially logical choice, since (a) total medical costs are generally correlated with health and (b) costs are regularly recorded in insurance claims data. \n",
    "\n",
    "In this problem, you'll use linear regression to estimate the difference in generated medical costs between White and Black patients in this data set, and comment on this result in the context of Part A and B. \n",
    "\n",
    "### What You Should Do\n",
    "\n",
    "1. If you modified the data frame `df` in any way, you should re-run the code in which you load the data frame. \n",
    "2. Run the supplied cell in order to limit the columns in the data frame to the ones you will use in this analysis. \n",
    "3. The `race` column of the data is currently a string. Encode it using integer labels. \n",
    "4. Partition the data into a target data `y` consisting of the `cost_t` column of `df`. Let the predictor data `X` contain all other columns, excluding `cost_t`. \n",
    "5. Perform a train-test split of `X` and `y`, using 20% of the data as test data. Please pass the argument `random_state = 2021` to your split function in order to ensure reproducibility. **Important**: you should do this using only one function call. \n",
    "6. Create a **linear** regression model and fit it to the training data. Evaluate the `score` of the model on the training and testing data. Here are the scores that I got -- it's ok if yours are a little different. \n",
    "    - Training score: `0.12629789734544883`\n",
    "    - Testing score: `0.12415443228313183`\n",
    "7. Based these results, comment on whether you are concerned about overfitting. **Note**: these are not \"accuracy\" scores but rather \"coefficient of determination\" scores. They are relatively low, but low scores on statistical tasks are common in medical and biological applications. \n",
    "8. Examine the `coef_` attribute of the fitted linear regression model. The `race` column is the first one in the data frame. This means that the very first entry of the `coef_` array gives the model's estimate of the difference in costs between White and Black patients when controlling for sex, age, and medical conditions. Here's what I got -- it's ok if your answer is a little different: \n",
    "    - Coefficient of `race`: `579.9031747777375`. \n",
    "9. Black patients in the US tend to generate *lower* medical costs than their equally-sick White counterparts, due to long-standing disparities in access to medical resources. Using your result from Step 8:\n",
    "    - State your estimate of the difference in medical costs between White and Black patients. \n",
    "    - Describe in no more than 4 sentences how your result would explain the disparities in risk scores from Part A. \n",
    "    \n",
    "    \n",
    "***Note***: *The estimated cost disparity in the published paper is higher, over twice the result given here. This may reflect a methodological difference in their modeling or possibly be a byproduct of their data randomization.* "
   ]
  },
  {
   "cell_type": "markdown",
   "id": "22177eb6",
   "metadata": {},
   "source": [
    "#### Step 1\n",
    "\n",
    "If you modified the data frame `df` in any way in Part A, you should run the code below to reload the data frame. "
   ]
  },
  {
   "cell_type": "code",
   "execution_count": 10,
   "id": "04bc9b28",
   "metadata": {},
   "outputs": [],
   "source": [
    "# Step 1: run, do not modify\n",
    "df = pd.read_csv(url)"
   ]
  },
  {
   "cell_type": "markdown",
   "id": "4e8105b1",
   "metadata": {},
   "source": [
    "#### Step 2\n",
    "\n",
    "Run this cell in order to limit the columns in the data frame to the ones you will use in this analysis. "
   ]
  },
  {
   "cell_type": "code",
   "execution_count": 11,
   "id": "e1b5085f",
   "metadata": {},
   "outputs": [],
   "source": [
    "# Step 2: run, do not modify\n",
    "cols = ['cost_t',\n",
    "        'race',\n",
    "        'dem_female',\n",
    "        'dem_age_band_18-24_tm1',\n",
    "        'dem_age_band_25-34_tm1',\n",
    "        'dem_age_band_35-44_tm1',\n",
    "        'dem_age_band_45-54_tm1',\n",
    "        'dem_age_band_55-64_tm1',\n",
    "        'dem_age_band_65-74_tm1',\n",
    "        'dem_age_band_75+_tm1',\n",
    "        'alcohol_elixhauser_tm1',\n",
    "        'anemia_elixhauser_tm1',\n",
    "        'arrhythmia_elixhauser_tm1',\n",
    "        'arthritis_elixhauser_tm1',\n",
    "        'bloodlossanemia_elixhauser_tm1',\n",
    "        'coagulopathy_elixhauser_tm1',\n",
    "        'compdiabetes_elixhauser_tm1',\n",
    "        'depression_elixhauser_tm1',\n",
    "        'drugabuse_elixhauser_tm1',\n",
    "        'electrolytes_elixhauser_tm1',\n",
    "        'hypertension_elixhauser_tm1',\n",
    "        'hypothyroid_elixhauser_tm1',\n",
    "        'liver_elixhauser_tm1',\n",
    "        'neurodegen_elixhauser_tm1',\n",
    "        'obesity_elixhauser_tm1',\n",
    "        'paralysis_elixhauser_tm1',\n",
    "        'psychosis_elixhauser_tm1',\n",
    "        'pulmcirc_elixhauser_tm1',\n",
    "        'pvd_elixhauser_tm1',\n",
    "        'renal_elixhauser_tm1',\n",
    "        'uncompdiabetes_elixhauser_tm1',\n",
    "        'valvulardz_elixhauser_tm1',\n",
    "        'wtloss_elixhauser_tm1',\n",
    "        'cerebrovasculardz_romano_tm1',\n",
    "        'chf_romano_tm1',\n",
    "        'dementia_romano_tm1',\n",
    "        'hemiplegia_romano_tm1',\n",
    "        'hivaids_romano_tm1',\n",
    "        'metastatic_romano_tm1',\n",
    "        'myocardialinfarct_romano_tm1',\n",
    "        'pulmonarydz_romano_tm1',\n",
    "        'tumor_romano_tm1',\n",
    "        'ulcer_romano_tm1']\n",
    "\n",
    "df = df[cols]"
   ]
  },
  {
   "cell_type": "markdown",
   "id": "713a1fcc",
   "metadata": {},
   "source": [
    "#### Step 3\n",
    "\n",
    "The `race` column of the data is currently a string. Encode it using integer labels. "
   ]
  },
  {
   "cell_type": "code",
   "execution_count": 12,
   "id": "91c73a2e",
   "metadata": {},
   "outputs": [],
   "source": [
    "# Step 3: your code here\n",
    "from sklearn import preprocessing\n",
    "\n",
    "le = preprocessing.LabelEncoder()\n",
    "df[\"race\"] = le.fit_transform(df[\"race\"]) #encode the \"race\" column with 0 and 1"
   ]
  },
  {
   "cell_type": "markdown",
   "id": "3ac9bcbc",
   "metadata": {},
   "source": [
    "#### Step 4\n",
    "\n",
    "Partition the data into a target data `y` consisting of the `cost_t` column of `df`. Let the predictor data `X` contain all other columns, excluding `cost_t`. "
   ]
  },
  {
   "cell_type": "code",
   "execution_count": 13,
   "id": "5711b279",
   "metadata": {},
   "outputs": [],
   "source": [
    "# Step 4: your code here\n",
    "\n",
    "#split the data into predictor and target data\n",
    "X = df.drop([\"cost_t\"], axis=1) \n",
    "y = df[\"cost_t\"]"
   ]
  },
  {
   "cell_type": "markdown",
   "id": "8dd5faea",
   "metadata": {},
   "source": [
    "#### Step 5\n",
    "\n",
    "Perform a train-test split of `X` and `y`, using 20% of the data as test data. Please pass the argument `random_state = 2021` to your split function in order to ensure reproducibility. \n",
    "\n",
    "**Important**: you should do this using only one function call. \n"
   ]
  },
  {
   "cell_type": "code",
   "execution_count": 14,
   "id": "5a29c3c1",
   "metadata": {},
   "outputs": [],
   "source": [
    "# Step 5: your code here\n",
    "from sklearn.model_selection import train_test_split\n",
    " \n",
    "#split X and y into train and test data\n",
    "X_train, X_test, y_train, y_test = train_test_split(X, y, test_size = 0.2, random_state = 2021) "
   ]
  },
  {
   "cell_type": "markdown",
   "id": "9bd590c8",
   "metadata": {},
   "source": [
    "#### Step 6\n",
    "\n",
    "Create a **linear** regression model and fit it to the training data. Evaluate the `score` of the model on the training and testing data. Here are the scores that I got -- it's ok if yours are a little different. \n",
    "- Training score: `0.12629789734544883`\n",
    "- Testing score: `0.12415443228313183`"
   ]
  },
  {
   "cell_type": "code",
   "execution_count": 15,
   "id": "0b1d14ca",
   "metadata": {},
   "outputs": [
    {
     "data": {
      "text/plain": [
       "(0.11068819854675005, 0.14190348809334175)"
      ]
     },
     "execution_count": 15,
     "metadata": {},
     "output_type": "execute_result"
    }
   ],
   "source": [
    "# Step 6: your code here\n",
    "from sklearn.linear_model import LinearRegression\n",
    "\n",
    "LR = LinearRegression()\n",
    "model1 = LR.fit(X_train,y_train) #fitting the training data\n",
    "model2 = LR.fit(X_test,y_test) #fitting the testing data\n",
    "LR.score(X_train,y_train), LR.score(X_test,y_test) #evaluate both scores"
   ]
  },
  {
   "cell_type": "markdown",
   "id": "e7dbfe64",
   "metadata": {},
   "source": [
    "#### Step 7"
   ]
  },
  {
   "cell_type": "markdown",
   "id": "edf7f366",
   "metadata": {},
   "source": [
    "Based the results above, comment on whether you are concerned about overfitting. \n",
    "\n",
    "**Note**: these are not \"accuracy\" scores but rather \"coefficient of determination\" scores. They are relatively low, but low scores on statistical tasks are common in medical and biological applications. \n",
    "\n",
    "Yes, because the score on the training data is so low, it does raise concerns of underfitting. However, as pointed out in the note above, low scores can be common in medical/biological applications and since the score on the testing data was roughly around the same, it gives a bit more credibility to the model. Perhaps, this issue is also raised by the fact that we used a linear regression model; if a polynomial regression was used, the scores might have been a bit better."
   ]
  },
  {
   "cell_type": "markdown",
   "id": "cd0c25d5",
   "metadata": {},
   "source": [
    "#### Step 8\n",
    "\n",
    "Examine the `coef_` attribute of the fitted linear regression model. The `race` column is the first one in the predictor data frame. This means that the very first entry of the `coef_` array gives the model's estimate of the difference in costs between White and Black patients when controlling for sex, age, and medical conditions. Here's what I got -- it's ok if your answer is a little different: \n",
    "- Coefficient of `race`: `579.9031747777375`. "
   ]
  },
  {
   "cell_type": "code",
   "execution_count": 16,
   "id": "129420ef",
   "metadata": {},
   "outputs": [
    {
     "data": {
      "text/plain": [
       "708.8708666017882"
      ]
     },
     "execution_count": 16,
     "metadata": {},
     "output_type": "execute_result"
    }
   ],
   "source": [
    "# Step 8: your code here\n",
    "LR.coef_[0]"
   ]
  },
  {
   "cell_type": "markdown",
   "id": "e1778238",
   "metadata": {},
   "source": [
    "#### Step 9"
   ]
  },
  {
   "cell_type": "markdown",
   "id": "ab05424e",
   "metadata": {},
   "source": [
    "Black patients in the US tend to generate *lower* medical costs than their equally-sick White counterparts, due to long-standing disparities in access to medical resources. Using your result from Step 8:\n",
    "- State your estimate of the difference in medical costs between White and Black patients. \n",
    "- Describe in no more than 4 sentences how your result would explain the disparities in risk scores from Part A. \n",
    "\n"
   ]
  },
  {
   "cell_type": "markdown",
   "id": "a1acb0aa",
   "metadata": {},
   "source": [
    "The estimate of the difference came to be about 710 dollars. This disparity is also reflected in the plots from part A because even if you are equally sick, the Black patients are not able to spend as much as White patients due to the inequities in access to proper medical care. Since the amount of medical attention one receives is proportional to the risk score, Black patients receive a lower risk score due to the fact that they spend less money. Hence, this leads to a further exclusion from the care program, aggravating the inequitable situation even more."
   ]
  },
  {
   "cell_type": "code",
   "execution_count": null,
   "id": "00996fc7",
   "metadata": {},
   "outputs": [],
   "source": []
  }
 ],
 "metadata": {
  "kernelspec": {
   "display_name": "Python 3 (ipykernel)",
   "language": "python",
   "name": "python3"
  },
  "language_info": {
   "codemirror_mode": {
    "name": "ipython",
    "version": 3
   },
   "file_extension": ".py",
   "mimetype": "text/x-python",
   "name": "python",
   "nbconvert_exporter": "python",
   "pygments_lexer": "ipython3",
   "version": "3.9.7"
  }
 },
 "nbformat": 4,
 "nbformat_minor": 5
}
